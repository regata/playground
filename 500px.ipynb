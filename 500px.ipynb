{
 "cells": [
  {
   "cell_type": "code",
   "execution_count": 1,
   "metadata": {
    "collapsed": false
   },
   "outputs": [],
   "source": [
    "# run 'pip install python-500px' to install fivehundredpx library\n",
    "from fivehundredpx.client import FiveHundredPXAPI\n",
    "from os import environ"
   ]
  },
  {
   "cell_type": "code",
   "execution_count": 3,
   "metadata": {
    "collapsed": true
   },
   "outputs": [],
   "source": [
    "CONSUMER_KEY = environ['PX_CONSUMER_KEY']\n",
    "api = FiveHundredPXAPI()"
   ]
  },
  {
   "cell_type": "code",
   "execution_count": 4,
   "metadata": {
    "collapsed": false
   },
   "outputs": [],
   "source": [
    "photos = api.photos(consumer_key=CONSUMER_KEY,\n",
    "                    feature='fresh_week',\n",
    "                    image_size=21, \n",
    "                    sort_direction='asc',\n",
    "                    page=1,\n",
    "                    rpp=50)"
   ]
  },
  {
   "cell_type": "code",
   "execution_count": 5,
   "metadata": {
    "collapsed": false,
    "scrolled": false
   },
   "outputs": [
    {
     "data": {
      "text/plain": [
       "[('https://drscdn.500px.org/photo/123672519/h%3D600_k%3D1_a%3D1/5c263947ba90801b0c31d3a120a21092',\n",
       "  57.1),\n",
       " ('https://drscdn.500px.org/photo/123672967/h%3D600_k%3D1_a%3D1/28ad891833af94f29f6f2173b34f251d',\n",
       "  50.9),\n",
       " ('https://drscdn.500px.org/photo/123670535/h%3D600_k%3D1_a%3D1/19ff790fd11f272e701bac0b1a522948',\n",
       "  47.0),\n",
       " ('https://drscdn.500px.org/photo/123670537/h%3D600_k%3D1_a%3D1/c66a4773537d1bbec7804693eee88a82',\n",
       "  47.0),\n",
       " ('https://drscdn.500px.org/photo/123670539/h%3D600_k%3D1_a%3D1/17f46afc26f9997727a1fdd63d36749c',\n",
       "  47.0),\n",
       " ('https://drscdn.500px.org/photo/123670541/h%3D600_k%3D1_a%3D1/a5a63530bbb708de214a466c7f9b1837',\n",
       "  50.9),\n",
       " ('https://drscdn.500px.org/photo/123670543/h%3D600_k%3D1_a%3D1/63e0ee79677a95783297ffb12f56788e',\n",
       "  30.7),\n",
       " ('https://drscdn.500px.org/photo/123670545/h%3D600_k%3D1_a%3D1/4d0ef4e1fc9bafafe55b753b787bfc44',\n",
       "  57.1),\n",
       " ('https://drscdn.500px.org/photo/123672785/h%3D600_k%3D1_a%3D1/91823429678f6335950ddfea721c9971',\n",
       "  59.7),\n",
       " ('https://drscdn.500px.org/photo/123672863/h%3D600_k%3D1_a%3D1/269ff3f9152e18cea93f0295a88a5123',\n",
       "  30.7),\n",
       " ('https://drscdn.500px.org/photo/123672851/h%3D600_k%3D1_a%3D1/9879f029588706ae638f061d30ec465d',\n",
       "  50.9),\n",
       " ('https://drscdn.500px.org/photo/123672999/h%3D600_k%3D1_a%3D1/18e9ffe94c3c58205372058a9b4e70ca',\n",
       "  48.6),\n",
       " ('https://drscdn.500px.org/photo/123672909/h%3D600_k%3D1_a%3D1/f22823bf3593d2b4218ecda503de8fb5',\n",
       "  64.0),\n",
       " ('https://drscdn.500px.org/photo/123671815/h%3D600_k%3D1_a%3D1/fbf4b04a9564f61ac6ed967ac8fa74a6',\n",
       "  30.7),\n",
       " ('https://drscdn.500px.org/photo/123672845/h%3D600_k%3D1_a%3D1/35a0da3d44a5572400b71ac91179de50',\n",
       "  91.8),\n",
       " ('https://drscdn.500px.org/photo/123672931/h%3D600_k%3D1_a%3D1/180d658d8cdd2ee7df1f7191eb402c5d',\n",
       "  94.6),\n",
       " ('https://drscdn.500px.org/photo/123673009/h%3D600_k%3D1_a%3D1/90f0c35925a4a94c53b3038cb7d54bdd',\n",
       "  22.8),\n",
       " ('https://drscdn.500px.org/photo/123672953/h%3D600_k%3D1_a%3D1/e9a04b74e75f1a287a03fb915a9c7b46',\n",
       "  96.2),\n",
       " ('https://drscdn.500px.org/photo/123672083/h%3D600_k%3D1_a%3D1/9aef5ce1c03761c794d0a3485e8ea9c3',\n",
       "  67.4),\n",
       " ('https://drscdn.500px.org/photo/123672495/h%3D600_k%3D1_a%3D1/83f48fceaf53f3ddc6095fa80d6e0ac8',\n",
       "  50.9),\n",
       " ('https://drscdn.500px.org/photo/123671813/h%3D600_k%3D1_a%3D1/149dbc01cd7f32534ea47c8ed98d36bf',\n",
       "  99.0),\n",
       " ('https://drscdn.500px.org/photo/123672911/h%3D600_k%3D1_a%3D1/e2c426f302b1d1e6bd8ded187fc7198a',\n",
       "  96.1),\n",
       " ('https://drscdn.500px.org/photo/123672913/h%3D600_k%3D1_a%3D1/cbc7552dc30e5295086cca80444d123f',\n",
       "  93.9),\n",
       " ('https://drscdn.500px.org/photo/123672915/h%3D600_k%3D1_a%3D1/7a2f10d3c85ba06bccab432160a19e37',\n",
       "  94.7),\n",
       " ('https://drscdn.500px.org/photo/123672871/h%3D600_k%3D1_a%3D1/5383a4bccc4fde885c74e9d96e0b8a81',\n",
       "  61.9),\n",
       " ('https://drscdn.500px.org/photo/123672855/h%3D600_k%3D1_a%3D1/6c6837a3d1ca58d4943d749e4eab2f76',\n",
       "  47.0),\n",
       " ('https://drscdn.500px.org/photo/123672897/h%3D600_k%3D1_a%3D1/5c2bbe400c8e18da7d81cebcf08f783c',\n",
       "  47.8),\n",
       " ('https://drscdn.500px.org/photo/123672929/h%3D600_k%3D1_a%3D1/e8ebed389001b7cfe86093a293a9a9e2',\n",
       "  30.7),\n",
       " ('https://drscdn.500px.org/photo/123673055/h%3D600_k%3D1_a%3D1/efdb1438f31f9d1b852eb78800bd6bbc',\n",
       "  22.8),\n",
       " ('https://drscdn.500px.org/photo/123673057/h%3D600_k%3D1_a%3D1/027cc3c87bb2afce1e83504ddbbbf74c',\n",
       "  22.8),\n",
       " ('https://drscdn.500px.org/photo/123673059/h%3D600_k%3D1_a%3D1/37b146f7848a5a6499e405c71e2216be',\n",
       "  50.9),\n",
       " ('https://drscdn.500px.org/photo/123672943/h%3D600_k%3D1_a%3D1/404c476a4eda6aeccaea148ec2285756',\n",
       "  37.4),\n",
       " ('https://drscdn.500px.org/photo/123672987/h%3D600_k%3D1_a%3D1/6fc79a438c311def2eee80923708dff5',\n",
       "  12.9),\n",
       " ('https://drscdn.500px.org/photo/123672797/h%3D600_k%3D1_a%3D1/76ac24484e4d736431c54255b60bc6c2',\n",
       "  83.0),\n",
       " ('https://drscdn.500px.org/photo/123673025/h%3D600_k%3D1_a%3D1/b8f5a4225dd46ca58c4077dde054bed9',\n",
       "  37.2),\n",
       " ('https://drscdn.500px.org/photo/123672327/h%3D600_k%3D1_a%3D1/c71f5014ec877fdafd51b0c132661db1',\n",
       "  50.9),\n",
       " ('https://drscdn.500px.org/photo/123672329/h%3D600_k%3D1_a%3D1/7f89d07a9bb15f5d479430bd8265d8b5',\n",
       "  47.0),\n",
       " ('https://drscdn.500px.org/photo/123672867/h%3D600_k%3D1_a%3D1/afb8bd17a474b43eeb9f69a8bc9e6846',\n",
       "  90.0),\n",
       " ('https://drscdn.500px.org/photo/123673081/h%3D600_k%3D1_a%3D1/3b5252247420b1f0711632770321b1c0',\n",
       "  22.8),\n",
       " ('https://drscdn.500px.org/photo/123672657/h%3D600_k%3D1_a%3D1/b5ae6a4dd0a46582265937f544a378f3',\n",
       "  89.2),\n",
       " ('https://drscdn.500px.org/photo/123672925/h%3D600_k%3D1_a%3D1/cbb3d5e687228cb4a18043ee4a7d0a09',\n",
       "  98.2),\n",
       " ('https://drscdn.500px.org/photo/123673071/h%3D600_k%3D1_a%3D1/a1cd74ea6c37272adf863655f7505e45',\n",
       "  47.0),\n",
       " ('https://drscdn.500px.org/photo/123672957/h%3D600_k%3D1_a%3D1/512235b4ca517910ce3f1254aae73b26',\n",
       "  68.7),\n",
       " ('https://drscdn.500px.org/photo/123673103/h%3D600_k%3D1_a%3D1/11797c26ded1b9cbe025e77117ffae76',\n",
       "  88.5),\n",
       " ('https://drscdn.500px.org/photo/123672873/h%3D600_k%3D1_a%3D1/b7e8bec0b6980988110b5194eb98ba8c',\n",
       "  12.9),\n",
       " ('https://drscdn.500px.org/photo/123672331/h%3D600_k%3D1_a%3D1/cdc372d1141185509f3f1812e4f34f2e',\n",
       "  93.5),\n",
       " ('https://drscdn.500px.org/photo/123673113/h%3D600_k%3D1_a%3D1/848f3f029085ac68527f70b4e8b8d1be',\n",
       "  12.9),\n",
       " ('https://drscdn.500px.org/photo/123672599/h%3D600_k%3D1_a%3D1/13dbde220678aa3a5a07c20cb5958d75',\n",
       "  65.8),\n",
       " ('https://drscdn.500px.org/photo/123672947/h%3D600_k%3D1_a%3D1/0f5a917f344449109875cb49c7b6237b',\n",
       "  61.9),\n",
       " ('https://drscdn.500px.org/photo/123672923/h%3D600_k%3D1_a%3D1/3248c3b163be0f41cbfdb53e3c6e5d4f',\n",
       "  59.7)]"
      ]
     },
     "execution_count": 5,
     "metadata": {},
     "output_type": "execute_result"
    }
   ],
   "source": [
    "url_rating_tuples = map(lambda x: (x['image_url'], x['highest_rating']), photos['photos'])\n",
    "url_rating_tuples"
   ]
  }
 ],
 "metadata": {
  "kernelspec": {
   "display_name": "Python 2",
   "language": "python",
   "name": "python2"
  },
  "language_info": {
   "codemirror_mode": {
    "name": "ipython",
    "version": 2
   },
   "file_extension": ".py",
   "mimetype": "text/x-python",
   "name": "python",
   "nbconvert_exporter": "python",
   "pygments_lexer": "ipython2",
   "version": "2.7.10"
  }
 },
 "nbformat": 4,
 "nbformat_minor": 0
}
