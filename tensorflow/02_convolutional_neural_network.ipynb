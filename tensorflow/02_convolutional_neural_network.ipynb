{
 "cells": [
  {
   "cell_type": "markdown",
   "metadata": {
    "collapsed": true
   },
   "source": [
    "# Convolutional Neural Network\n",
    "\n",
    "Simple feedforward multilayer convolutional neural network implemented in Tensorflow"
   ]
  },
  {
   "cell_type": "markdown",
   "metadata": {},
   "source": [
    "## Load digits dataset"
   ]
  },
  {
   "cell_type": "code",
   "execution_count": 1,
   "metadata": {
    "collapsed": true
   },
   "outputs": [],
   "source": [
    "from sklearn import datasets"
   ]
  },
  {
   "cell_type": "code",
   "execution_count": 2,
   "metadata": {
    "collapsed": false
   },
   "outputs": [
    {
     "data": {
      "text/plain": [
       "((1797, 64), (1797,))"
      ]
     },
     "execution_count": 2,
     "metadata": {},
     "output_type": "execute_result"
    }
   ],
   "source": [
    "digits = datasets.load_digits()\n",
    "data = digits.data\n",
    "labels = digits.target\n",
    "data.shape, labels.shape"
   ]
  },
  {
   "cell_type": "markdown",
   "metadata": {},
   "source": [
    "## Convert labels into one-hot vectors"
   ]
  },
  {
   "cell_type": "code",
   "execution_count": 3,
   "metadata": {
    "collapsed": true
   },
   "outputs": [],
   "source": [
    "from sklearn.preprocessing import OneHotEncoder"
   ]
  },
  {
   "cell_type": "code",
   "execution_count": 4,
   "metadata": {
    "collapsed": true
   },
   "outputs": [],
   "source": [
    "one_hot = OneHotEncoder(sparse=False, dtype=int)\n",
    "labels = labels.reshape(-1, 1) # convert (n,) -> (n,1)\n",
    "labels = one_hot.fit_transform(labels)"
   ]
  },
  {
   "cell_type": "markdown",
   "metadata": {},
   "source": [
    "## Split into training and test sets"
   ]
  },
  {
   "cell_type": "code",
   "execution_count": 5,
   "metadata": {
    "collapsed": true
   },
   "outputs": [],
   "source": [
    "from sklearn.model_selection import train_test_split\n",
    "import numpy as np"
   ]
  },
  {
   "cell_type": "code",
   "execution_count": 6,
   "metadata": {
    "collapsed": true
   },
   "outputs": [],
   "source": [
    "X_train, X_test, y_train, y_test = train_test_split(data, labels, test_size=0.2, random_state=42)"
   ]
  },
  {
   "cell_type": "code",
   "execution_count": 7,
   "metadata": {
    "collapsed": false
   },
   "outputs": [
    {
     "data": {
      "text/plain": [
       "((64, 10), (8, 8))"
      ]
     },
     "execution_count": 7,
     "metadata": {},
     "output_type": "execute_result"
    }
   ],
   "source": [
    "x_dim = X_train.shape[1]\n",
    "y_dim = y_train.shape[1]\n",
    "\n",
    "x_width = x_height = np.sqrt(x_dim).astype(int)\n",
    "(x_dim, y_dim), (x_width, x_height)"
   ]
  },
  {
   "cell_type": "markdown",
   "metadata": {},
   "source": [
    "## Build the model"
   ]
  },
  {
   "cell_type": "code",
   "execution_count": 8,
   "metadata": {
    "collapsed": true
   },
   "outputs": [],
   "source": [
    "import tensorflow as tf"
   ]
  },
  {
   "cell_type": "code",
   "execution_count": 9,
   "metadata": {
    "collapsed": true
   },
   "outputs": [],
   "source": [
    "def weight_variable(shape):\n",
    "    initial = tf.truncated_normal(shape, stddev=0.01, name='W')\n",
    "    return tf.Variable(initial)\n",
    "\n",
    "def bias_variable(shape):\n",
    "    initial = tf.constant(0.1, shape=shape, name='b')\n",
    "    return tf.Variable(initial)\n",
    "\n",
    "# TF uses 'NHWC' format to represent 4d tensors: batch_size, height, width, n_channels\n",
    "# This is why 'strides' and 'ksize' have 4 dimensions\n",
    "def conv2d(x, W):\n",
    "    return tf.nn.conv2d(x, W, strides=[1, 1, 1, 1], padding='SAME', name='conv')\n",
    "\n",
    "def max_pool_2x2(x):\n",
    "    # 2x2 windows with 2px stride\n",
    "    return tf.nn.max_pool(x, ksize=[1, 2, 2, 1], strides=[1, 2, 2, 1], padding='SAME', name='max_pool')"
   ]
  },
  {
   "cell_type": "markdown",
   "metadata": {},
   "source": [
    "create input nodes"
   ]
  },
  {
   "cell_type": "code",
   "execution_count": 10,
   "metadata": {
    "collapsed": false
   },
   "outputs": [],
   "source": [
    "with tf.name_scope('input'):\n",
    "    X = tf.placeholder(tf.float32, [None, x_dim], name='X')\n",
    "    y = tf.placeholder(tf.float32, [None, y_dim], name='y')\n",
    "    X_4d = tf.reshape(X, [-1, x_height, x_width, 1], name='X_4d')"
   ]
  },
  {
   "cell_type": "markdown",
   "metadata": {},
   "source": [
    "create first layer"
   ]
  },
  {
   "cell_type": "code",
   "execution_count": 11,
   "metadata": {
    "collapsed": false
   },
   "outputs": [],
   "source": [
    "with tf.name_scope('conv1'):\n",
    "    W1 = weight_variable([3, 3, 1, 16])\n",
    "    b1 = bias_variable([16])\n",
    "    \n",
    "    conv1 = conv2d(X_4d, W1) + b1\n",
    "    relu1 = tf.nn.relu(conv1, name='relu')\n",
    "    h1 = max_pool_2x2(relu1)"
   ]
  },
  {
   "cell_type": "markdown",
   "metadata": {},
   "source": [
    "create second layer"
   ]
  },
  {
   "cell_type": "code",
   "execution_count": 12,
   "metadata": {
    "collapsed": true
   },
   "outputs": [],
   "source": [
    "with tf.name_scope('conv2'):\n",
    "    W2 = weight_variable([3, 3, 16, 32])\n",
    "    b2 = bias_variable([32])\n",
    "    \n",
    "    conv2 = conv2d(h1, W2) + b2\n",
    "    relu2 = tf.nn.relu(conv2, name='relu')\n",
    "    h2 = max_pool_2x2(relu2)"
   ]
  },
  {
   "cell_type": "markdown",
   "metadata": {},
   "source": [
    "create fully-connected layer"
   ]
  },
  {
   "cell_type": "code",
   "execution_count": 13,
   "metadata": {
    "collapsed": false
   },
   "outputs": [],
   "source": [
    "with tf.name_scope('fc1'):\n",
    "    W3 = weight_variable([2*2*32, 512])\n",
    "    b3 = bias_variable([512])\n",
    "    \n",
    "    h2_1d = tf.reshape(h2, [-1, 2*2*32])\n",
    "    a3 = tf.matmul(h2_1d, W3) + b3\n",
    "    h3 = tf.nn.relu(a3)"
   ]
  },
  {
   "cell_type": "markdown",
   "metadata": {},
   "source": [
    "apply dropout"
   ]
  },
  {
   "cell_type": "code",
   "execution_count": 14,
   "metadata": {
    "collapsed": true
   },
   "outputs": [],
   "source": [
    "keep_prob = tf.placeholder(tf.float32)\n",
    "h3_drop = tf.nn.dropout(h3, keep_prob, name='dropout')"
   ]
  },
  {
   "cell_type": "markdown",
   "metadata": {},
   "source": [
    "create softmax translation layer"
   ]
  },
  {
   "cell_type": "code",
   "execution_count": 15,
   "metadata": {
    "collapsed": true
   },
   "outputs": [],
   "source": [
    "with tf.name_scope('fc2'):\n",
    "    W4 = weight_variable([512, 10])\n",
    "    b4 = bias_variable([10])\n",
    "\n",
    "    y_out = tf.matmul(h3_drop, W4) + b4"
   ]
  },
  {
   "cell_type": "markdown",
   "metadata": {},
   "source": [
    "create loss"
   ]
  },
  {
   "cell_type": "code",
   "execution_count": 16,
   "metadata": {
    "collapsed": true
   },
   "outputs": [],
   "source": [
    "with tf.name_scope('loss'):\n",
    "    softmax = tf.nn.softmax_cross_entropy_with_logits(y_out, y, name='softmax')\n",
    "    loss = tf.reduce_mean(softmax, name='mean')"
   ]
  },
  {
   "cell_type": "markdown",
   "metadata": {},
   "source": [
    "create optimizer"
   ]
  },
  {
   "cell_type": "code",
   "execution_count": 17,
   "metadata": {
    "collapsed": true
   },
   "outputs": [],
   "source": [
    "with tf.name_scope('trainer'):\n",
    "    global_step = tf.Variable(0, name='global_step', trainable=False)\n",
    "    train_step = tf.train.AdamOptimizer(1e-4).minimize(loss, global_step=global_step)"
   ]
  },
  {
   "cell_type": "markdown",
   "metadata": {},
   "source": [
    "create evaluation nodes"
   ]
  },
  {
   "cell_type": "code",
   "execution_count": 18,
   "metadata": {
    "collapsed": true
   },
   "outputs": [],
   "source": [
    "with tf.name_scope('evaluation'):\n",
    "    correct_prediction = tf.equal(tf.argmax(y_out,1), tf.argmax(y,1), 'correct')\n",
    "    accuracy = tf.reduce_mean(tf.cast(correct_prediction, tf.float32), name='accuracy')"
   ]
  },
  {
   "cell_type": "markdown",
   "metadata": {},
   "source": [
    "create debug (summary) nodes"
   ]
  },
  {
   "cell_type": "code",
   "execution_count": 19,
   "metadata": {
    "collapsed": true
   },
   "outputs": [],
   "source": [
    "with tf.name_scope('summary'):\n",
    "    tf.scalar_summary('loss', loss)\n",
    "    tf.scalar_summary('accuracy', accuracy)\n",
    "    w_hist = tf.histogram_summary('W4', W4)\n",
    "    b_hist = tf.histogram_summary('b4', b4)\n",
    "    summaries = tf.merge_all_summaries()"
   ]
  },
  {
   "cell_type": "code",
   "execution_count": 20,
   "metadata": {
    "collapsed": false
   },
   "outputs": [],
   "source": [
    "with tf.name_scope('visualizer') as scope:\n",
    "    # Build 4x4 grid to visualize 16 filters of W1 [3, 3, 1, 16]\n",
    "    W1_slices = tf.split(split_dim=3, num_split=16, value=W1) # 16 x [3, 3, 1, 1]\n",
    "    rows = []\n",
    "    n_cols = n_rows = 4\n",
    "    for start in range(0, 16, n_cols):\n",
    "        end = start + n_cols\n",
    "        r = tf.concat(0, W1_slices[start:end]) # [4*3, 3, 1, 1]\n",
    "        rows.append(r)\n",
    "    W1_img = tf.concat(1, rows) # [4*3, 4*3, 1, 1]\n",
    "    W1_img = tf.reshape(W1_img, [1, 12, 12, 1])\n",
    "\n",
    "    epoch = tf.placeholder(tf.string, None, name='epoch')\n",
    "    img_summary = tf.image_summary(epoch, W1_img, max_images=100)"
   ]
  },
  {
   "cell_type": "code",
   "execution_count": 21,
   "metadata": {
    "collapsed": true
   },
   "outputs": [],
   "source": [
    "with tf.name_scope('init'):\n",
    "    init_op = tf.initialize_all_variables()"
   ]
  },
  {
   "cell_type": "markdown",
   "metadata": {},
   "source": [
    "## Train the model"
   ]
  },
  {
   "cell_type": "code",
   "execution_count": 22,
   "metadata": {
    "collapsed": true
   },
   "outputs": [],
   "source": [
    "from tqdm import tqdm"
   ]
  },
  {
   "cell_type": "code",
   "execution_count": 23,
   "metadata": {
    "collapsed": true
   },
   "outputs": [],
   "source": [
    "!rm -rf ./logs"
   ]
  },
  {
   "cell_type": "code",
   "execution_count": 24,
   "metadata": {
    "collapsed": true
   },
   "outputs": [],
   "source": [
    "summary_writer = tf.train.SummaryWriter('./logs/cnn')"
   ]
  },
  {
   "cell_type": "code",
   "execution_count": 25,
   "metadata": {
    "collapsed": false
   },
   "outputs": [
    {
     "name": "stderr",
     "output_type": "stream",
     "text": [
      "100%|██████████| 800/800 [01:09<00:00, 11.36it/s]"
     ]
    },
    {
     "name": "stdout",
     "output_type": "stream",
     "text": [
      "accuracy: 0.994444\n"
     ]
    },
    {
     "name": "stderr",
     "output_type": "stream",
     "text": [
      "\n"
     ]
    }
   ],
   "source": [
    "batch_size = 100\n",
    "n_epochs = 800\n",
    "with tf.Session() as sess:\n",
    "    summary_writer.add_graph(sess.graph)\n",
    "    sess.run(init_op) # init all variables\n",
    "    for e in tqdm(range(n_epochs)):\n",
    "        for start in range(0, len(X_train), batch_size):\n",
    "            end = start + batch_size\n",
    "            batch = {X: X_train[start:end], y: y_train[start:end], keep_prob: 0.5}\n",
    "            sess.run(train_step, feed_dict=batch)\n",
    "        \n",
    "        summary_val = sess.run(summaries, feed_dict={X: X_test, y: y_test, keep_prob: 1.0})\n",
    "        summary_writer.add_summary(summary_val, e)\n",
    "        \n",
    "        if e % 100 == 0:\n",
    "            summary_val = sess.run(img_summary, feed_dict={epoch: 'epoch%d' % e})\n",
    "            summary_writer.add_summary(summary_val, e)\n",
    "        \n",
    "        summary_writer.flush()\n",
    "    acc = sess.run(accuracy, feed_dict={X: X_test, y: y_test, keep_prob: 1.0})\n",
    "    print('accuracy:', acc)\n",
    "    "
   ]
  },
  {
   "cell_type": "markdown",
   "metadata": {},
   "source": [
    "Run tensorboard --logdir=./logs/ to see the graphs and visualizations"
   ]
  },
  {
   "cell_type": "code",
   "execution_count": null,
   "metadata": {
    "collapsed": true
   },
   "outputs": [],
   "source": []
  }
 ],
 "metadata": {
  "kernelspec": {
   "display_name": "Python 3",
   "language": "python",
   "name": "python3"
  },
  "language_info": {
   "codemirror_mode": {
    "name": "ipython",
    "version": 3
   },
   "file_extension": ".py",
   "mimetype": "text/x-python",
   "name": "python",
   "nbconvert_exporter": "python",
   "pygments_lexer": "ipython3",
   "version": "3.5.2"
  }
 },
 "nbformat": 4,
 "nbformat_minor": 1
}
