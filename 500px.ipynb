{
 "cells": [
  {
   "cell_type": "code",
   "execution_count": 1,
   "metadata": {
    "collapsed": false
   },
   "outputs": [],
   "source": [
    "# run 'pip install python-500px' to install fivehundredpx library\n",
    "from fivehundredpx.client import FiveHundredPXAPI\n",
    "from os import environ\n",
    "from IPython.display import HTML"
   ]
  },
  {
   "cell_type": "code",
   "execution_count": 2,
   "metadata": {
    "collapsed": true
   },
   "outputs": [],
   "source": [
    "CONSUMER_KEY = environ['PX_CONSUMER_KEY']\n",
    "api = FiveHundredPXAPI()"
   ]
  },
  {
   "cell_type": "code",
   "execution_count": 3,
   "metadata": {
    "collapsed": false
   },
   "outputs": [
    {
     "name": "stdout",
     "output_type": "stream",
     "text": [
      "returned 8 photos\n"
     ]
    }
   ],
   "source": [
    "photos = api.photos(consumer_key=CONSUMER_KEY,\n",
    "                    ids=range(10),\n",
    "                    image_size=21)\n",
    "\n",
    "print('returned %d photos' % len(photos['photos']))"
   ]
  },
  {
   "cell_type": "code",
   "execution_count": 4,
   "metadata": {
    "collapsed": false
   },
   "outputs": [],
   "source": [
    "def render_photos_in_html_table(photos):\n",
    "    row_pattern = \"\"\"\n",
    "    <tr>\n",
    "        <td>\n",
    "            <a href='https://500px.com/photo/{p_id}'>{p_id}</a>\n",
    "        </td>\n",
    "        <td>\n",
    "            <img src=\"{url}\" width=250>\n",
    "        </td>\n",
    "    </tr>\"\"\"\n",
    "    \n",
    "    rows = map(lambda p: row_pattern.format(p_id=p['id'], url=p['image_url']), photos)\n",
    "    \n",
    "    table = \"\"\"\n",
    "    <table>\n",
    "        <tr>\n",
    "            <th>id</th>\n",
    "            <th>photos</th>\n",
    "        </tr>\n",
    "        {rows}\n",
    "    </table>\n",
    "    \"\"\"\n",
    "    \n",
    "    table = table.format(rows=''.join(rows))\n",
    "    \n",
    "    return table"
   ]
  },
  {
   "cell_type": "code",
   "execution_count": 5,
   "metadata": {
    "collapsed": false
   },
   "outputs": [
    {
     "data": {
      "text/html": [
       "\n",
       "    <table>\n",
       "        <tr>\n",
       "            <th>id</th>\n",
       "            <th>photos</th>\n",
       "        </tr>\n",
       "        \n",
       "    <tr>\n",
       "        <td>\n",
       "            <a href='https://500px.com/photo/1'>1</a>\n",
       "        </td>\n",
       "        <td>\n",
       "            <img src=\"https://drscdn.500px.org/photo/1/h%3D600_k%3D1_a%3D1/d3d2c4f6dbcf9ecb820aa4d0b18d314b\" width=250>\n",
       "        </td>\n",
       "    </tr>\n",
       "    <tr>\n",
       "        <td>\n",
       "            <a href='https://500px.com/photo/3'>3</a>\n",
       "        </td>\n",
       "        <td>\n",
       "            <img src=\"https://drscdn.500px.org/photo/3/h%3D600_k%3D1_a%3D1/8deb7d86c51789d352e86c149a864691\" width=250>\n",
       "        </td>\n",
       "    </tr>\n",
       "    <tr>\n",
       "        <td>\n",
       "            <a href='https://500px.com/photo/2'>2</a>\n",
       "        </td>\n",
       "        <td>\n",
       "            <img src=\"https://drscdn.500px.org/photo/2/h%3D600_k%3D1_a%3D1/095ed9b6f8d4f8436e78c1c16c09564a\" width=250>\n",
       "        </td>\n",
       "    </tr>\n",
       "    <tr>\n",
       "        <td>\n",
       "            <a href='https://500px.com/photo/4'>4</a>\n",
       "        </td>\n",
       "        <td>\n",
       "            <img src=\"https://drscdn.500px.org/photo/4/h%3D600_k%3D1_a%3D1/e518201dcf2603e1932aee0b23c0f6df\" width=250>\n",
       "        </td>\n",
       "    </tr>\n",
       "    <tr>\n",
       "        <td>\n",
       "            <a href='https://500px.com/photo/7'>7</a>\n",
       "        </td>\n",
       "        <td>\n",
       "            <img src=\"https://drscdn.500px.org/photo/7/h%3D600_k%3D1_a%3D1/d30c58c84e7747660d28dc693efa2965\" width=250>\n",
       "        </td>\n",
       "    </tr>\n",
       "    <tr>\n",
       "        <td>\n",
       "            <a href='https://500px.com/photo/6'>6</a>\n",
       "        </td>\n",
       "        <td>\n",
       "            <img src=\"https://drscdn.500px.org/photo/6/h%3D600_k%3D1_a%3D1/c2cc3685c0dffbc9410c6b0da05140ed\" width=250>\n",
       "        </td>\n",
       "    </tr>\n",
       "    <tr>\n",
       "        <td>\n",
       "            <a href='https://500px.com/photo/9'>9</a>\n",
       "        </td>\n",
       "        <td>\n",
       "            <img src=\"https://drscdn.500px.org/photo/9/h%3D600_k%3D1_a%3D1/bfa5b281d272bd2345e084a96f088d8b\" width=250>\n",
       "        </td>\n",
       "    </tr>\n",
       "    <tr>\n",
       "        <td>\n",
       "            <a href='https://500px.com/photo/8'>8</a>\n",
       "        </td>\n",
       "        <td>\n",
       "            <img src=\"https://drscdn.500px.org/photo/8/h%3D600_k%3D1_a%3D1/659082aed0b0b5a741883253b61c8958\" width=250>\n",
       "        </td>\n",
       "    </tr>\n",
       "    </table>\n",
       "    "
      ],
      "text/plain": [
       "<IPython.core.display.HTML object>"
      ]
     },
     "execution_count": 5,
     "metadata": {},
     "output_type": "execute_result"
    }
   ],
   "source": [
    "HTML(render_photos_in_html_table(photos['photos'].values()))"
   ]
  },
  {
   "cell_type": "code",
   "execution_count": null,
   "metadata": {
    "collapsed": true
   },
   "outputs": [],
   "source": []
  }
 ],
 "metadata": {
  "kernelspec": {
   "display_name": "Python 2",
   "language": "python",
   "name": "python2"
  },
  "language_info": {
   "codemirror_mode": {
    "name": "ipython",
    "version": 2
   },
   "file_extension": ".py",
   "mimetype": "text/x-python",
   "name": "python",
   "nbconvert_exporter": "python",
   "pygments_lexer": "ipython2",
   "version": "2.7.10"
  }
 },
 "nbformat": 4,
 "nbformat_minor": 0
}
