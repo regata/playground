{
 "cells": [
  {
   "cell_type": "code",
   "execution_count": 1,
   "metadata": {},
   "outputs": [],
   "source": [
    "%load_ext autoreload\n",
    "%autoreload 2"
   ]
  },
  {
   "cell_type": "markdown",
   "metadata": {},
   "source": [
    "## Init blockchain"
   ]
  },
  {
   "cell_type": "code",
   "execution_count": 2,
   "metadata": {},
   "outputs": [],
   "source": [
    "from rpc import Proxy\n",
    "import bitcoin"
   ]
  },
  {
   "cell_type": "code",
   "execution_count": 3,
   "metadata": {},
   "outputs": [],
   "source": [
    "bitcoin.SelectParams('regtest')"
   ]
  },
  {
   "cell_type": "code",
   "execution_count": 4,
   "metadata": {},
   "outputs": [],
   "source": [
    "rpc = Proxy()"
   ]
  },
  {
   "cell_type": "code",
   "execution_count": 5,
   "metadata": {},
   "outputs": [
    {
     "data": {
      "text/plain": [
       "<generator object Proxy.generate.<locals>.<genexpr> at 0x104caa308>"
      ]
     },
     "execution_count": 5,
     "metadata": {},
     "output_type": "execute_result"
    }
   ],
   "source": [
    "rpc.generate(101)"
   ]
  },
  {
   "cell_type": "markdown",
   "metadata": {},
   "source": [
    "## Init Alice and Bob"
   ]
  },
  {
   "cell_type": "code",
   "execution_count": 6,
   "metadata": {},
   "outputs": [],
   "source": [
    "from collections import namedtuple\n",
    "import bitcoin.core as bc\n",
    "import bitcoin.wallet as bw"
   ]
  },
  {
   "cell_type": "code",
   "execution_count": 9,
   "metadata": {},
   "outputs": [],
   "source": [
    "class User(object):\n",
    "    def __init__(self, rpc):\n",
    "        self.rpc = rpc\n",
    "        self.secrets = []\n",
    "        self.addresses = []\n",
    "    \n",
    "    def generate_addresses(self, n):\n",
    "        for _ in range(n):\n",
    "            addr = self.rpc.getnewaddress()\n",
    "            secr = self.rpc.dumpprivkey(addr)\n",
    "            self.addresses.append(addr)\n",
    "            self.secrets.append(secr)\n",
    "    \n",
    "    @property\n",
    "    def utxos(self):\n",
    "        txs = self.rpc.listunspent(addrs=self.addresses)\n",
    "        return txs"
   ]
  },
  {
   "cell_type": "code",
   "execution_count": 10,
   "metadata": {},
   "outputs": [],
   "source": [
    "ali = User(rpc)\n",
    "bob = User(rpc)\n",
    "\n",
    "ali.generate_addresses(5)\n",
    "bob.generate_addresses(5)"
   ]
  },
  {
   "cell_type": "code",
   "execution_count": 14,
   "metadata": {},
   "outputs": [],
   "source": [
    "_ = rpc.sendtoaddress(ali.addresses[0], 10 * bc.COIN)\n",
    "_ = rpc.sendtoaddress(bob.addresses[0], 10 * bc.COIN)"
   ]
  },
  {
   "cell_type": "code",
   "execution_count": 16,
   "metadata": {},
   "outputs": [
    {
     "data": {
      "text/plain": [
       "103"
      ]
     },
     "execution_count": 16,
     "metadata": {},
     "output_type": "execute_result"
    }
   ],
   "source": [
    "rpc.generate(1)\n",
    "curr_block = rpc.getinfo()['blocks']\n",
    "curr_block"
   ]
  },
  {
   "cell_type": "markdown",
   "metadata": {},
   "source": [
    "## Create $T^{Fund}$ scripts"
   ]
  },
  {
   "cell_type": "code",
   "execution_count": 18,
   "metadata": {},
   "outputs": [],
   "source": [
    "import bitcoin.core.script as bs"
   ]
  },
  {
   "cell_type": "code",
   "execution_count": 19,
   "metadata": {},
   "outputs": [],
   "source": [
    "cancel_time = curr_block + 4\n",
    "fork_time = curr_block + 6\n",
    "bob_lock_time = curr_block + 8\n",
    "ali_lock_time = curr_block + 10"
   ]
  },
  {
   "cell_type": "code",
   "execution_count": 125,
   "metadata": {},
   "outputs": [],
   "source": [
    "def get_refund_script(pk, delta):\n",
    "    assert isinstance(pk, bc.key.CPubKey)\n",
    "    assert isinstance(delta, int)\n",
    "    assert delta > 0\n",
    "\n",
    "    script = bs.CScript([\n",
    "        delta,\n",
    "        bs.OP_CHECKLOCKTIMEVERIFY,\n",
    "        bs.OP_DROP,\n",
    "        pk,\n",
    "        bs.OP_CHECKSIG\n",
    "    ])\n",
    "    return script\n",
    "\n",
    "def get_cancel_script(pk1, pk2):\n",
    "    assert isinstance(pk1, bc.key.CPubKey)\n",
    "    assert isinstance(pk2, bc.key.CPubKey)\n",
    "    \n",
    "    script = bs.CScript([\n",
    "        bs.OP_2,\n",
    "        pk1,\n",
    "        pk2,\n",
    "        bs.OP_2,\n",
    "        bs.OP_CHECKMULTISIG\n",
    "    ])\n",
    "    \n",
    "    return script"
   ]
  },
  {
   "cell_type": "code",
   "execution_count": 123,
   "metadata": {},
   "outputs": [],
   "source": [
    "ali_refund_script = get_refund_script(ali.secrets[1].pub, ali_lock_time)\n",
    "bob_refund_script = get_refund_script(bob.secrets[1].pub, bob_lock_time)"
   ]
  },
  {
   "cell_type": "code",
   "execution_count": 126,
   "metadata": {},
   "outputs": [],
   "source": [
    "cancel_script = get_cancel_script(ali.secrets[3].pub, bob.secrets[3].pub)"
   ]
  },
  {
   "cell_type": "code",
   "execution_count": 127,
   "metadata": {},
   "outputs": [],
   "source": [
    "ali_deposit = bs.CScript([\n",
    "    bs.OP_IF,\n",
    "        *list(ali_refund_script),\n",
    "    bs.OP_ELSE,\n",
    "        *list(cancel_script),\n",
    "    bs.OP_ENDIF])"
   ]
  },
  {
   "cell_type": "code",
   "execution_count": 128,
   "metadata": {},
   "outputs": [],
   "source": [
    "bob_deposit = bs.CScript([\n",
    "    bs.OP_IF,\n",
    "        *list(bob_refund_script),\n",
    "    bs.OP_ELSE,\n",
    "        *list(cancel_script),\n",
    "    bs.OP_ENDIF])"
   ]
  },
  {
   "cell_type": "markdown",
   "metadata": {},
   "source": [
    "## Create $T^{Fund}$ transaction"
   ]
  },
  {
   "cell_type": "code",
   "execution_count": 154,
   "metadata": {},
   "outputs": [],
   "source": [
    "ali_utxo = ali.utxos[0]\n",
    "bob_utxo = bob.utxos[0]"
   ]
  },
  {
   "cell_type": "code",
   "execution_count": 155,
   "metadata": {},
   "outputs": [],
   "source": [
    "ali_txin = bc.CMutableTxIn(ali_utxo['outpoint'], nSequence=0)\n",
    "bob_txin = bc.CMutableTxIn(bob_utxo['outpoint'], nSequence=0)"
   ]
  },
  {
   "cell_type": "code",
   "execution_count": 156,
   "metadata": {},
   "outputs": [],
   "source": [
    "fee = 15700.0  # 630 bytes"
   ]
  },
  {
   "cell_type": "code",
   "execution_count": 205,
   "metadata": {},
   "outputs": [],
   "source": [
    "cancel_amount = 2"
   ]
  },
  {
   "cell_type": "code",
   "execution_count": 157,
   "metadata": {},
   "outputs": [],
   "source": [
    "ali_deposit_txout = bc.CMutableTxOut(ali_utxo['amount'] - cancel_amount/2 - fee/2,\n",
    "                                     ali_deposit)\n",
    "bob_deposit_txout = bc.CMutableTxOut(bob_utxo['amount'] - cancel_amount/2 - fee/2,\n",
    "                                     bob_deposit)\n",
    "\n",
    "cancel_txout = bc.CMutableTxOut(cancel_amount, cancel_script)"
   ]
  },
  {
   "cell_type": "code",
   "execution_count": 158,
   "metadata": {},
   "outputs": [],
   "source": [
    "tx_fund = bc.CMutableTransaction([ali_txin,\n",
    "                                  bob_txin], [ali_deposit_txout,\n",
    "                                              bob_deposit_txout, \n",
    "                                              cancel_txout])"
   ]
  },
  {
   "cell_type": "code",
   "execution_count": 159,
   "metadata": {},
   "outputs": [],
   "source": [
    "ali_sighash = bs.SignatureHash(ali.addresses[0].to_scriptPubKey(),\n",
    "                               tx_fund,\n",
    "                               0,\n",
    "                               bs.SIGHASH_ALL)\n",
    "\n",
    "bob_sighash = bs.SignatureHash(bob.addresses[0].to_scriptPubKey(),\n",
    "                               tx_fund,\n",
    "                               1,\n",
    "                               bs.SIGHASH_ALL)"
   ]
  },
  {
   "cell_type": "code",
   "execution_count": 160,
   "metadata": {},
   "outputs": [],
   "source": [
    "ali_sig = ali.secrets[0].sign(ali_sighash) + bytes([bs.SIGHASH_ALL])\n",
    "bob_sig = bob.secrets[0].sign(bob_sighash) + bytes([bs.SIGHASH_ALL])"
   ]
  },
  {
   "cell_type": "code",
   "execution_count": 161,
   "metadata": {},
   "outputs": [],
   "source": [
    "ali_txin.scriptSig = bs.CScript([ali_sig, ali.secrets[0].pub])\n",
    "bob_txin.scriptSig = bs.CScript([bob_sig, bob.secrets[0].pub])"
   ]
  },
  {
   "cell_type": "code",
   "execution_count": 162,
   "metadata": {},
   "outputs": [],
   "source": [
    "# https://github.com/petertodd/python-bitcoinlib/blob/5e150ac4a50791e6293752ceef8647b9bb3273c0/examples/timestamp-op-ret.py#L66\n",
    "FEE_PER_BYTE = 0.00025 * bc.COIN/1000"
   ]
  },
  {
   "cell_type": "code",
   "execution_count": 163,
   "metadata": {},
   "outputs": [
    {
     "data": {
      "text/plain": [
       "15750.0"
      ]
     },
     "execution_count": 163,
     "metadata": {},
     "output_type": "execute_result"
    }
   ],
   "source": [
    "n_bytes = len(tx_fund.serialize())\n",
    "fee = n_bytes * FEE_PER_BYTE\n",
    "fee"
   ]
  },
  {
   "cell_type": "code",
   "execution_count": 164,
   "metadata": {},
   "outputs": [],
   "source": [
    "tx_fund_id = rpc.sendrawtransaction(tx_fund)"
   ]
  },
  {
   "cell_type": "code",
   "execution_count": 169,
   "metadata": {},
   "outputs": [
    {
     "data": {
      "text/plain": [
       "<generator object Proxy.generate.<locals>.<genexpr> at 0x105395468>"
      ]
     },
     "execution_count": 169,
     "metadata": {},
     "output_type": "execute_result"
    }
   ],
   "source": [
    "rpc.generate(1)"
   ]
  },
  {
   "cell_type": "code",
   "execution_count": 187,
   "metadata": {},
   "outputs": [],
   "source": [
    "assert rpc.gettransaction(tx_fund_id)['confirmations'] == 1"
   ]
  },
  {
   "cell_type": "markdown",
   "metadata": {},
   "source": [
    "## Create $T^{cancel}$"
   ]
  },
  {
   "cell_type": "code",
   "execution_count": 226,
   "metadata": {},
   "outputs": [],
   "source": [
    "tx_fund = rpc.getrawtransaction(tx_fund_id)"
   ]
  },
  {
   "cell_type": "code",
   "execution_count": 227,
   "metadata": {},
   "outputs": [],
   "source": [
    "ali_cancel_txin = bc.CMutableTxIn(bc.COutPoint(tx_fund_id, 0),\n",
    "                                  nSequence=0)\n",
    "bob_cancel_txin = bc.CMutableTxIn(bc.COutPoint(tx_fund_id, 1),\n",
    "                                  nSequence=0)\n",
    "can_cancel_txin = bc.CMutableTxIn(bc.COutPoint(tx_fund_id, 2),\n",
    "                                  nSequence=0)"
   ]
  },
  {
   "cell_type": "code",
   "execution_count": 239,
   "metadata": {},
   "outputs": [],
   "source": [
    "fee = 16050.0  # 638 bytes"
   ]
  },
  {
   "cell_type": "code",
   "execution_count": 240,
   "metadata": {},
   "outputs": [],
   "source": [
    "assert cancel_amount == tx_fund.vout[2].nValue"
   ]
  },
  {
   "cell_type": "code",
   "execution_count": 241,
   "metadata": {},
   "outputs": [],
   "source": [
    "# TODO change address id to 5\n",
    "ali_cancel_txout = bc.CMutableTxOut(\n",
    "    tx_fund.vout[0].nValue + cancel_amount/2 - fee/2,\n",
    "    ali.addresses[4].to_scriptPubKey())\n",
    "bob_cancel_txout = bc.CMutableTxOut(\n",
    "    tx_fund.vout[1].nValue + cancel_amount/2 - fee/2,\n",
    "    bob.addresses[4].to_scriptPubKey())"
   ]
  },
  {
   "cell_type": "code",
   "execution_count": 242,
   "metadata": {},
   "outputs": [],
   "source": [
    "tx_cancel = bc.CMutableTransaction(\n",
    "    [ali_cancel_txin, bob_cancel_txin, can_cancel_txin],\n",
    "    [ali_cancel_txout, bob_cancel_txout])"
   ]
  },
  {
   "cell_type": "code",
   "execution_count": 243,
   "metadata": {},
   "outputs": [],
   "source": [
    "ali_cancel_sighash = bs.SignatureHash(\n",
    "    tx_fund.vout[0].scriptPubKey,\n",
    "    tx_cancel,\n",
    "    0,\n",
    "    bs.SIGHASH_ALL)\n",
    "\n",
    "bob_cancel_sighash = bs.SignatureHash(\n",
    "    tx_fund.vout[1].scriptPubKey,\n",
    "    tx_cancel,\n",
    "    1,\n",
    "    bs.SIGHASH_ALL)\n",
    "\n",
    "can_cancel_sighash = bs.SignatureHash(\n",
    "    tx_fund.vout[2].scriptPubKey,\n",
    "    tx_cancel,\n",
    "    2,\n",
    "    bs.SIGHASH_ALL)"
   ]
  },
  {
   "cell_type": "code",
   "execution_count": 244,
   "metadata": {},
   "outputs": [],
   "source": [
    "ali_cancel_ali_sig = ali.secrets[3].sign(ali_cancel_sighash) + bytes([bs.SIGHASH_ALL])\n",
    "ali_cancel_bob_sig = bob.secrets[3].sign(ali_cancel_sighash) + bytes([bs.SIGHASH_ALL])"
   ]
  },
  {
   "cell_type": "code",
   "execution_count": 245,
   "metadata": {},
   "outputs": [],
   "source": [
    "bob_cancel_ali_sig = ali.secrets[3].sign(bob_cancel_sighash) + bytes([bs.SIGHASH_ALL])\n",
    "bob_cancel_bob_sig = bob.secrets[3].sign(bob_cancel_sighash) + bytes([bs.SIGHASH_ALL])"
   ]
  },
  {
   "cell_type": "code",
   "execution_count": 246,
   "metadata": {},
   "outputs": [],
   "source": [
    "can_cancel_ali_sig = ali.secrets[3].sign(can_cancel_sighash) + bytes([bs.SIGHASH_ALL])\n",
    "can_cancel_bob_sig = bob.secrets[3].sign(can_cancel_sighash) + bytes([bs.SIGHASH_ALL])"
   ]
  },
  {
   "cell_type": "code",
   "execution_count": 250,
   "metadata": {},
   "outputs": [],
   "source": [
    "ali_cancel_txin.scriptSig = bs.CScript(\n",
    "    [bs.OP_0, ali_cancel_ali_sig, ali_cancel_bob_sig, bs.OP_0])\n",
    "\n",
    "bob_cancel_txin.scriptSig = bs.CScript(\n",
    "    [bs.OP_0, bob_cancel_ali_sig, bob_cancel_bob_sig, bs.OP_0])\n",
    "\n",
    "can_cancel_txin.scriptSig = bs.CScript(\n",
    "    [bs.OP_0, can_cancel_ali_sig, can_cancel_bob_sig])"
   ]
  },
  {
   "cell_type": "code",
   "execution_count": 251,
   "metadata": {},
   "outputs": [
    {
     "data": {
      "text/plain": [
       "16075.0"
      ]
     },
     "execution_count": 251,
     "metadata": {},
     "output_type": "execute_result"
    }
   ],
   "source": [
    "n_bytes = len(tx_cancel.serialize())\n",
    "fee = n_bytes * FEE_PER_BYTE\n",
    "fee"
   ]
  },
  {
   "cell_type": "code",
   "execution_count": 252,
   "metadata": {},
   "outputs": [],
   "source": [
    "tx_cancel_id = rpc.sendrawtransaction(tx_cancel)"
   ]
  },
  {
   "cell_type": "code",
   "execution_count": 253,
   "metadata": {},
   "outputs": [
    {
     "data": {
      "text/plain": [
       "<generator object Proxy.generate.<locals>.<genexpr> at 0x1052b8fc0>"
      ]
     },
     "execution_count": 253,
     "metadata": {},
     "output_type": "execute_result"
    }
   ],
   "source": [
    "rpc.generate(1)"
   ]
  },
  {
   "cell_type": "code",
   "execution_count": 254,
   "metadata": {},
   "outputs": [],
   "source": [
    "assert rpc.gettransaction(tx_cancel_id)['confirmations'] == 1"
   ]
  },
  {
   "cell_type": "code",
   "execution_count": null,
   "metadata": {},
   "outputs": [],
   "source": []
  }
 ],
 "metadata": {
  "kernelspec": {
   "display_name": "Python 3",
   "language": "python",
   "name": "python3"
  },
  "language_info": {
   "codemirror_mode": {
    "name": "ipython",
    "version": 3
   },
   "file_extension": ".py",
   "mimetype": "text/x-python",
   "name": "python",
   "nbconvert_exporter": "python",
   "pygments_lexer": "ipython3",
   "version": "3.6.2"
  }
 },
 "nbformat": 4,
 "nbformat_minor": 2
}
