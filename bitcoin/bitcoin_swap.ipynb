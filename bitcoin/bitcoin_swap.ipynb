{
 "cells": [
  {
   "cell_type": "markdown",
   "metadata": {},
   "source": [
    "## Connect Proxy client"
   ]
  },
  {
   "cell_type": "code",
   "execution_count": 1,
   "metadata": {},
   "outputs": [],
   "source": [
    "from tempfile import NamedTemporaryFile\n",
    "import bitcoin.rpc"
   ]
  },
  {
   "cell_type": "markdown",
   "metadata": {},
   "source": [
    "```bash\n",
    "docker run --rm -it -p 8332:8332 --name=bitcoin ruimarinho/bitcoin-core   -printtoconsole   -regtest=1   -rpcallowip=0.0.0.0/0 -rpcport=8332 -rpcpassword=bar -rpcuser=foo\n",
    "```"
   ]
  },
  {
   "cell_type": "code",
   "execution_count": 2,
   "metadata": {},
   "outputs": [],
   "source": [
    "conf_str = \"\"\"\n",
    "rpcuser=df2EDbbsD\n",
    "rpcpassword=46sDGGFD2\n",
    "rpcport=8332\n",
    "rpchost=0.0.0.0\n",
    "rpctimeout=10000000\n",
    "\"\"\""
   ]
  },
  {
   "cell_type": "code",
   "execution_count": 3,
   "metadata": {},
   "outputs": [],
   "source": [
    "class Proxy(object):\n",
    "    \"\"\"Simple proxy class to bitcoin.rpc.Proxy to deal with timeouts\"\"\"\n",
    "    def __init__(self, conf_str):\n",
    "        self.conf_file = NamedTemporaryFile(mode='w+t')\n",
    "        self.conf_file.write(conf_str)\n",
    "    \n",
    "    def __getattr__(self, name):\n",
    "        if name.startswith('_'):\n",
    "            return getattr(self, name)\n",
    "        self.conf_file.seek(0)\n",
    "        proxy = bitcoin.rpc.Proxy(btc_conf_file=self.conf_file.name,\n",
    "                                  timeout=3600)\n",
    "        self._proxy = proxy # DEBUG\n",
    "        return getattr(proxy, name)\n",
    "    \n",
    "    def __del__(self):\n",
    "        self.conf_file.close()"
   ]
  },
  {
   "cell_type": "code",
   "execution_count": 4,
   "metadata": {},
   "outputs": [],
   "source": [
    "proxy = Proxy(conf_str=conf_str)"
   ]
  },
  {
   "cell_type": "code",
   "execution_count": 6,
   "metadata": {},
   "outputs": [
    {
     "data": {
      "text/plain": [
       "<generator object Proxy.generate.<locals>.<genexpr> at 0x10566e360>"
      ]
     },
     "execution_count": 6,
     "metadata": {},
     "output_type": "execute_result"
    }
   ],
   "source": [
    "proxy.generate(101)"
   ]
  },
  {
   "cell_type": "code",
   "execution_count": 7,
   "metadata": {},
   "outputs": [
    {
     "data": {
      "text/plain": [
       "{'balance': 5000000000,\n",
       " 'blocks': 101,\n",
       " 'connections': 0,\n",
       " 'deprecation-warning': 'WARNING: getinfo is deprecated and will be fully removed in 0.16. Projects should transition to using getblockchaininfo, getnetworkinfo, and getwalletinfo before upgrading to 0.16',\n",
       " 'difficulty': Decimal('4.656542373906925E-10'),\n",
       " 'errors': '',\n",
       " 'keypoololdest': 1509209407,\n",
       " 'keypoolsize': 1999,\n",
       " 'paytxfee': 0,\n",
       " 'protocolversion': 70015,\n",
       " 'proxy': '',\n",
       " 'relayfee': Decimal('0.00001000'),\n",
       " 'testnet': False,\n",
       " 'timeoffset': 0,\n",
       " 'version': 150001,\n",
       " 'walletversion': 139900}"
      ]
     },
     "execution_count": 7,
     "metadata": {},
     "output_type": "execute_result"
    }
   ],
   "source": [
    "proxy.getinfo()"
   ]
  },
  {
   "cell_type": "markdown",
   "metadata": {},
   "source": [
    "## Create timelock transaction"
   ]
  },
  {
   "cell_type": "code",
   "execution_count": 8,
   "metadata": {},
   "outputs": [],
   "source": [
    "import hashlib\n",
    "import arrow\n",
    "\n",
    "import bitcoin\n",
    "from bitcoin.core import COutPoint, CMutableTxOut, CMutableTxIn, CMutableTransaction, COIN, b2lx, lx\n",
    "from bitcoin.wallet import CBitcoinAddress, CBitcoinSecret, P2SHBitcoinAddress\n",
    "from bitcoin.core.script import (\n",
    "        OP_CHECKLOCKTIMEVERIFY, OP_DROP, OP_CHECKSIG,\n",
    "        CScript,\n",
    "        SignatureHash, SIGHASH_ALL,\n",
    ")\n",
    "from bitcoin.core.scripteval import VerifyScript, SCRIPT_VERIFY_P2SH"
   ]
  },
  {
   "cell_type": "code",
   "execution_count": 9,
   "metadata": {},
   "outputs": [],
   "source": [
    "bitcoin.SelectParams('regtest')"
   ]
  },
  {
   "cell_type": "code",
   "execution_count": 10,
   "metadata": {},
   "outputs": [
    {
     "data": {
      "text/plain": [
       "CBitcoinSecret('cNWQk3ZX4yVtK3dAqVQ52RKw9j4q43B6dMK6M172qgMbqNDLXQYh')"
      ]
     },
     "execution_count": 10,
     "metadata": {},
     "output_type": "execute_result"
    }
   ],
   "source": [
    "h = hashlib.sha256(b'secret password').digest()\n",
    "dst_secret = CBitcoinSecret.from_secret_bytes(h)\n",
    "dst_secret"
   ]
  },
  {
   "cell_type": "code",
   "execution_count": 11,
   "metadata": {},
   "outputs": [
    {
     "data": {
      "text/plain": [
       "1509209554"
      ]
     },
     "execution_count": 11,
     "metadata": {},
     "output_type": "execute_result"
    }
   ],
   "source": [
    "# https://bitcoin.stackexchange.com/questions/39119/how-is-time-encoded-bip65-in-scripts\n",
    "curr_time = arrow.now()\n",
    "lock_time = curr_time.shift(minutes=1)\n",
    "lock_time = lock_time.timestamp\n",
    "lock_time"
   ]
  },
  {
   "cell_type": "code",
   "execution_count": 12,
   "metadata": {},
   "outputs": [
    {
     "data": {
      "text/plain": [
       "CScript([x('d2b5f459'), OP_CHECKLOCKTIMEVERIFY, OP_DROP, x('032a96f87371e3f6e721606ab8362f6cb8fae97d611ad9ce693e9127c2c8bf33bb'), OP_CHECKSIG])"
      ]
     },
     "execution_count": 12,
     "metadata": {},
     "output_type": "execute_result"
    }
   ],
   "source": [
    "dst_script = CScript([lock_time, OP_CHECKLOCKTIMEVERIFY, OP_DROP, dst_secret.pub, OP_CHECKSIG])\n",
    "dst_script"
   ]
  },
  {
   "cell_type": "code",
   "execution_count": 13,
   "metadata": {},
   "outputs": [
    {
     "data": {
      "text/plain": [
       "P2SHBitcoinAddress('2N3LTuVKsty7QAX6Y4RAnPmiH86Z2jSjtdE')"
      ]
     },
     "execution_count": 13,
     "metadata": {},
     "output_type": "execute_result"
    }
   ],
   "source": [
    "dst_addr = P2SHBitcoinAddress.from_redeemScript(dst_script)\n",
    "dst_addr"
   ]
  },
  {
   "cell_type": "code",
   "execution_count": 14,
   "metadata": {},
   "outputs": [
    {
     "data": {
      "text/plain": [
       "[{'address': P2PKHBitcoinAddress('n2w4KybXLcWY9JciipTKfxAdiJj4nfec9f'),\n",
       "  'amount': 5000000000,\n",
       "  'confirmations': 101,\n",
       "  'outpoint': COutPoint(lx('f06f256ba880892e5f4f57807de975b3eb426423a0111282e1ec6f49ca716002'), 0),\n",
       "  'safe': True,\n",
       "  'scriptPubKey': CScript([x('03844e98cde1f0d9623b05b05452586a6c47daa9b19f815fc74a1e23c6ddf6c08a'), OP_CHECKSIG]),\n",
       "  'solvable': True,\n",
       "  'spendable': True}]"
      ]
     },
     "execution_count": 14,
     "metadata": {},
     "output_type": "execute_result"
    }
   ],
   "source": [
    "utxos = proxy.listunspent()\n",
    "utxos"
   ]
  },
  {
   "cell_type": "code",
   "execution_count": 15,
   "metadata": {},
   "outputs": [
    {
     "data": {
      "text/plain": [
       "{'address': P2PKHBitcoinAddress('n2w4KybXLcWY9JciipTKfxAdiJj4nfec9f'),\n",
       " 'amount': 5000000000,\n",
       " 'confirmations': 101,\n",
       " 'outpoint': COutPoint(lx('f06f256ba880892e5f4f57807de975b3eb426423a0111282e1ec6f49ca716002'), 0),\n",
       " 'safe': True,\n",
       " 'scriptPubKey': CScript([x('03844e98cde1f0d9623b05b05452586a6c47daa9b19f815fc74a1e23c6ddf6c08a'), OP_CHECKSIG]),\n",
       " 'solvable': True,\n",
       " 'spendable': True}"
      ]
     },
     "execution_count": 15,
     "metadata": {},
     "output_type": "execute_result"
    }
   ],
   "source": [
    "utxo = utxos[0]\n",
    "utxo"
   ]
  },
  {
   "cell_type": "code",
   "execution_count": 16,
   "metadata": {},
   "outputs": [
    {
     "data": {
      "text/plain": [
       "b'\\xd2\\x01%\\xd9\\x99\\xb85\\xcfk\\xc2\\xa5\\xad\\x97\\xb7\\xdc\\xdc&\\xd9:B\\xf5\\x96\\xcd{\\xd9 68}r!\\xd8'"
      ]
     },
     "execution_count": 16,
     "metadata": {},
     "output_type": "execute_result"
    }
   ],
   "source": [
    "cltv_txid = proxy.sendtoaddress(dst_addr, 10 * COIN)\n",
    "cltv_txid"
   ]
  },
  {
   "cell_type": "code",
   "execution_count": 17,
   "metadata": {},
   "outputs": [
    {
     "data": {
      "text/plain": [
       "CTransaction((CTxIn(COutPoint(lx('f06f256ba880892e5f4f57807de975b3eb426423a0111282e1ec6f49ca716002'), 0), CScript([x('3045022100b0cb511fbd2947f0fa404d373239a940e40a9b1fcac3cdb08fbdc7deb02b8ab2022027261b5b7a7600cc236a2f3fd070f72dfe0e0bb25323f4a27150dca24f548b5201')]), 0xfffffffe),), (CTxOut(10.0*COIN, CScript([OP_HASH160, x('6eaef48b456d2e84cb6e7653cc7d352b33aada8e'), OP_EQUAL])), CTxOut(39.999962*COIN, CScript([OP_DUP, OP_HASH160, x('abbed70287753c535626ffef1325ce0d411a43e7'), OP_EQUALVERIFY, OP_CHECKSIG]))), 101, 2)"
      ]
     },
     "execution_count": 17,
     "metadata": {},
     "output_type": "execute_result"
    }
   ],
   "source": [
    "cltv_tx = proxy.getrawtransaction(cltv_txid)\n",
    "cltv_tx"
   ]
  },
  {
   "cell_type": "code",
   "execution_count": 18,
   "metadata": {},
   "outputs": [
    {
     "data": {
      "text/plain": [
       "<generator object Proxy.generate.<locals>.<genexpr> at 0x105732ca8>"
      ]
     },
     "execution_count": 18,
     "metadata": {},
     "output_type": "execute_result"
    }
   ],
   "source": [
    "proxy.generate(1)"
   ]
  },
  {
   "cell_type": "code",
   "execution_count": 19,
   "metadata": {},
   "outputs": [
    {
     "data": {
      "text/plain": [
       "[{'address': P2PKHBitcoinAddress('n2w4KybXLcWY9JciipTKfxAdiJj4nfec9f'),\n",
       "  'amount': 5000000000,\n",
       "  'confirmations': 101,\n",
       "  'outpoint': COutPoint(lx('0943ceb342dae65b6a727b775253a2b2904976c7eebe807dde8ec903d08d95ae'), 0),\n",
       "  'safe': True,\n",
       "  'scriptPubKey': CScript([x('03844e98cde1f0d9623b05b05452586a6c47daa9b19f815fc74a1e23c6ddf6c08a'), OP_CHECKSIG]),\n",
       "  'solvable': True,\n",
       "  'spendable': True},\n",
       " {'address': P2PKHBitcoinAddress('mwB4TeLNpY7n3n2eD75TQvZCSYdJhoQBXW'),\n",
       "  'amount': 3999996200,\n",
       "  'confirmations': 1,\n",
       "  'outpoint': COutPoint(lx('d821727d383620d97bcd96f5423ad926dcdcb797ada5c26bcf35b899d92501d2'), 1),\n",
       "  'safe': True,\n",
       "  'scriptPubKey': CScript([OP_DUP, OP_HASH160, x('abbed70287753c535626ffef1325ce0d411a43e7'), OP_EQUALVERIFY, OP_CHECKSIG]),\n",
       "  'solvable': True,\n",
       "  'spendable': True}]"
      ]
     },
     "execution_count": 19,
     "metadata": {},
     "output_type": "execute_result"
    }
   ],
   "source": [
    "proxy.listunspent()"
   ]
  },
  {
   "cell_type": "code",
   "execution_count": 32,
   "metadata": {},
   "outputs": [
    {
     "data": {
      "text/plain": [
       "CTxIn(COutPoint(lx('d821727d383620d97bcd96f5423ad926dcdcb797ada5c26bcf35b899d92501d2'), 0), CScript([]), 0x1)"
      ]
     },
     "execution_count": 32,
     "metadata": {},
     "output_type": "execute_result"
    }
   ],
   "source": [
    "outpoint = COutPoint(cltv_txid, 0)\n",
    "txin = CMutableTxIn(outpoint, nSequence=1)\n",
    "txin"
   ]
  },
  {
   "cell_type": "code",
   "execution_count": 33,
   "metadata": {},
   "outputs": [
    {
     "data": {
      "text/plain": [
       "P2PKHBitcoinAddress('mwBLxhujHjW8TAtsAJKskgFemU3ZtdWgB7')"
      ]
     },
     "execution_count": 33,
     "metadata": {},
     "output_type": "execute_result"
    }
   ],
   "source": [
    "dst_addr2 = proxy.getnewaddress()\n",
    "dst_addr2"
   ]
  },
  {
   "cell_type": "code",
   "execution_count": 34,
   "metadata": {},
   "outputs": [
    {
     "data": {
      "text/plain": [
       "CTxOut(9.99*COIN, CScript([OP_DUP, OP_HASH160, x('abcc9d412e79ea40b0b261bec70596cfc158ea56'), OP_EQUALVERIFY, OP_CHECKSIG]))"
      ]
     },
     "execution_count": 34,
     "metadata": {},
     "output_type": "execute_result"
    }
   ],
   "source": [
    "txout = CMutableTxOut(9.99*COIN,\n",
    "                      dst_addr2.to_scriptPubKey())\n",
    "txout"
   ]
  },
  {
   "cell_type": "code",
   "execution_count": 35,
   "metadata": {},
   "outputs": [
    {
     "data": {
      "text/plain": [
       "1509209683"
      ]
     },
     "execution_count": 35,
     "metadata": {},
     "output_type": "execute_result"
    }
   ],
   "source": [
    "curr_time = arrow.now()\n",
    "curr_time = curr_time.timestamp\n",
    "curr_time"
   ]
  },
  {
   "cell_type": "code",
   "execution_count": 36,
   "metadata": {},
   "outputs": [
    {
     "data": {
      "text/plain": [
       "CTransaction([CTxIn(COutPoint(lx('d821727d383620d97bcd96f5423ad926dcdcb797ada5c26bcf35b899d92501d2'), 0), CScript([]), 0x1)], [CTxOut(9.99*COIN, CScript([OP_DUP, OP_HASH160, x('abcc9d412e79ea40b0b261bec70596cfc158ea56'), OP_EQUALVERIFY, OP_CHECKSIG]))], 1509209683, 1)"
      ]
     },
     "execution_count": 36,
     "metadata": {},
     "output_type": "execute_result"
    }
   ],
   "source": [
    "spend_tx = CMutableTransaction([txin], [txout], nLockTime=curr_time)\n",
    "spend_tx"
   ]
  },
  {
   "cell_type": "code",
   "execution_count": 37,
   "metadata": {},
   "outputs": [
    {
     "data": {
      "text/plain": [
       "b'\\xf8\\xca\\x01\\t\\x9f\\xdd\\xf2\\x89[\\x96*\\xcd8)\\x11\\xad63\\x1a\\xf7\\xc5\\x13\\x93\\x93\\x10\\xbd\\x1b\\x10\\x97S\\x0c\\xf2'"
      ]
     },
     "execution_count": 37,
     "metadata": {},
     "output_type": "execute_result"
    }
   ],
   "source": [
    "sighash = SignatureHash(dst_script, spend_tx, 0, SIGHASH_ALL)\n",
    "sighash"
   ]
  },
  {
   "cell_type": "code",
   "execution_count": 38,
   "metadata": {},
   "outputs": [
    {
     "data": {
      "text/plain": [
       "b'0E\\x02!\\x00\\xa3Q\\xb9\\x1fL\\x8e\\x15VL.d\\x1e\\xe3$\\x08\\xba\\x87\\xf3\\xbd\\xd6@\\x04\\xf6Gz\\xf0\\xe8\\xcd*\\x8d<W\\x02 v\\x8fz\\xfd\\x16)\\x80\\xbfA(B\\x8f\\xce+J\\xa1Ey\\xd4\\xa1\\xe2\\xa0\\xc0`\\xa2\\xeb=\\x9d\\x0b\\xa7\\x857\\x01'"
      ]
     },
     "execution_count": 38,
     "metadata": {},
     "output_type": "execute_result"
    }
   ],
   "source": [
    "sig = dst_secret.sign(sighash) + bytes([SIGHASH_ALL])\n",
    "sig"
   ]
  },
  {
   "cell_type": "code",
   "execution_count": 39,
   "metadata": {},
   "outputs": [
    {
     "data": {
      "text/plain": [
       "CScript([x('3045022100a351b91f4c8e15564c2e641ee32408ba87f3bdd64004f6477af0e8cd2a8d3c570220768f7afd162980bf4128428fce2b4aa14579d4a1e2a0c060a2eb3d9d0ba7853701'), x('04d2b5f459b17521032a96f87371e3f6e721606ab8362f6cb8fae97d611ad9ce693e9127c2c8bf33bbac')])"
      ]
     },
     "execution_count": 39,
     "metadata": {},
     "output_type": "execute_result"
    }
   ],
   "source": [
    "sig_script = CScript([sig, dst_script])\n",
    "sig_script"
   ]
  },
  {
   "cell_type": "code",
   "execution_count": 40,
   "metadata": {},
   "outputs": [],
   "source": [
    "txin.scriptSig = sig_script"
   ]
  },
  {
   "cell_type": "code",
   "execution_count": 41,
   "metadata": {},
   "outputs": [
    {
     "data": {
      "text/plain": [
       "CTransaction([CTxIn(COutPoint(lx('d821727d383620d97bcd96f5423ad926dcdcb797ada5c26bcf35b899d92501d2'), 0), CScript([x('3045022100a351b91f4c8e15564c2e641ee32408ba87f3bdd64004f6477af0e8cd2a8d3c570220768f7afd162980bf4128428fce2b4aa14579d4a1e2a0c060a2eb3d9d0ba7853701'), x('04d2b5f459b17521032a96f87371e3f6e721606ab8362f6cb8fae97d611ad9ce693e9127c2c8bf33bbac')]), 0x1)], [CTxOut(9.99*COIN, CScript([OP_DUP, OP_HASH160, x('abcc9d412e79ea40b0b261bec70596cfc158ea56'), OP_EQUALVERIFY, OP_CHECKSIG]))], 1509209683, 1)"
      ]
     },
     "execution_count": 41,
     "metadata": {},
     "output_type": "execute_result"
    }
   ],
   "source": [
    "spend_tx"
   ]
  },
  {
   "cell_type": "code",
   "execution_count": 43,
   "metadata": {},
   "outputs": [
    {
     "data": {
      "text/plain": [
       "<generator object Proxy.generate.<locals>.<genexpr> at 0x1057e04c0>"
      ]
     },
     "execution_count": 43,
     "metadata": {},
     "output_type": "execute_result"
    }
   ],
   "source": [
    "proxy.generate(100)"
   ]
  },
  {
   "cell_type": "code",
   "execution_count": 44,
   "metadata": {},
   "outputs": [
    {
     "data": {
      "text/plain": [
       "'a5147def4dafee266145fbf8b82c152bf8296fe389fce974520ca866df03bb8b'"
      ]
     },
     "execution_count": 44,
     "metadata": {},
     "output_type": "execute_result"
    }
   ],
   "source": [
    "txid2 = proxy.sendrawtransaction(spend_tx)\n",
    "b2lx(txid2)"
   ]
  },
  {
   "cell_type": "code",
   "execution_count": 45,
   "metadata": {},
   "outputs": [
    {
     "data": {
      "text/plain": [
       "<generator object Proxy.generate.<locals>.<genexpr> at 0x1057e0b48>"
      ]
     },
     "execution_count": 45,
     "metadata": {},
     "output_type": "execute_result"
    }
   ],
   "source": [
    "proxy.generate(1)"
   ]
  },
  {
   "cell_type": "code",
   "execution_count": 46,
   "metadata": {},
   "outputs": [
    {
     "data": {
      "text/plain": [
       "{'amount': Decimal('9.99000000'),\n",
       " 'bip125-replaceable': 'no',\n",
       " 'blockhash': '79d92028600ebfd5829d04aa621eb85c5eff704abce901b91cf7bd0ccce069a1',\n",
       " 'blockindex': 1,\n",
       " 'blocktime': 1509209729,\n",
       " 'confirmations': 1,\n",
       " 'details': [{'account': '',\n",
       "   'address': 'mwBLxhujHjW8TAtsAJKskgFemU3ZtdWgB7',\n",
       "   'amount': Decimal('9.99000000'),\n",
       "   'category': 'receive',\n",
       "   'label': '',\n",
       "   'vout': 0}],\n",
       " 'hex': '0100000001d20125d999b835cf6bc2a5ad97b7dcdc26d93a42f596cd7bd92036387d7221d80000000074483045022100a351b91f4c8e15564c2e641ee32408ba87f3bdd64004f6477af0e8cd2a8d3c570220768f7afd162980bf4128428fce2b4aa14579d4a1e2a0c060a2eb3d9d0ba78537012a04d2b5f459b17521032a96f87371e3f6e721606ab8362f6cb8fae97d611ad9ce693e9127c2c8bf33bbac0100000001c0878b3b000000001976a914abcc9d412e79ea40b0b261bec70596cfc158ea5688ac53b6f459',\n",
       " 'time': 1509209713,\n",
       " 'timereceived': 1509209713,\n",
       " 'txid': 'a5147def4dafee266145fbf8b82c152bf8296fe389fce974520ca866df03bb8b',\n",
       " 'walletconflicts': []}"
      ]
     },
     "execution_count": 46,
     "metadata": {},
     "output_type": "execute_result"
    }
   ],
   "source": [
    "proxy.gettransaction(txid2)"
   ]
  },
  {
   "cell_type": "code",
   "execution_count": 14,
   "metadata": {},
   "outputs": [
    {
     "data": {
      "text/plain": [
       "P2PKHBitcoinAddress('n3iUoD7zqEXAwH6RCwnRpxQ2RVvGH1xSaQ')"
      ]
     },
     "execution_count": 14,
     "metadata": {},
     "output_type": "execute_result"
    }
   ],
   "source": [
    "src_addr = utxo['address']\n",
    "src_addr"
   ]
  },
  {
   "cell_type": "code",
   "execution_count": 11,
   "metadata": {},
   "outputs": [
    {
     "data": {
      "text/plain": [
       "CBitcoinSecret('cN9RYdbvGyjsq6xjRLi28tJC6Dco9J5YkByK3o5xVwqS81eZrfFZ')"
      ]
     },
     "execution_count": 11,
     "metadata": {},
     "output_type": "execute_result"
    }
   ],
   "source": [
    "src_secret = proxy.dumpprivkey(src_addr)\n",
    "src_secret"
   ]
  },
  {
   "cell_type": "code",
   "execution_count": 12,
   "metadata": {},
   "outputs": [
    {
     "data": {
      "text/plain": [
       "1509205855"
      ]
     },
     "execution_count": 12,
     "metadata": {},
     "output_type": "execute_result"
    }
   ],
   "source": []
  },
  {
   "cell_type": "code",
   "execution_count": 15,
   "metadata": {},
   "outputs": [
    {
     "data": {
      "text/plain": [
       "P2PKHBitcoinAddress('n3iUoD7zqEXAwH6RCwnRpxQ2RVvGH1xSaQ')"
      ]
     },
     "execution_count": 15,
     "metadata": {},
     "output_type": "execute_result"
    }
   ],
   "source": [
    "src_addr"
   ]
  },
  {
   "cell_type": "code",
   "execution_count": 16,
   "metadata": {},
   "outputs": [
    {
     "data": {
      "text/plain": [
       "CPubKey(b'\\x02\\xa1?!\\xb2\\xec\\xc5&\\xde\\x11Z|eb\\xc2\\x90h\\x0b\\x06x\\x83U4\\x9d\\x96\\xc3\\x96\\xad\\xef\\xb9\\x8f\\x95\\xc4')"
      ]
     },
     "execution_count": 16,
     "metadata": {},
     "output_type": "execute_result"
    }
   ],
   "source": [
    "src_secret.pub"
   ]
  },
  {
   "cell_type": "code",
   "execution_count": 13,
   "metadata": {},
   "outputs": [
    {
     "ename": "NameError",
     "evalue": "name 'privkey' is not defined",
     "output_type": "error",
     "traceback": [
      "\u001b[0;31m-------------------------------------------\u001b[0m",
      "\u001b[0;31mNameError\u001b[0m Traceback (most recent call last)",
      "\u001b[0;32m<ipython-input-13-bc522459a3f7>\u001b[0m in \u001b[0;36m<module>\u001b[0;34m()\u001b[0m\n\u001b[0;32m----> 1\u001b[0;31m \u001b[0mscript\u001b[0m \u001b[0;34m=\u001b[0m \u001b[0mCScript\u001b[0m\u001b[0;34m(\u001b[0m\u001b[0;34m[\u001b[0m\u001b[0mlock_time\u001b[0m\u001b[0;34m,\u001b[0m \u001b[0mOP_CHECKLOCKTIMEVERIFY\u001b[0m\u001b[0;34m,\u001b[0m \u001b[0mOP_DROP\u001b[0m\u001b[0;34m,\u001b[0m \u001b[0mprivkey\u001b[0m\u001b[0;34m.\u001b[0m\u001b[0mpub\u001b[0m\u001b[0;34m,\u001b[0m \u001b[0mOP_CHECKSIG\u001b[0m\u001b[0;34m]\u001b[0m\u001b[0;34m)\u001b[0m\u001b[0;34m\u001b[0m\u001b[0m\n\u001b[0m\u001b[1;32m      2\u001b[0m \u001b[0mscript\u001b[0m\u001b[0;34m\u001b[0m\u001b[0m\n",
      "\u001b[0;31mNameError\u001b[0m: name 'privkey' is not defined"
     ]
    }
   ],
   "source": []
  },
  {
   "cell_type": "code",
   "execution_count": null,
   "metadata": {},
   "outputs": [],
   "source": [
    "addr = P2SHBitcoinAddress.from_redeemScript(redeemScript)"
   ]
  },
  {
   "cell_type": "code",
   "execution_count": 14,
   "metadata": {},
   "outputs": [
    {
     "data": {
      "text/plain": [
       "{'account': '',\n",
       " 'address': P2PKHBitcoinAddress('mjjy43wHLMeoGy78Ju8DF9hBWZM1qyRss6'),\n",
       " 'amount': 999900000,\n",
       " 'confirmations': 0,\n",
       " 'outpoint': COutPoint(lx('497405713e6c094663245d28f465045e982cfece36d9b5a24bbcd9c68bad7952'), 0),\n",
       " 'safe': False,\n",
       " 'scriptPubKey': CScript([OP_DUP, OP_HASH160, x('2e568b3aca5284dabb37107d2fdcefbb8aad851e'), OP_EQUALVERIFY, OP_CHECKSIG]),\n",
       " 'solvable': True,\n",
       " 'spendable': True}"
      ]
     },
     "execution_count": 14,
     "metadata": {},
     "output_type": "execute_result"
    }
   ],
   "source": [
    "utxo = proxy.listunspent()[0]\n",
    "utxo"
   ]
  },
  {
   "cell_type": "code",
   "execution_count": 15,
   "metadata": {},
   "outputs": [
    {
     "data": {
      "text/plain": [
       "CTxIn(COutPoint(lx('497405713e6c094663245d28f465045e982cfece36d9b5a24bbcd9c68bad7952'), 0), CScript([]), 0x1)"
      ]
     },
     "execution_count": 15,
     "metadata": {},
     "output_type": "execute_result"
    }
   ],
   "source": [
    "txin = CMutableTxIn(utxo['outpoint'], nSequence=1)\n",
    "txin"
   ]
  },
  {
   "cell_type": "code",
   "execution_count": 17,
   "metadata": {},
   "outputs": [
    {
     "data": {
      "text/plain": [
       "P2PKHBitcoinAddress('mjjy43wHLMeoGy78Ju8DF9hBWZM1qyRss6')"
      ]
     },
     "execution_count": 17,
     "metadata": {},
     "output_type": "execute_result"
    }
   ],
   "source": [
    "src_addr = utxo['address']\n",
    "src_addr"
   ]
  },
  {
   "cell_type": "code",
   "execution_count": 22,
   "metadata": {},
   "outputs": [],
   "source": [
    "dest_addr = src_addr"
   ]
  },
  {
   "cell_type": "code",
   "execution_count": 45,
   "metadata": {},
   "outputs": [],
   "source": [
    "txout = CMutableTxOut(9.9*COIN,\n",
    "                      #dest_addr.to_scriptPubKey())\n",
    "                      script)"
   ]
  },
  {
   "cell_type": "code",
   "execution_count": 46,
   "metadata": {},
   "outputs": [
    {
     "data": {
      "text/plain": [
       "CTransaction([CTxIn(COutPoint(lx('497405713e6c094663245d28f465045e982cfece36d9b5a24bbcd9c68bad7952'), 0), CScript([x('304402203d4afe4c534e84f63912fe6af1b51daf0d7424f22070ac903dcb61d25ae8e5570220325d0bd51914831e21ef0c7136a87f5a96de1505d903814b1c42abacb518447601'), x('02ff97629efcb01518a6a5a41a40c6b2fbb93e9c726ebfe84b2b022189b71e4a2c')]), 0x1)], [CTxOut(9.9*COIN, CScript([x('6ac0ef59'), OP_CHECKLOCKTIMEVERIFY, OP_DROP, x('02b568858a407a8721923b89df9963d30013639ac690cce5f555529b77b83cbfc7'), OP_CHECKSIG]))], 0, 1)"
      ]
     },
     "execution_count": 46,
     "metadata": {},
     "output_type": "execute_result"
    }
   ],
   "source": [
    "tx = CMutableTransaction([txin], [txout])\n",
    "tx"
   ]
  },
  {
   "cell_type": "code",
   "execution_count": 39,
   "metadata": {},
   "outputs": [
    {
     "data": {
      "text/plain": [
       "CBitcoinSecret('cR6Nh29YCohUkf1GQ4WjX1uxRwUoESaCRBb7QdePLCWvhPzJLEYc')"
      ]
     },
     "execution_count": 39,
     "metadata": {},
     "output_type": "execute_result"
    }
   ],
   "source": [
    "src_secret = proxy.dumpprivkey(src_addr)\n",
    "src_secret"
   ]
  },
  {
   "cell_type": "code",
   "execution_count": 47,
   "metadata": {},
   "outputs": [
    {
     "data": {
      "text/plain": [
       "b\"A\\x15-\\xe0(\\xecO\\xce\\xe8R'\\x87\\xc0\\xd0P\\xb1\\xa1\\xdf\\x90\\n\\xceO~\\x15\\xb0\\xba\\x99\\xa8%:9\\xb2\""
      ]
     },
     "execution_count": 47,
     "metadata": {},
     "output_type": "execute_result"
    }
   ],
   "source": [
    "sighash = SignatureHash(src_addr.to_scriptPubKey(), tx, 0, SIGHASH_ALL)\n",
    "sighash"
   ]
  },
  {
   "cell_type": "code",
   "execution_count": 48,
   "metadata": {},
   "outputs": [
    {
     "data": {
      "text/plain": [
       "b\"0D\\x02 ]\\x0e\\r\\xaf\\r73\\xc9\\xfax}\\xbe$U\\xa6\\xb9'@\\x8dY\\xff\\xc3\\x9e\\xfee\\xbbg\\x1a\\x1c\\xe9;\\x15\\x02 X\\x96\\xd1\\x9a\\xc9\\xb1T\\xfd8\\xa1g\\xf0nU\\xd42\\xafj\\xa8\\x0c10\\xca@\\xf3,\\xc7Y\\x93\\xdf?\\x14\\x01\""
      ]
     },
     "execution_count": 48,
     "metadata": {},
     "output_type": "execute_result"
    }
   ],
   "source": [
    "sig = src_secret.sign(sighash) + bytes([SIGHASH_ALL])\n",
    "sig"
   ]
  },
  {
   "cell_type": "code",
   "execution_count": 49,
   "metadata": {},
   "outputs": [
    {
     "data": {
      "text/plain": [
       "CScript([x('304402205d0e0daf0d3733c9fa787dbe2455a6b927408d59ffc39efe65bb671a1ce93b1502205896d19ac9b154fd38a167f06e55d432af6aa80c3130ca40f32cc75993df3f1401'), x('02ff97629efcb01518a6a5a41a40c6b2fbb93e9c726ebfe84b2b022189b71e4a2c')])"
      ]
     },
     "execution_count": 49,
     "metadata": {},
     "output_type": "execute_result"
    }
   ],
   "source": [
    "txin.scriptSig = CScript([sig, src_secret.pub])\n",
    "txin.scriptSig"
   ]
  },
  {
   "cell_type": "code",
   "execution_count": 50,
   "metadata": {},
   "outputs": [
    {
     "data": {
      "text/plain": [
       "'16ae89fec61792e9015bfb3fced5f296e4c3b71c36e1cbe00266ffd4e9a5c46e'"
      ]
     },
     "execution_count": 50,
     "metadata": {},
     "output_type": "execute_result"
    }
   ],
   "source": [
    "txid = proxy.sendrawtransaction(tx)\n",
    "txid = b2lx(txid)\n",
    "txid"
   ]
  },
  {
   "cell_type": "markdown",
   "metadata": {},
   "source": [
    "## Spend timelock"
   ]
  },
  {
   "cell_type": "code",
   "execution_count": 180,
   "metadata": {},
   "outputs": [],
   "source": [
    "proxy = bitcoin.rpc.Proxy(btc_conf_file=conf_file.name, timeout=3600)"
   ]
  },
  {
   "cell_type": "code",
   "execution_count": 63,
   "metadata": {},
   "outputs": [
    {
     "data": {
      "text/plain": [
       "CTransaction((CTxIn(COutPoint(lx('497405713e6c094663245d28f465045e982cfece36d9b5a24bbcd9c68bad7952'), 0), CScript([x('304402205d0e0daf0d3733c9fa787dbe2455a6b927408d59ffc39efe65bb671a1ce93b1502205896d19ac9b154fd38a167f06e55d432af6aa80c3130ca40f32cc75993df3f1401'), x('02ff97629efcb01518a6a5a41a40c6b2fbb93e9c726ebfe84b2b022189b71e4a2c')]), 0x1),), (CTxOut(9.9*COIN, CScript([x('6ac0ef59'), OP_CHECKLOCKTIMEVERIFY, OP_DROP, x('02b568858a407a8721923b89df9963d30013639ac690cce5f555529b77b83cbfc7'), OP_CHECKSIG])),), 0, 1)"
      ]
     },
     "execution_count": 63,
     "metadata": {},
     "output_type": "execute_result"
    }
   ],
   "source": [
    "utxo2 = proxy.getrawtransaction(lx(txid))\n",
    "utxo2"
   ]
  },
  {
   "cell_type": "code",
   "execution_count": 74,
   "metadata": {},
   "outputs": [
    {
     "data": {
      "text/plain": [
       "COutPoint(lx('16ae89fec61792e9015bfb3fced5f296e4c3b71c36e1cbe00266ffd4e9a5c46e'), 0)"
      ]
     },
     "execution_count": 74,
     "metadata": {},
     "output_type": "execute_result"
    }
   ],
   "source": [
    "outpoint = COutPoint(utxo2.GetTxid(), 0)\n",
    "outpoint"
   ]
  },
  {
   "cell_type": "code",
   "execution_count": 75,
   "metadata": {},
   "outputs": [
    {
     "data": {
      "text/plain": [
       "CTxIn(COutPoint(lx('16ae89fec61792e9015bfb3fced5f296e4c3b71c36e1cbe00266ffd4e9a5c46e'), 0), CScript([]), 0x1)"
      ]
     },
     "execution_count": 75,
     "metadata": {},
     "output_type": "execute_result"
    }
   ],
   "source": [
    "txin2 = CMutableTxIn(outpoint, nSequence=1)\n",
    "txin2"
   ]
  },
  {
   "cell_type": "code",
   "execution_count": 79,
   "metadata": {},
   "outputs": [
    {
     "data": {
      "text/plain": [
       "CTxOut(9.9*COIN, CScript([x('6ac0ef59'), OP_CHECKLOCKTIMEVERIFY, OP_DROP, x('02b568858a407a8721923b89df9963d30013639ac690cce5f555529b77b83cbfc7'), OP_CHECKSIG]))"
      ]
     },
     "execution_count": 79,
     "metadata": {},
     "output_type": "execute_result"
    }
   ],
   "source": [
    "prevout = utxo2.vout[0]\n",
    "prevout"
   ]
  },
  {
   "cell_type": "code",
   "execution_count": 81,
   "metadata": {},
   "outputs": [
    {
     "data": {
      "text/plain": [
       "P2PKHBitcoinAddress('myVRap1agJZmbhQvaapPYDBLnu66jbwh4j')"
      ]
     },
     "execution_count": 81,
     "metadata": {},
     "output_type": "execute_result"
    }
   ],
   "source": [
    "dst_addr2 = proxy.getnewaddress()\n",
    "dst_addr2"
   ]
  },
  {
   "cell_type": "code",
   "execution_count": 82,
   "metadata": {},
   "outputs": [
    {
     "data": {
      "text/plain": [
       "CTxOut(9.89*COIN, CScript([OP_DUP, OP_HASH160, x('c528363a4b1210081812c22f7f1df0de9321d3db'), OP_EQUALVERIFY, OP_CHECKSIG]))"
      ]
     },
     "execution_count": 82,
     "metadata": {},
     "output_type": "execute_result"
    }
   ],
   "source": [
    "txout2 = CMutableTxOut(9.89*COIN,\n",
    "                       dst_addr2.to_scriptPubKey())\n",
    "txout2"
   ]
  },
  {
   "cell_type": "code",
   "execution_count": 172,
   "metadata": {},
   "outputs": [
    {
     "data": {
      "text/plain": [
       "1509024919"
      ]
     },
     "execution_count": 172,
     "metadata": {},
     "output_type": "execute_result"
    }
   ],
   "source": [
    "nLockTime = arrow.now().timestamp\n",
    "nLockTime"
   ]
  },
  {
   "cell_type": "code",
   "execution_count": 173,
   "metadata": {},
   "outputs": [
    {
     "data": {
      "text/plain": [
       "CTransaction([CTxIn(COutPoint(lx('16ae89fec61792e9015bfb3fced5f296e4c3b71c36e1cbe00266ffd4e9a5c46e'), 0), CScript([x('3045022100f2343220b82c6ec3579900ebfeadca45da7cc82d4d58faf5ddffcee4526d2866022048a6673001772c1887192b2b4a511fae78c7dbc841eacc0000e330e42aca31cd01')]), 0x1)], [CTxOut(9.89*COIN, CScript([OP_DUP, OP_HASH160, x('c528363a4b1210081812c22f7f1df0de9321d3db'), OP_EQUALVERIFY, OP_CHECKSIG]))], 1509024919, 1)"
      ]
     },
     "execution_count": 173,
     "metadata": {},
     "output_type": "execute_result"
    }
   ],
   "source": [
    "tx2 = CMutableTransaction([txin2], [txout2], nLockTime=nLockTime)\n",
    "tx2"
   ]
  },
  {
   "cell_type": "code",
   "execution_count": 87,
   "metadata": {},
   "outputs": [
    {
     "data": {
      "text/plain": [
       "CBitcoinSecret('cTt9MVXfyBcZKFHWzFZz68d1U1C184JDYHSyhUyHTyVYF65ktPF5')"
      ]
     },
     "execution_count": 87,
     "metadata": {},
     "output_type": "execute_result"
    }
   ],
   "source": [
    "dst_secret2 = proxy.dumpprivkey(dst_addr2)\n",
    "dst_secret2"
   ]
  },
  {
   "cell_type": "code",
   "execution_count": 174,
   "metadata": {},
   "outputs": [
    {
     "data": {
      "text/plain": [
       "CScript([x('6ac0ef59'), OP_CHECKLOCKTIMEVERIFY, OP_DROP, x('02b568858a407a8721923b89df9963d30013639ac690cce5f555529b77b83cbfc7'), OP_CHECKSIG])"
      ]
     },
     "execution_count": 174,
     "metadata": {},
     "output_type": "execute_result"
    }
   ],
   "source": [
    "prevout.scriptPubKey"
   ]
  },
  {
   "cell_type": "code",
   "execution_count": 175,
   "metadata": {},
   "outputs": [
    {
     "data": {
      "text/plain": [
       "b'\\x8d\\xce7|#\\xac\\xe1\\xf0\\xef\\x96R\\x15\\xd4o\\xd9\\xa1jK\\x90\\x07\\xc3=\\x817^\\xbd\\x86\\xe6\\xd7\\xd9\\xcdQ'"
      ]
     },
     "execution_count": 175,
     "metadata": {},
     "output_type": "execute_result"
    }
   ],
   "source": [
    "sighash2 = SignatureHash(prevout.scriptPubKey, tx2, 0, SIGHASH_ALL)\n",
    "sighash2"
   ]
  },
  {
   "cell_type": "code",
   "execution_count": 176,
   "metadata": {},
   "outputs": [
    {
     "data": {
      "text/plain": [
       "b'0D\\x02 !\\xfbDR\\xd8y\\xd4\"W\\xb5\\xf1\\x802\\xe3CA\\xc4q\\x1e\\t\\xab\\xe6\\xf1\\x84:\\xf6yt\\xf9\\xeb\\xd0\\xb6\\x02 P\\xc3\\x81x\\xb26vb\\x85-{\\x0b\\xc9q\\xf8\\x85\\xed\\xbc\\x15\\xe6_4\"\\xca^3V\\x8f\\xda\\x8e\\xc8%\\x01'"
      ]
     },
     "execution_count": 176,
     "metadata": {},
     "output_type": "execute_result"
    }
   ],
   "source": [
    "sig2 = privkey.sign(sighash2) + bytes([SIGHASH_ALL])\n",
    "sig2"
   ]
  },
  {
   "cell_type": "code",
   "execution_count": 177,
   "metadata": {},
   "outputs": [
    {
     "data": {
      "text/plain": [
       "CScript([x('3044022021fb4452d879d42257b5f18032e34341c4711e09abe6f1843af67974f9ebd0b6022050c38178b2367662852d7b0bc971f885edbc15e65f3422ca5e33568fda8ec82501')])"
      ]
     },
     "execution_count": 177,
     "metadata": {},
     "output_type": "execute_result"
    }
   ],
   "source": [
    "txin2.scriptSig = CScript([sig2])\n",
    "txin2.scriptSig"
   ]
  },
  {
   "cell_type": "code",
   "execution_count": 178,
   "metadata": {},
   "outputs": [
    {
     "data": {
      "text/plain": [
       "CTransaction([CTxIn(COutPoint(lx('16ae89fec61792e9015bfb3fced5f296e4c3b71c36e1cbe00266ffd4e9a5c46e'), 0), CScript([x('3044022021fb4452d879d42257b5f18032e34341c4711e09abe6f1843af67974f9ebd0b6022050c38178b2367662852d7b0bc971f885edbc15e65f3422ca5e33568fda8ec82501')]), 0x1)], [CTxOut(9.89*COIN, CScript([OP_DUP, OP_HASH160, x('c528363a4b1210081812c22f7f1df0de9321d3db'), OP_EQUALVERIFY, OP_CHECKSIG]))], 1509024919, 1)"
      ]
     },
     "execution_count": 178,
     "metadata": {},
     "output_type": "execute_result"
    }
   ],
   "source": [
    "tx2"
   ]
  },
  {
   "cell_type": "code",
   "execution_count": 179,
   "metadata": {},
   "outputs": [],
   "source": [
    "VerifyScript(txin2.scriptSig, prevout.scriptPubKey, tx2, 0, (SCRIPT_VERIFY_P2SH,))"
   ]
  },
  {
   "cell_type": "code",
   "execution_count": 182,
   "metadata": {},
   "outputs": [
    {
     "data": {
      "text/plain": [
       "'cde7b7447203f2734597990b2db9a22a06c2ddf47250472898c0f9c47fbf0e17'"
      ]
     },
     "execution_count": 182,
     "metadata": {},
     "output_type": "execute_result"
    }
   ],
   "source": [
    "txid = proxy.sendrawtransaction(tx2)\n",
    "txid = b2lx(txid)\n",
    "txid"
   ]
  },
  {
   "cell_type": "code",
   "execution_count": null,
   "metadata": {},
   "outputs": [],
   "source": []
  }
 ],
 "metadata": {
  "kernelspec": {
   "display_name": "Python 3",
   "language": "python",
   "name": "python3"
  },
  "language_info": {
   "codemirror_mode": {
    "name": "ipython",
    "version": 3
   },
   "file_extension": ".py",
   "mimetype": "text/x-python",
   "name": "python",
   "nbconvert_exporter": "python",
   "pygments_lexer": "ipython3",
   "version": "3.6.2"
  }
 },
 "nbformat": 4,
 "nbformat_minor": 2
}
