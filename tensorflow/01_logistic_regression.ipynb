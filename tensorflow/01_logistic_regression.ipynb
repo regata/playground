{
 "cells": [
  {
   "cell_type": "markdown",
   "metadata": {},
   "source": [
    "# Logistic Regression"
   ]
  },
  {
   "cell_type": "markdown",
   "metadata": {},
   "source": [
    "## Load digits dataset"
   ]
  },
  {
   "cell_type": "code",
   "execution_count": 1,
   "metadata": {
    "collapsed": false
   },
   "outputs": [],
   "source": [
    "from sklearn import datasets"
   ]
  },
  {
   "cell_type": "code",
   "execution_count": 2,
   "metadata": {
    "collapsed": false
   },
   "outputs": [
    {
     "data": {
      "text/plain": [
       "((1797, 64), (1797,))"
      ]
     },
     "execution_count": 2,
     "metadata": {},
     "output_type": "execute_result"
    }
   ],
   "source": [
    "digits = datasets.load_digits()\n",
    "data = digits.data\n",
    "labels = digits.target\n",
    "data.shape, labels.shape"
   ]
  },
  {
   "cell_type": "markdown",
   "metadata": {},
   "source": [
    "## Convert labels into one-hot vectors"
   ]
  },
  {
   "cell_type": "code",
   "execution_count": 3,
   "metadata": {
    "collapsed": true
   },
   "outputs": [],
   "source": [
    "from sklearn.preprocessing import OneHotEncoder"
   ]
  },
  {
   "cell_type": "code",
   "execution_count": 4,
   "metadata": {
    "collapsed": false
   },
   "outputs": [],
   "source": [
    "one_hot = OneHotEncoder(sparse=False, dtype=int)\n",
    "labels = labels.reshape(-1, 1) # convert (n,) -> (n,1)\n",
    "labels = one_hot.fit_transform(labels)"
   ]
  },
  {
   "cell_type": "markdown",
   "metadata": {},
   "source": [
    "## Split into training and test sets"
   ]
  },
  {
   "cell_type": "code",
   "execution_count": 5,
   "metadata": {
    "collapsed": true
   },
   "outputs": [],
   "source": [
    "from sklearn.model_selection import train_test_split"
   ]
  },
  {
   "cell_type": "code",
   "execution_count": 6,
   "metadata": {
    "collapsed": true
   },
   "outputs": [],
   "source": [
    "X_train, X_test, y_train, y_test = train_test_split(data, labels, test_size=0.2, random_state=42)"
   ]
  },
  {
   "cell_type": "markdown",
   "metadata": {},
   "source": [
    "## Build the model"
   ]
  },
  {
   "cell_type": "code",
   "execution_count": 7,
   "metadata": {
    "collapsed": true
   },
   "outputs": [],
   "source": [
    "import tensorflow as tf"
   ]
  },
  {
   "cell_type": "markdown",
   "metadata": {},
   "source": [
    "create variables and input nodes"
   ]
  },
  {
   "cell_type": "code",
   "execution_count": 8,
   "metadata": {
    "collapsed": true
   },
   "outputs": [],
   "source": [
    "x_dim = X_train.shape[1]\n",
    "y_dim = y_train.shape[1]\n",
    "\n",
    "W = tf.Variable(tf.random_normal([x_dim, y_dim], stddev=0.01), name='weights')\n",
    "b = tf.Variable(tf.zeros([y_dim]), name=\"biases\")\n",
    "\n",
    "X = tf.placeholder(tf.float32, [None, x_dim], name='X')\n",
    "y = tf.placeholder(tf.float32, [None, y_dim], name='y')"
   ]
  },
  {
   "cell_type": "markdown",
   "metadata": {},
   "source": [
    "wire the model"
   ]
  },
  {
   "cell_type": "code",
   "execution_count": 9,
   "metadata": {
    "collapsed": true
   },
   "outputs": [],
   "source": [
    "logits = tf.matmul(X, W) + b\n",
    "cross_entropy = tf.nn.softmax_cross_entropy_with_logits(logits, y, name='xentropy')\n",
    "loss = tf.reduce_mean(cross_entropy, name='xentropy_mean')"
   ]
  },
  {
   "cell_type": "markdown",
   "metadata": {},
   "source": [
    "create optimizer"
   ]
  },
  {
   "cell_type": "code",
   "execution_count": 10,
   "metadata": {
    "collapsed": true
   },
   "outputs": [],
   "source": [
    "tf.scalar_summary(loss.op.name, loss)\n",
    "lr = 0.05 # learning rate\n",
    "optimizer = tf.train.GradientDescentOptimizer(lr)\n",
    "# Create a variable to track the global step.\n",
    "global_step = tf.Variable(0, name='global_step', trainable=False)\n",
    "# Use the optimizer to apply the gradients that minimize the loss\n",
    "# (and also increment the global step counter) as a single training step.\n",
    "train_op = optimizer.minimize(loss, global_step=global_step)"
   ]
  },
  {
   "cell_type": "markdown",
   "metadata": {},
   "source": [
    "create evaluation and prediction subgraph"
   ]
  },
  {
   "cell_type": "code",
   "execution_count": 11,
   "metadata": {
    "collapsed": false
   },
   "outputs": [],
   "source": [
    "correct = tf.equal(tf.argmax(y,1), tf.argmax(logits,1))\n",
    "eval_op = tf.reduce_mean(tf.cast(correct, tf.float32))\n",
    "prediction_op = tf.argmax(logits, 1)"
   ]
  },
  {
   "cell_type": "code",
   "execution_count": 13,
   "metadata": {
    "collapsed": true
   },
   "outputs": [],
   "source": [
    "init_op = tf.initialize_all_variables()"
   ]
  },
  {
   "cell_type": "code",
   "execution_count": 14,
   "metadata": {
    "collapsed": false
   },
   "outputs": [
    {
     "name": "stdout",
     "output_type": "stream",
     "text": [
      "accuracy:  0.847222\n",
      "accuracy:  0.913889\n",
      "accuracy:  0.925\n",
      "accuracy:  0.927778\n",
      "accuracy:  0.936111\n",
      "accuracy:  0.955556\n",
      "accuracy:  0.941667\n",
      "accuracy:  0.95\n",
      "accuracy:  0.952778\n",
      "accuracy:  0.961111\n",
      "accuracy:  0.963889\n",
      "accuracy:  0.963889\n",
      "accuracy:  0.963889\n",
      "accuracy:  0.972222\n",
      "accuracy:  0.972222\n",
      "accuracy:  0.972222\n",
      "accuracy:  0.969444\n",
      "accuracy:  0.972222\n",
      "accuracy:  0.972222\n",
      "accuracy:  0.972222\n"
     ]
    }
   ],
   "source": [
    "batch_size = 100\n",
    "n_epochs = 20\n",
    "with tf.Session() as sess:\n",
    "    sess.run(init_op) # init all variables\n",
    "    \n",
    "    for e in range(n_epochs):\n",
    "        for start in range(0, len(X_train), batch_size):\n",
    "            end = start + batch_size\n",
    "            batch = {X: X_train[start:end], y: y_train[start:end]}\n",
    "\n",
    "            _, loss_val = sess.run([train_op, loss], feed_dict=batch)\n",
    "        \n",
    "        eval_val = sess.run([eval_op], feed_dict={X: X_test, y: y_test})\n",
    "        print('accuracy: ', eval_val[0])"
   ]
  },
  {
   "cell_type": "code",
   "execution_count": null,
   "metadata": {
    "collapsed": true
   },
   "outputs": [],
   "source": []
  }
 ],
 "metadata": {
  "kernelspec": {
   "display_name": "Python 3",
   "language": "python",
   "name": "python3"
  },
  "language_info": {
   "codemirror_mode": {
    "name": "ipython",
    "version": 3
   },
   "file_extension": ".py",
   "mimetype": "text/x-python",
   "name": "python",
   "nbconvert_exporter": "python",
   "pygments_lexer": "ipython3",
   "version": "3.5.2"
  }
 },
 "nbformat": 4,
 "nbformat_minor": 1
}
