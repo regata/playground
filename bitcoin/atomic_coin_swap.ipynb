{
 "cells": [
  {
   "cell_type": "markdown",
   "metadata": {},
   "source": [
    "# Atomically Trading Bitcoins Between Forks"
   ]
  },
  {
   "cell_type": "markdown",
   "metadata": {},
   "source": [
    "Implementation of http://homepages.cs.ncl.ac.uk/patrick.mc-corry/atomically-trading-roger.pdf"
   ]
  },
  {
   "cell_type": "code",
   "execution_count": null,
   "metadata": {},
   "outputs": [],
   "source": [
    "%load_ext autoreload\n",
    "%autoreload 2"
   ]
  },
  {
   "cell_type": "markdown",
   "metadata": {},
   "source": [
    "## Init blockchain"
   ]
  },
  {
   "cell_type": "code",
   "execution_count": null,
   "metadata": {},
   "outputs": [],
   "source": [
    "from rpc import Proxy\n",
    "import bitcoin"
   ]
  },
  {
   "cell_type": "code",
   "execution_count": null,
   "metadata": {},
   "outputs": [],
   "source": [
    "bitcoin.SelectParams('regtest')"
   ]
  },
  {
   "cell_type": "code",
   "execution_count": null,
   "metadata": {},
   "outputs": [],
   "source": [
    "rpc = Proxy()"
   ]
  },
  {
   "cell_type": "code",
   "execution_count": null,
   "metadata": {},
   "outputs": [],
   "source": [
    "_ = rpc.generate(101)"
   ]
  },
  {
   "cell_type": "markdown",
   "metadata": {},
   "source": [
    "## Init Alice and Bob"
   ]
  },
  {
   "cell_type": "code",
   "execution_count": null,
   "metadata": {},
   "outputs": [],
   "source": [
    "import random\n",
    "import hashlib\n",
    "from collections import namedtuple\n",
    "import bitcoin.core as bc\n",
    "import bitcoin.core.script as bs\n",
    "import bitcoin.wallet as bw"
   ]
  },
  {
   "cell_type": "code",
   "execution_count": null,
   "metadata": {},
   "outputs": [],
   "source": [
    "class User(object):\n",
    "    def __init__(self, rpc):\n",
    "        self.rpc = rpc\n",
    "        self._secrets = []\n",
    "        self.addresses = []\n",
    "        self._password = str(hash(self) + random.uniform(0,1)).encode()\n",
    "    \n",
    "    def generate_addresses(self, n):\n",
    "        for _ in range(n):\n",
    "            addr = self.rpc.getnewaddress()\n",
    "            secr = self.rpc.dumpprivkey(addr)\n",
    "            self.addresses.append(addr)\n",
    "            self._secrets.append(secr)\n",
    "            \n",
    "    def pub_key(self, key_id):\n",
    "        return self._secrets[key_id].pub\n",
    "    \n",
    "    @property\n",
    "    def utxos(self):\n",
    "        txs = self.rpc.listunspent(addrs=self.addresses)\n",
    "        return txs\n",
    "    \n",
    "    def utxo(self, amount):\n",
    "        # find the right utxo given `amount`\n",
    "        utxos = self.utxos\n",
    "        amounts = [u['amount'] for u in utxos]\n",
    "        utxo_id = amounts.index(amount)\n",
    "        utxo = utxos[utxo_id]\n",
    "        return utxo\n",
    "    \n",
    "    def sign_hash(self, key_id, sig_hash, sig_hash_type=bs.SIGHASH_ALL):\n",
    "        assert key_id >= 0 and key_id < len(self._secrets)\n",
    "        assert isinstance(sig_hash, bytes)\n",
    "\n",
    "        secret = self._secrets[key_id]\n",
    "        sig = secret.sign(sig_hash) + bytes([sig_hash_type])\n",
    "        return sig\n",
    "    \n",
    "    def sign_utxo(self, utxo, tx, vin_id):\n",
    "        # copy `tx`\n",
    "        tx = bc.CMutableTransaction.from_tx(tx)\n",
    "        # get required input\n",
    "        txin = tx.vin[vin_id]\n",
    "        assert txin.prevout == utxo['outpoint']\n",
    "        \n",
    "        addr = utxo['address']\n",
    "        key_id = self.addresses.index(addr)\n",
    "        secret = self._secrets[key_id]\n",
    "        \n",
    "        sighash = bs.SignatureHash(addr.to_scriptPubKey(),\n",
    "                                   tx,\n",
    "                                   vin_id,\n",
    "                                   bs.SIGHASH_ALL)\n",
    "        \n",
    "        sig = secret.sign(sighash) + bytes([bs.SIGHASH_ALL])\n",
    "        txin.scriptSig = bs.CScript([sig, secret.pub])\n",
    "        return tx\n",
    "    \n",
    "    def hashed_password(self):\n",
    "        return bc.Hash160(self._password)\n",
    "    \n",
    "    def reveal_password(self):\n",
    "        return self._password"
   ]
  },
  {
   "cell_type": "code",
   "execution_count": null,
   "metadata": {},
   "outputs": [],
   "source": [
    "ali = User(rpc)\n",
    "bob = User(rpc)\n",
    "\n",
    "ali.generate_addresses(6)\n",
    "bob.generate_addresses(6)"
   ]
  },
  {
   "cell_type": "code",
   "execution_count": null,
   "metadata": {},
   "outputs": [],
   "source": [
    "SWAP_AMOUT = 10 * bc.COIN\n",
    "CANCEL_AMOUNT = 2"
   ]
  },
  {
   "cell_type": "code",
   "execution_count": null,
   "metadata": {},
   "outputs": [],
   "source": [
    "_ = rpc.sendtoaddress(ali.addresses[0], SWAP_AMOUT)\n",
    "_ = rpc.sendtoaddress(bob.addresses[0], SWAP_AMOUT)"
   ]
  },
  {
   "cell_type": "code",
   "execution_count": null,
   "metadata": {},
   "outputs": [],
   "source": [
    "_ = rpc.generate(1)"
   ]
  },
  {
   "cell_type": "markdown",
   "metadata": {},
   "source": [
    "## Create 'timers'"
   ]
  },
  {
   "cell_type": "code",
   "execution_count": null,
   "metadata": {},
   "outputs": [],
   "source": [
    "curr_block = rpc.getinfo()['blocks']\n",
    "curr_block"
   ]
  },
  {
   "cell_type": "code",
   "execution_count": null,
   "metadata": {},
   "outputs": [],
   "source": [
    "Timers = namedtuple('SwapTimers', ['cancel', 'fork', 'bob', 'ali'])\n",
    "\n",
    "timers = Timers(cancel=curr_block + 4,\n",
    "                fork=curr_block + 6,\n",
    "                bob=curr_block + 8,\n",
    "                ali=curr_block + 10)\n",
    "timers"
   ]
  },
  {
   "cell_type": "markdown",
   "metadata": {},
   "source": [
    "## Define basic scripts"
   ]
  },
  {
   "cell_type": "code",
   "execution_count": null,
   "metadata": {},
   "outputs": [],
   "source": [
    "def get_refund_script(pk, delta):\n",
    "    assert isinstance(pk, bc.key.CPubKey)\n",
    "    assert isinstance(delta, int)\n",
    "    assert delta > 0\n",
    "\n",
    "    script = bs.CScript([\n",
    "        delta,\n",
    "        bs.OP_CHECKLOCKTIMEVERIFY,\n",
    "        bs.OP_DROP,\n",
    "        pk,\n",
    "        bs.OP_CHECKSIG\n",
    "    ])\n",
    "    return script\n",
    "\n",
    "def get_transfer_script(pk1, pk2, h):\n",
    "    assert isinstance(pk1, bc.key.CPubKey)\n",
    "    assert isinstance(pk2, bc.key.CPubKey)\n",
    "    assert isinstance(h, bytes)\n",
    "\n",
    "    script = bs.CScript([\n",
    "        bs.OP_2,\n",
    "        pk1,\n",
    "        pk2,\n",
    "        bs.OP_2,\n",
    "        bs.OP_CHECKMULTISIGVERIFY,\n",
    "        bs.OP_HASH160,\n",
    "        h,\n",
    "        bs.OP_EQUAL\n",
    "    ])\n",
    "\n",
    "    return script\n",
    "\n",
    "def get_cancel_script(pk1, pk2):\n",
    "    assert isinstance(pk1, bc.key.CPubKey)\n",
    "    assert isinstance(pk2, bc.key.CPubKey)\n",
    "\n",
    "    script = bs.CScript([\n",
    "        bs.OP_2,\n",
    "        pk1,\n",
    "        pk2,\n",
    "        bs.OP_2,\n",
    "        bs.OP_CHECKMULTISIG\n",
    "    ])\n",
    "\n",
    "    return script"
   ]
  },
  {
   "cell_type": "code",
   "execution_count": null,
   "metadata": {},
   "outputs": [],
   "source": [
    "def get_ali_deposit_script(ali, bob, timers):\n",
    "    # TODO: implement forfeit condition\n",
    "    refund_script = get_refund_script(ali.pub_key(1), timers.ali)\n",
    "    cancel_script = get_cancel_script(ali.pub_key(3), bob.pub_key(3))\n",
    "\n",
    "    h = ali.hashed_password()\n",
    "    transfer_script = get_transfer_script(ali.pub_key(2), bob.pub_key(2), h)\n",
    "\n",
    "    deposit = bs.CScript([\n",
    "        bs.OP_IF,\n",
    "            bs.OP_IF,\n",
    "                *list(refund_script),\n",
    "            bs.OP_ELSE,\n",
    "                *list(transfer_script),\n",
    "            bs.OP_ENDIF,\n",
    "        bs.OP_ELSE,\n",
    "            *list(cancel_script),\n",
    "        bs.OP_ENDIF])\n",
    "    return deposit\n",
    "\n",
    "def get_bob_deposit_script(ali, bob, timers):\n",
    "    # TODO: implement forfeit condition\n",
    "    refund_script = get_refund_script(bob.pub_key(1), timers.bob)\n",
    "    cancel_script = get_cancel_script(ali.pub_key(3), bob.pub_key(3))\n",
    "\n",
    "    h = ali.hashed_password()\n",
    "    transfer_script = get_transfer_script(ali.pub_key(2), bob.pub_key(2), h)\n",
    "\n",
    "    deposit = bs.CScript([\n",
    "        bs.OP_IF,\n",
    "            bs.OP_IF,\n",
    "                *list(refund_script),\n",
    "            bs.OP_ELSE,\n",
    "                *list(transfer_script),\n",
    "            bs.OP_ENDIF,\n",
    "        bs.OP_ELSE,\n",
    "            *list(cancel_script),\n",
    "        bs.OP_ENDIF])\n",
    "    return deposit"
   ]
  },
  {
   "cell_type": "markdown",
   "metadata": {},
   "source": [
    "## Define transactions"
   ]
  },
  {
   "cell_type": "code",
   "execution_count": null,
   "metadata": {},
   "outputs": [],
   "source": [
    "def get_fund_tx(ali,\n",
    "                bob,\n",
    "                ali_utxo,\n",
    "                bob_utxo,\n",
    "                timers,\n",
    "                cancel_amount=CANCEL_AMOUNT,\n",
    "                fee=0):\n",
    "    assert cancel_amount > 0\n",
    "    assert fee >= 0\n",
    "\n",
    "    ali_txin = bc.CMutableTxIn(ali_utxo['outpoint'], nSequence=0)\n",
    "    bob_txin = bc.CMutableTxIn(bob_utxo['outpoint'], nSequence=0)\n",
    "\n",
    "    ali_deposit = get_ali_deposit_script(ali, bob, timers)\n",
    "    bob_deposit = get_bob_deposit_script(ali, bob, timers)\n",
    "\n",
    "    ali_deposit_txout = bc.CMutableTxOut(\n",
    "        ali_utxo['amount'] - cancel_amount/2 - fee/2,\n",
    "        ali_deposit)\n",
    "    bob_deposit_txout = bc.CMutableTxOut(\n",
    "        bob_utxo['amount'] - cancel_amount/2 - fee/2,\n",
    "        bob_deposit)\n",
    "\n",
    "    # TODO: implement commit condition\n",
    "    cancel_script = get_cancel_script(ali.pub_key(2), bob.pub_key(2))\n",
    "    cancel_txout = bc.CMutableTxOut(cancel_amount, cancel_script)\n",
    "\n",
    "    vins = [ali_txin, bob_txin]\n",
    "    vouts = [ali_deposit_txout,\n",
    "             bob_deposit_txout, \n",
    "             cancel_txout]\n",
    "    fund_tx = bc.CMutableTransaction(vins, vouts)\n",
    "\n",
    "    fund_tx = ali.sign_utxo(ali_utxo, fund_tx, 0)\n",
    "    fund_tx = bob.sign_utxo(bob_utxo, fund_tx, 1)\n",
    "\n",
    "    return fund_tx"
   ]
  },
  {
   "cell_type": "code",
   "execution_count": null,
   "metadata": {},
   "outputs": [],
   "source": [
    "def get_cancel_tx(fund_tx, ali, bob, fee=0):\n",
    "    fund_tx_id = fund_tx.GetTxid()\n",
    "    ali_cancel_txin = bc.CMutableTxIn(bc.COutPoint(fund_tx_id, 0),\n",
    "                                      nSequence=0)\n",
    "    bob_cancel_txin = bc.CMutableTxIn(bc.COutPoint(fund_tx_id, 1),\n",
    "                                      nSequence=0)\n",
    "    can_cancel_txin = bc.CMutableTxIn(bc.COutPoint(fund_tx_id, 2),\n",
    "                                      nSequence=0)\n",
    "\n",
    "    cancel_amount = fund_tx.vout[2].nValue\n",
    "    assert CANCEL_AMOUNT == cancel_amount\n",
    "\n",
    "    ali_cancel_txout = bc.CMutableTxOut(\n",
    "        fund_tx.vout[0].nValue + cancel_amount/2 - fee/2,\n",
    "        ali.addresses[5].to_scriptPubKey())\n",
    "    bob_cancel_txout = bc.CMutableTxOut(\n",
    "        fund_tx.vout[1].nValue + cancel_amount/2 - fee/2,\n",
    "        bob.addresses[5].to_scriptPubKey())\n",
    "\n",
    "    vins = [ali_cancel_txin, bob_cancel_txin, can_cancel_txin]\n",
    "    vouts = [ali_cancel_txout, bob_cancel_txout]\n",
    "    cancel_tx = bc.CMutableTransaction(vins, vouts)\n",
    "\n",
    "    ali_cancel_sighash = bs.SignatureHash(\n",
    "        fund_tx.vout[0].scriptPubKey,\n",
    "        cancel_tx,\n",
    "        0,\n",
    "        bs.SIGHASH_ALL)\n",
    "\n",
    "    bob_cancel_sighash = bs.SignatureHash(\n",
    "        fund_tx.vout[1].scriptPubKey,\n",
    "        cancel_tx,\n",
    "        1,\n",
    "        bs.SIGHASH_ALL)\n",
    "\n",
    "    can_cancel_sighash = bs.SignatureHash(\n",
    "        fund_tx.vout[2].scriptPubKey,\n",
    "        cancel_tx,\n",
    "        2,\n",
    "        bs.SIGHASH_ALL)\n",
    "\n",
    "    ali_cancel_ali_sig = ali.sign_hash(3, ali_cancel_sighash)\n",
    "    ali_cancel_bob_sig = bob.sign_hash(3, ali_cancel_sighash)\n",
    "\n",
    "    bob_cancel_ali_sig = ali.sign_hash(3, bob_cancel_sighash)\n",
    "    bob_cancel_bob_sig = bob.sign_hash(3, bob_cancel_sighash)\n",
    "\n",
    "    can_cancel_ali_sig = ali.sign_hash(2, can_cancel_sighash)\n",
    "    can_cancel_bob_sig = bob.sign_hash(2, can_cancel_sighash)\n",
    "\n",
    "    ali_cancel_txin.scriptSig = bs.CScript(\n",
    "        [bs.OP_0, ali_cancel_ali_sig, ali_cancel_bob_sig, bs.OP_0])\n",
    "\n",
    "    bob_cancel_txin.scriptSig = bs.CScript(\n",
    "        [bs.OP_0, bob_cancel_ali_sig, bob_cancel_bob_sig, bs.OP_0])\n",
    "\n",
    "    can_cancel_txin.scriptSig = bs.CScript(\n",
    "        [bs.OP_0, can_cancel_ali_sig, can_cancel_bob_sig])\n",
    "\n",
    "    return cancel_tx"
   ]
  },
  {
   "cell_type": "code",
   "execution_count": null,
   "metadata": {},
   "outputs": [],
   "source": [
    "def get_ali_transfer_tx(fund_tx, ali, bob, fee=0):\n",
    "    fund_tx_id = fund_tx.GetTxid()\n",
    "    ali_txin = bc.CMutableTxIn(bc.COutPoint(fund_tx_id, 0),\n",
    "                               nSequence=0)\n",
    "    bob_txin = bc.CMutableTxIn(bc.COutPoint(fund_tx_id, 1),\n",
    "                               nSequence=0)\n",
    "\n",
    "    amount = fund_tx.vout[0].nValue + fund_tx.vout[1].nValue\n",
    "\n",
    "    ali_txout = bc.CMutableTxOut(\n",
    "        amount - fee,\n",
    "        ali.addresses[5].to_scriptPubKey())\n",
    "\n",
    "    vins = [ali_txin, bob_txin]\n",
    "    vouts = [ali_txout]\n",
    "    ali_tx = bc.CMutableTransaction(vins, vouts)\n",
    "\n",
    "    ali_deposit_sighash = bs.SignatureHash(\n",
    "        fund_tx.vout[0].scriptPubKey,\n",
    "        ali_tx,\n",
    "        0,\n",
    "        bs.SIGHASH_ALL)\n",
    "\n",
    "    bob_deposit_sighash = bs.SignatureHash(\n",
    "        fund_tx.vout[1].scriptPubKey,\n",
    "        ali_tx,\n",
    "        1,\n",
    "        bs.SIGHASH_ALL)\n",
    "\n",
    "    ali_deposit_ali_sig = ali.sign_hash(2, ali_deposit_sighash)\n",
    "    ali_deposit_bob_sig = bob.sign_hash(2, ali_deposit_sighash)\n",
    "\n",
    "    bob_deposit_ali_sig = ali.sign_hash(2, bob_deposit_sighash)\n",
    "    bob_deposit_bob_sig = bob.sign_hash(2, bob_deposit_sighash)\n",
    "\n",
    "    ali_txin.scriptSig = bs.CScript(\n",
    "        [bs.OP_0, ali_deposit_ali_sig, ali_deposit_bob_sig, bs.OP_0, bs.OP_1])\n",
    "\n",
    "    bob_txin.scriptSig = bs.CScript(\n",
    "        [bs.OP_0, bob_deposit_ali_sig, bob_deposit_bob_sig, bs.OP_0, bs.OP_1])\n",
    "\n",
    "    return ali_tx\n",
    "\n",
    "# TODO: implement ali -> bob transfer tx"
   ]
  },
  {
   "cell_type": "markdown",
   "metadata": {},
   "source": [
    "## Create $T^{Fund}$ transaction"
   ]
  },
  {
   "cell_type": "code",
   "execution_count": null,
   "metadata": {},
   "outputs": [],
   "source": [
    "ali_utxo = ali.utxo(SWAP_AMOUT)\n",
    "bob_utxo = bob.utxo(SWAP_AMOUT)"
   ]
  },
  {
   "cell_type": "code",
   "execution_count": null,
   "metadata": {},
   "outputs": [],
   "source": [
    "fund_tx = get_fund_tx(ali, bob, ali_utxo, bob_utxo, timers)"
   ]
  },
  {
   "cell_type": "code",
   "execution_count": null,
   "metadata": {},
   "outputs": [],
   "source": [
    "# https://github.com/petertodd/python-bitcoinlib/blob/5e150ac4a50791e6293752ceef8647b9bb3273c0/examples/timestamp-op-ret.py#L66\n",
    "FEE_PER_BYTE = 0.00025 * bc.COIN/1000"
   ]
  },
  {
   "cell_type": "code",
   "execution_count": null,
   "metadata": {},
   "outputs": [],
   "source": [
    "n_bytes = len(fund_tx.serialize())\n",
    "fee = n_bytes * FEE_PER_BYTE\n",
    "n_bytes, fee"
   ]
  },
  {
   "cell_type": "code",
   "execution_count": null,
   "metadata": {},
   "outputs": [],
   "source": [
    "fund_tx = get_fund_tx(ali, bob, ali_utxo, bob_utxo, timers, fee=fee)"
   ]
  },
  {
   "cell_type": "code",
   "execution_count": null,
   "metadata": {},
   "outputs": [],
   "source": [
    "fund_tx_id = rpc.sendrawtransaction(fund_tx)"
   ]
  },
  {
   "cell_type": "code",
   "execution_count": null,
   "metadata": {},
   "outputs": [],
   "source": [
    "_ = rpc.generate(1)"
   ]
  },
  {
   "cell_type": "code",
   "execution_count": null,
   "metadata": {},
   "outputs": [],
   "source": [
    "assert rpc.gettransaction(fund_tx_id)['confirmations'] == 1"
   ]
  },
  {
   "cell_type": "markdown",
   "metadata": {},
   "source": [
    "## Create $T^{cancel}$"
   ]
  },
  {
   "cell_type": "code",
   "execution_count": null,
   "metadata": {},
   "outputs": [],
   "source": [
    "fund_tx = rpc.getrawtransaction(fund_tx_id)"
   ]
  },
  {
   "cell_type": "code",
   "execution_count": null,
   "metadata": {},
   "outputs": [],
   "source": [
    "cancel_tx = get_cancel_tx(fund_tx, ali, bob)"
   ]
  },
  {
   "cell_type": "code",
   "execution_count": null,
   "metadata": {},
   "outputs": [],
   "source": [
    "n_bytes = len(cancel_tx.serialize())\n",
    "fee = n_bytes * FEE_PER_BYTE\n",
    "n_bytes, fee"
   ]
  },
  {
   "cell_type": "code",
   "execution_count": null,
   "metadata": {},
   "outputs": [],
   "source": [
    "cancel_tx = get_cancel_tx(fund_tx, ali, bob, fee=fee)"
   ]
  },
  {
   "cell_type": "code",
   "execution_count": null,
   "metadata": {},
   "outputs": [],
   "source": [
    "# spend T_cancel\n",
    "# cancel_tx_id = rpc.sendrawtransaction(cancel_tx)\n",
    "# _ = rpc.generate(1)\n",
    "# assert rpc.gettransaction(cancel_tx_id)['confirmations'] == 1"
   ]
  },
  {
   "cell_type": "markdown",
   "metadata": {},
   "source": [
    "## Create $T^{transfer}$"
   ]
  },
  {
   "cell_type": "code",
   "execution_count": null,
   "metadata": {},
   "outputs": [],
   "source": [
    "fund_tx = rpc.getrawtransaction(fund_tx_id)"
   ]
  },
  {
   "cell_type": "code",
   "execution_count": null,
   "metadata": {},
   "outputs": [],
   "source": [
    "transfer_tx = get_ali_transfer_tx(fund_tx, ali, bob)\n",
    "\n",
    "# Reveal Ali's password\n",
    "transfer_tx.vin[0].scriptSig = bc.CScript([ali.reveal_password()] + list(transfer_tx.vin[0].scriptSig))\n",
    "transfer_tx.vin[1].scriptSig = bc.CScript([ali.reveal_password()] + list(transfer_tx.vin[1].scriptSig))"
   ]
  },
  {
   "cell_type": "code",
   "execution_count": null,
   "metadata": {},
   "outputs": [],
   "source": [
    "n_bytes = len(transfer_tx.serialize())\n",
    "fee = n_bytes * FEE_PER_BYTE\n",
    "n_bytes, fee"
   ]
  },
  {
   "cell_type": "code",
   "execution_count": null,
   "metadata": {},
   "outputs": [],
   "source": [
    "transfer_tx = get_ali_transfer_tx(fund_tx, ali, bob, fee=fee)\n",
    "\n",
    "# Reveal Ali's password\n",
    "transfer_tx.vin[0].scriptSig = bc.CScript([ali.reveal_password()] + list(transfer_tx.vin[0].scriptSig))\n",
    "transfer_tx.vin[1].scriptSig = bc.CScript([ali.reveal_password()] + list(transfer_tx.vin[1].scriptSig))"
   ]
  },
  {
   "cell_type": "code",
   "execution_count": null,
   "metadata": {},
   "outputs": [],
   "source": [
    "transfer_tx_id = rpc.sendrawtransaction(transfer_tx)\n",
    "_ = rpc.generate(1)\n",
    "assert rpc.gettransaction(transfer_tx_id)['confirmations'] == 1"
   ]
  },
  {
   "cell_type": "markdown",
   "metadata": {},
   "source": [
    "## Create $T^{commit}$"
   ]
  },
  {
   "cell_type": "code",
   "execution_count": null,
   "metadata": {},
   "outputs": [],
   "source": [
    "# TODO: Implement commit tx"
   ]
  },
  {
   "cell_type": "code",
   "execution_count": null,
   "metadata": {},
   "outputs": [],
   "source": []
  }
 ],
 "metadata": {
  "kernelspec": {
   "display_name": "Python 3",
   "language": "python",
   "name": "python3"
  },
  "language_info": {
   "codemirror_mode": {
    "name": "ipython",
    "version": 3
   },
   "file_extension": ".py",
   "mimetype": "text/x-python",
   "name": "python",
   "nbconvert_exporter": "python",
   "pygments_lexer": "ipython3",
   "version": "3.6.2"
  }
 },
 "nbformat": 4,
 "nbformat_minor": 2
}
