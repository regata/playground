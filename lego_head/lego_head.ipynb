{
 "cells": [
  {
   "cell_type": "markdown",
   "metadata": {},
   "source": [
    "# Lego Head"
   ]
  },
  {
   "cell_type": "code",
   "execution_count": 1,
   "metadata": {},
   "outputs": [],
   "source": [
    "import svgwrite\n",
    "from svgwrite.extensions import Inkscape\n",
    "from svgwrite import cm, mm   \n",
    "\n",
    "import numpy as np\n",
    "from numpy import pi"
   ]
  },
  {
   "cell_type": "code",
   "execution_count": 2,
   "metadata": {},
   "outputs": [],
   "source": [
    "def mm_to_px(mm, dpi=96):\n",
    "    inch_per_mm = 0.0393701 # inch/mm\n",
    "    return mm * inch_per_mm * dpi"
   ]
  },
  {
   "cell_type": "markdown",
   "metadata": {},
   "source": [
    "## Dimensions\n",
    "\n",
    "https://i.pinimg.com/originals/17/82/5b/17825b56bc6ff86b27dd6b5328b7f15a.jpg"
   ]
  },
  {
   "cell_type": "code",
   "execution_count": 3,
   "metadata": {},
   "outputs": [
    {
     "data": {
      "text/plain": [
       "95.4929658551372"
      ]
     },
     "execution_count": 3,
     "metadata": {},
     "output_type": "execute_result"
    }
   ],
   "source": [
    "# all dimensions are in mm\n",
    "neck_radius = 600 / (2 * pi) # this is the anchor size. Everything else is scaled based on this value\n",
    "neck_radius"
   ]
  },
  {
   "cell_type": "code",
   "execution_count": 4,
   "metadata": {},
   "outputs": [],
   "source": [
    "r = 1.6 # head curvature radius, the original value is 2.0"
   ]
  },
  {
   "cell_type": "code",
   "execution_count": 5,
   "metadata": {},
   "outputs": [],
   "source": [
    "# \"r / 2\" is because at the bottom it's approximately a quater of the torus\n",
    "scaler = neck_radius / ((10.2 - 2 * r / 2) / 2)"
   ]
  },
  {
   "cell_type": "code",
   "execution_count": 6,
   "metadata": {},
   "outputs": [
    {
     "data": {
      "text/plain": [
       "22.207666477938886"
      ]
     },
     "execution_count": 6,
     "metadata": {},
     "output_type": "execute_result"
    }
   ],
   "source": [
    "neck_height = 1 * scaler\n",
    "neck_height"
   ]
  },
  {
   "cell_type": "code",
   "execution_count": 7,
   "metadata": {},
   "outputs": [
    {
     "data": {
      "text/plain": [
       "35.53226636470222"
      ]
     },
     "execution_count": 7,
     "metadata": {},
     "output_type": "execute_result"
    }
   ],
   "source": [
    "torus_cross_radius = r * scaler # torus cross section radius\n",
    "torus_cross_radius"
   ]
  },
  {
   "cell_type": "code",
   "execution_count": 8,
   "metadata": {},
   "outputs": [
    {
     "data": {
      "text/plain": [
       "113.25909903748831"
      ]
     },
     "execution_count": 8,
     "metadata": {},
     "output_type": "execute_result"
    }
   ],
   "source": [
    "head_radius = (10.2 / 2) * scaler\n",
    "head_radius"
   ]
  },
  {
   "cell_type": "code",
   "execution_count": 9,
   "metadata": {},
   "outputs": [
    {
     "data": {
      "text/plain": [
       "128.80446557204553"
      ]
     },
     "execution_count": 9,
     "metadata": {},
     "output_type": "execute_result"
    }
   ],
   "source": [
    "head_height = (9.0 - 2 * r) * scaler # the original value is 8.5\n",
    "head_height"
   ]
  },
  {
   "cell_type": "code",
   "execution_count": 10,
   "metadata": {},
   "outputs": [
    {
     "data": {
      "text/plain": [
       "(64.40223278602276, 64.40223278602276, 11.103833238969443)"
      ]
     },
     "execution_count": 10,
     "metadata": {},
     "output_type": "execute_result"
    }
   ],
   "source": [
    "# eye_top_offset = (3.8 - r) * scaler\n",
    "eye_top_offset = head_height / 2\n",
    "eye_dist = 2.9 * scaler\n",
    "eye_radius = 0.5 * scaler\n",
    "eye_top_offset, eye_dist, eye_radius"
   ]
  },
  {
   "cell_type": "code",
   "execution_count": 11,
   "metadata": {},
   "outputs": [
    {
     "data": {
      "text/plain": [
       "103.04357245763643"
      ]
     },
     "execution_count": 11,
     "metadata": {},
     "output_type": "execute_result"
    }
   ],
   "source": [
    "mouth_top_offset = head_height * 4 / 5\n",
    "mouth_top_offset"
   ]
  },
  {
   "cell_type": "code",
   "execution_count": 12,
   "metadata": {},
   "outputs": [
    {
     "data": {
      "text/plain": [
       "77.72683267278609"
      ]
     },
     "execution_count": 12,
     "metadata": {},
     "output_type": "execute_result"
    }
   ],
   "source": [
    "head_top_radius = (10.2 - 2 * r) / 2 * scaler\n",
    "head_top_radius"
   ]
  },
  {
   "cell_type": "code",
   "execution_count": 13,
   "metadata": {},
   "outputs": [
    {
     "data": {
      "text/plain": [
       "54.408782870950276"
      ]
     },
     "execution_count": 13,
     "metadata": {},
     "output_type": "execute_result"
    }
   ],
   "source": [
    "stud_radius = (4.9 / 2) * scaler # top of the head stud radius\n",
    "stud_radius"
   ]
  },
  {
   "cell_type": "code",
   "execution_count": 14,
   "metadata": {},
   "outputs": [
    {
     "data": {
      "text/plain": [
       "39.52964633073122"
      ]
     },
     "execution_count": 14,
     "metadata": {},
     "output_type": "execute_result"
    }
   ],
   "source": [
    "stud_height = 1.78 * scaler\n",
    "stud_height"
   ]
  },
  {
   "cell_type": "code",
   "execution_count": 15,
   "metadata": {},
   "outputs": [],
   "source": [
    "margin = 5 # print margin, mm\n",
    "stroke_width = '0.01mm'\n",
    "tab_offset = 10 # mm\n",
    "\n",
    "line_style = {\n",
    "    'stroke_width': stroke_width,\n",
    "    'stroke': 'black',\n",
    "    'fill': 'none'\n",
    "}\n",
    "\n",
    "# due to a bug in inkscape 'stroke_dasharray' must be set to pixels\n",
    "dashed_line_style = {\n",
    "    'stroke_width': stroke_width,\n",
    "    'stroke': 'black',\n",
    "    'fill': 'none',\n",
    "    'stroke_dasharray': mm_to_px(2),\n",
    "    'stroke_dashoffset': mm_to_px(2)\n",
    "}"
   ]
  },
  {
   "cell_type": "markdown",
   "metadata": {},
   "source": [
    "## Draw top half torus"
   ]
  },
  {
   "cell_type": "code",
   "execution_count": 16,
   "metadata": {},
   "outputs": [],
   "source": [
    "n_cross = 12 # number of sides in the cross section of the torus\n",
    "assert n_cross % 4 == 0 # torus -> polygon math needs to be checked for n_cross % 4 != 0"
   ]
  },
  {
   "cell_type": "code",
   "execution_count": 17,
   "metadata": {},
   "outputs": [],
   "source": [
    "n_equator = 16 # number of sides along the equator of the torus"
   ]
  },
  {
   "cell_type": "code",
   "execution_count": 18,
   "metadata": {},
   "outputs": [],
   "source": [
    "alpha_cross = 2 * pi / n_cross\n",
    "alpha_equator = 2 * pi / n_equator"
   ]
  },
  {
   "cell_type": "code",
   "execution_count": 19,
   "metadata": {},
   "outputs": [
    {
     "data": {
      "text/plain": [
       "18.39285450168129"
      ]
     },
     "execution_count": 19,
     "metadata": {},
     "output_type": "execute_result"
    }
   ],
   "source": [
    "cross_side = 2 * torus_cross_radius * np.sin(alpha_cross / 2) # side length along longitude (vertical)\n",
    "cross_side"
   ]
  },
  {
   "cell_type": "code",
   "execution_count": 20,
   "metadata": {},
   "outputs": [
    {
     "data": {
      "text/plain": [
       "[42.334084058163064,\n",
       " 44.191508204960314,\n",
       " 42.334084058163064,\n",
       " 37.259506917907714,\n",
       " 30.32750563085511,\n",
       " 23.395504343802518]"
      ]
     },
     "execution_count": 20,
     "metadata": {},
     "output_type": "execute_result"
    }
   ],
   "source": [
    "lats = []\n",
    "for i in range(-1, n_cross // 4 + 2):\n",
    "    ri = head_radius - (torus_cross_radius - torus_cross_radius * np.cos(i * alpha_cross))\n",
    "    lat = 2 * ri * np.sin(alpha_equator / 2)\n",
    "    lats.append(lat)\n",
    "lats"
   ]
  },
  {
   "cell_type": "code",
   "execution_count": 21,
   "metadata": {},
   "outputs": [],
   "source": [
    "class Point():\n",
    "    def __init__(self, x, y):\n",
    "        self.x = x\n",
    "        self.y = y\n",
    "\n",
    "    def to_mm(self):\n",
    "        # return (self.x * mm, self.y * mm)\n",
    "        return (mm_to_px(self.x), mm_to_px(self.y))\n",
    "    \n",
    "    def to_np(self):\n",
    "        return np.array([self.x, self.y], dtype=float)\n",
    "\n",
    "class Polyline:\n",
    "    def __init__(self, points):\n",
    "        assert len(points) >= 2\n",
    "        self.points = points\n",
    "        \n",
    "    def draw(self, container, **style):\n",
    "        path = svgwrite.path.Path(d=('M', *self.points[0].to_mm()), **style)\n",
    "        for p in self.points[1:]:\n",
    "            path.push('L', *p.to_mm())\n",
    "        container.add(path)\n",
    "        return self"
   ]
  },
  {
   "cell_type": "code",
   "execution_count": 22,
   "metadata": {},
   "outputs": [],
   "source": [
    "def rotate(xy, radians):\n",
    "    x, y = xy\n",
    "    xx = x * np.cos(radians) + y * np.sin(radians)\n",
    "    yy = -x * np.sin(radians) + y * np.cos(radians)\n",
    "\n",
    "    return np.array([xx, yy], dtype=float)\n",
    "\n",
    "def create_tab(line, offset):\n",
    "    a, b = line.points\n",
    "    a = a.to_np()\n",
    "    b = b.to_np()\n",
    "    \n",
    "    u = (b - a) / np.linalg.norm(b - a) # unit vector a -> b\n",
    "    \n",
    "    a_step = offset * rotate(u, -pi/4)\n",
    "    b_step = offset * rotate(-u, -3*pi/4)\n",
    "\n",
    "    at = a + a_step\n",
    "    bt = b - b_step\n",
    "\n",
    "    return Polyline([Point(*a), Point(*at), Point(*bt), Point(*b)])"
   ]
  },
  {
   "cell_type": "code",
   "execution_count": 23,
   "metadata": {},
   "outputs": [],
   "source": [
    "n_copies = 4"
   ]
  },
  {
   "cell_type": "code",
   "execution_count": 24,
   "metadata": {},
   "outputs": [],
   "source": [
    "canvas_width = mm_to_px(n_copies * (np.max(lats) + tab_offset + margin) + margin)\n",
    "canvas_height = mm_to_px(len(lats) * cross_side + margin)"
   ]
  },
  {
   "cell_type": "code",
   "execution_count": 25,
   "metadata": {},
   "outputs": [],
   "source": [
    "dwg = svgwrite.Drawing('top-half-torus.svg', profile='full', size=(canvas_width, canvas_height))\n",
    "inkscape = Inkscape(dwg)\n",
    "tmp_layer = inkscape.layer(label=\"temp\", locked=False)\n",
    "\n",
    "a1 = b1 = None\n",
    "a2 = b2 = None\n",
    "\n",
    "for i, l in enumerate(lats):\n",
    "    a1, b1 = a2, b2\n",
    "    \n",
    "    a2 = Point(-l / 2, i * cross_side)\n",
    "    b2 = Point(l / 2, i * cross_side)\n",
    "    \n",
    "    if i == 0 or i == len(lats) - 1:\n",
    "        Polyline([a2, b2]).draw(tmp_layer, **line_style)\n",
    "    else:\n",
    "        Polyline([a2, b2]).draw(tmp_layer, **dashed_line_style)\n",
    "        \n",
    "    if i == 0:\n",
    "        continue\n",
    "    \n",
    "    left_lon_line = Polyline([a1, a2]).draw(tmp_layer, **dashed_line_style)\n",
    "    right_lon_line = Polyline([b1, b2]).draw(tmp_layer, **line_style)\n",
    "    \n",
    "    create_tab(left_lon_line, tab_offset).draw(tmp_layer, **line_style)    "
   ]
  },
  {
   "cell_type": "code",
   "execution_count": 26,
   "metadata": {},
   "outputs": [
    {
     "data": {
      "image/svg+xml": [
       "<svg baseProfile=\"full\" height=\"435.9956761055861\" version=\"1.1\" width=\"913.7618773171615\" xmlns=\"http://www.w3.org/2000/svg\" xmlns:ev=\"http://www.w3.org/2001/xml-events\" xmlns:inkscape=\"http://www.inkscape.org/namespaces/inkscape\" xmlns:sodipodi=\"http://sodipodi.sourceforge.net/DTD/sodipodi-0.dtd\" xmlns:xlink=\"http://www.w3.org/1999/xlink\"><defs /><g inkscape:groupmode=\"layer\" inkscape:label=\"lego\"><path d=\"M -80.00146189335771 0.0 L 80.00146189335771 0.0\" fill=\"none\" stroke=\"black\" stroke-width=\"0.01mm\" transform=\"translate(121.30685266464519,18.897647999999997)\" /><path d=\"M -83.51155666464518 69.51633801759768 L 83.51155666464518 69.51633801759768\" fill=\"none\" stroke=\"black\" stroke-dasharray=\"7.5590592\" stroke-dashoffset=\"7.5590592\" stroke-width=\"0.01mm\" transform=\"translate(121.30685266464519,18.897647999999997)\" /><path d=\"M -80.00146189335771 0.0 L -83.51155666464518 69.51633801759768\" fill=\"none\" stroke=\"black\" stroke-dasharray=\"7.5590592\" stroke-dashoffset=\"7.5590592\" stroke-width=\"0.01mm\" transform=\"translate(121.30685266464519,18.897647999999997)\" /><path d=\"M 80.00146189335771 0.0 L 83.51155666464518 69.51633801759768\" fill=\"none\" stroke=\"black\" stroke-width=\"0.01mm\" transform=\"translate(121.30685266464519,18.897647999999997)\" /><path d=\"M -80.00146189335771 0.0 L -108.04049476695775 25.34357976373486 L -108.85513642838005 41.477305143997626 L -83.51155666464518 69.51633801759768\" fill=\"none\" stroke=\"black\" stroke-width=\"0.01mm\" transform=\"translate(121.30685266464519,18.897647999999997)\" /><path d=\"M -80.00146189335771 139.03267603519535 L 80.00146189335771 139.03267603519535\" fill=\"none\" stroke=\"black\" stroke-dasharray=\"7.5590592\" stroke-dashoffset=\"7.5590592\" stroke-width=\"0.01mm\" transform=\"translate(121.30685266464519,18.897647999999997)\" /><path d=\"M -83.51155666464518 69.51633801759768 L -80.00146189335771 139.03267603519535\" fill=\"none\" stroke=\"black\" stroke-dasharray=\"7.5590592\" stroke-dashoffset=\"7.5590592\" stroke-width=\"0.01mm\" transform=\"translate(121.30685266464519,18.897647999999997)\" /><path d=\"M 83.51155666464518 69.51633801759768 L 80.00146189335771 139.03267603519535\" fill=\"none\" stroke=\"black\" stroke-width=\"0.01mm\" transform=\"translate(121.30685266464519,18.897647999999997)\" /><path d=\"M -83.51155666464518 69.51633801759768 L -108.85513642838005 97.55537089119775 L -108.04049476695778 113.6890962714605 L -80.00146189335771 139.03267603519535\" fill=\"none\" stroke=\"black\" stroke-width=\"0.01mm\" transform=\"translate(121.30685266464519,18.897647999999997)\" /><path d=\"M -70.41170463881848 208.54901405279304 L 70.41170463881848 208.54901405279304\" fill=\"none\" stroke=\"black\" stroke-dasharray=\"7.5590592\" stroke-dashoffset=\"7.5590592\" stroke-width=\"0.01mm\" transform=\"translate(121.30685266464519,18.897647999999997)\" /><path d=\"M -80.00146189335771 139.03267603519535 L -70.41170463881848 208.54901405279304\" fill=\"none\" stroke=\"black\" stroke-dasharray=\"7.5590592\" stroke-dashoffset=\"7.5590592\" stroke-width=\"0.01mm\" transform=\"translate(121.30685266464519,18.897647999999997)\" /><path d=\"M 80.00146189335771 139.03267603519535 L 70.41170463881848 208.54901405279304\" fill=\"none\" stroke=\"black\" stroke-width=\"0.01mm\" transform=\"translate(121.30685266464519,18.897647999999997)\" /><path d=\"M -80.00146189335771 139.03267603519535 L -102.8238904316847 169.15942752520127 L -100.53845612882441 185.72658551446605 L -70.41170463881848 208.54901405279304\" fill=\"none\" stroke=\"black\" stroke-width=\"0.01mm\" transform=\"translate(121.30685266464519,18.897647999999997)\" /><path d=\"M -57.31185261299178 278.0653520703907 L 57.31185261299178 278.0653520703907\" fill=\"none\" stroke=\"black\" stroke-dasharray=\"7.5590592\" stroke-dashoffset=\"7.5590592\" stroke-width=\"0.01mm\" transform=\"translate(121.30685266464519,18.897647999999997)\" /><path d=\"M -70.41170463881848 208.54901405279304 L -57.31185261299178 278.0653520703907\" fill=\"none\" stroke=\"black\" stroke-dasharray=\"7.5590592\" stroke-dashoffset=\"7.5590592\" stroke-width=\"0.01mm\" transform=\"translate(121.30685266464519,18.897647999999997)\" /><path d=\"M 70.41170463881848 208.54901405279304 L 57.31185261299178 278.0653520703907\" fill=\"none\" stroke=\"black\" stroke-width=\"0.01mm\" transform=\"translate(121.30685266464519,18.897647999999997)\" /><path d=\"M -70.41170463881848 208.54901405279304 L -91.72568724812066 239.76116785636736 L -88.52400641656611 256.75136946108853 L -57.31185261299178 278.0653520703907\" fill=\"none\" stroke=\"black\" stroke-width=\"0.01mm\" transform=\"translate(121.30685266464519,18.897647999999997)\" /><path d=\"M -44.21200058716509 347.58169008798836 L 44.21200058716509 347.58169008798836\" fill=\"none\" stroke=\"black\" stroke-width=\"0.01mm\" transform=\"translate(121.30685266464519,18.897647999999997)\" /><path d=\"M -57.31185261299178 278.0653520703907 L -44.21200058716509 347.58169008798836\" fill=\"none\" stroke=\"black\" stroke-dasharray=\"7.5590592\" stroke-dashoffset=\"7.5590592\" stroke-width=\"0.01mm\" transform=\"translate(121.30685266464519,18.897647999999997)\" /><path d=\"M 57.31185261299178 278.0653520703907 L 44.21200058716509 347.58169008798836\" fill=\"none\" stroke=\"black\" stroke-width=\"0.01mm\" transform=\"translate(121.30685266464519,18.897647999999997)\" /><path d=\"M -57.31185261299178 278.0653520703907 L -78.62583522229397 309.27750587396497 L -75.42415439073942 326.26770747868613 L -44.21200058716509 347.58169008798836\" fill=\"none\" stroke=\"black\" stroke-width=\"0.01mm\" transform=\"translate(121.30685266464519,18.897647999999997)\" /><path d=\"M -80.00146189335771 0.0 L 80.00146189335771 0.0\" fill=\"none\" stroke=\"black\" stroke-width=\"0.01mm\" transform=\"translate(326.12526199393557,18.897647999999997)\" /><path d=\"M -83.51155666464518 69.51633801759768 L 83.51155666464518 69.51633801759768\" fill=\"none\" stroke=\"black\" stroke-dasharray=\"7.5590592\" stroke-dashoffset=\"7.5590592\" stroke-width=\"0.01mm\" transform=\"translate(326.12526199393557,18.897647999999997)\" /><path d=\"M -80.00146189335771 0.0 L -83.51155666464518 69.51633801759768\" fill=\"none\" stroke=\"black\" stroke-dasharray=\"7.5590592\" stroke-dashoffset=\"7.5590592\" stroke-width=\"0.01mm\" transform=\"translate(326.12526199393557,18.897647999999997)\" /><path d=\"M 80.00146189335771 0.0 L 83.51155666464518 69.51633801759768\" fill=\"none\" stroke=\"black\" stroke-width=\"0.01mm\" transform=\"translate(326.12526199393557,18.897647999999997)\" /><path d=\"M -80.00146189335771 0.0 L -108.04049476695775 25.34357976373486 L -108.85513642838005 41.477305143997626 L -83.51155666464518 69.51633801759768\" fill=\"none\" stroke=\"black\" stroke-width=\"0.01mm\" transform=\"translate(326.12526199393557,18.897647999999997)\" /><path d=\"M -80.00146189335771 139.03267603519535 L 80.00146189335771 139.03267603519535\" fill=\"none\" stroke=\"black\" stroke-dasharray=\"7.5590592\" stroke-dashoffset=\"7.5590592\" stroke-width=\"0.01mm\" transform=\"translate(326.12526199393557,18.897647999999997)\" /><path d=\"M -83.51155666464518 69.51633801759768 L -80.00146189335771 139.03267603519535\" fill=\"none\" stroke=\"black\" stroke-dasharray=\"7.5590592\" stroke-dashoffset=\"7.5590592\" stroke-width=\"0.01mm\" transform=\"translate(326.12526199393557,18.897647999999997)\" /><path d=\"M 83.51155666464518 69.51633801759768 L 80.00146189335771 139.03267603519535\" fill=\"none\" stroke=\"black\" stroke-width=\"0.01mm\" transform=\"translate(326.12526199393557,18.897647999999997)\" /><path d=\"M -83.51155666464518 69.51633801759768 L -108.85513642838005 97.55537089119775 L -108.04049476695778 113.6890962714605 L -80.00146189335771 139.03267603519535\" fill=\"none\" stroke=\"black\" stroke-width=\"0.01mm\" transform=\"translate(326.12526199393557,18.897647999999997)\" /><path d=\"M -70.41170463881848 208.54901405279304 L 70.41170463881848 208.54901405279304\" fill=\"none\" stroke=\"black\" stroke-dasharray=\"7.5590592\" stroke-dashoffset=\"7.5590592\" stroke-width=\"0.01mm\" transform=\"translate(326.12526199393557,18.897647999999997)\" /><path d=\"M -80.00146189335771 139.03267603519535 L -70.41170463881848 208.54901405279304\" fill=\"none\" stroke=\"black\" stroke-dasharray=\"7.5590592\" stroke-dashoffset=\"7.5590592\" stroke-width=\"0.01mm\" transform=\"translate(326.12526199393557,18.897647999999997)\" /><path d=\"M 80.00146189335771 139.03267603519535 L 70.41170463881848 208.54901405279304\" fill=\"none\" stroke=\"black\" stroke-width=\"0.01mm\" transform=\"translate(326.12526199393557,18.897647999999997)\" /><path d=\"M -80.00146189335771 139.03267603519535 L -102.8238904316847 169.15942752520127 L -100.53845612882441 185.72658551446605 L -70.41170463881848 208.54901405279304\" fill=\"none\" stroke=\"black\" stroke-width=\"0.01mm\" transform=\"translate(326.12526199393557,18.897647999999997)\" /><path d=\"M -57.31185261299178 278.0653520703907 L 57.31185261299178 278.0653520703907\" fill=\"none\" stroke=\"black\" stroke-dasharray=\"7.5590592\" stroke-dashoffset=\"7.5590592\" stroke-width=\"0.01mm\" transform=\"translate(326.12526199393557,18.897647999999997)\" /><path d=\"M -70.41170463881848 208.54901405279304 L -57.31185261299178 278.0653520703907\" fill=\"none\" stroke=\"black\" stroke-dasharray=\"7.5590592\" stroke-dashoffset=\"7.5590592\" stroke-width=\"0.01mm\" transform=\"translate(326.12526199393557,18.897647999999997)\" /><path d=\"M 70.41170463881848 208.54901405279304 L 57.31185261299178 278.0653520703907\" fill=\"none\" stroke=\"black\" stroke-width=\"0.01mm\" transform=\"translate(326.12526199393557,18.897647999999997)\" /><path d=\"M -70.41170463881848 208.54901405279304 L -91.72568724812066 239.76116785636736 L -88.52400641656611 256.75136946108853 L -57.31185261299178 278.0653520703907\" fill=\"none\" stroke=\"black\" stroke-width=\"0.01mm\" transform=\"translate(326.12526199393557,18.897647999999997)\" /><path d=\"M -44.21200058716509 347.58169008798836 L 44.21200058716509 347.58169008798836\" fill=\"none\" stroke=\"black\" stroke-width=\"0.01mm\" transform=\"translate(326.12526199393557,18.897647999999997)\" /><path d=\"M -57.31185261299178 278.0653520703907 L -44.21200058716509 347.58169008798836\" fill=\"none\" stroke=\"black\" stroke-dasharray=\"7.5590592\" stroke-dashoffset=\"7.5590592\" stroke-width=\"0.01mm\" transform=\"translate(326.12526199393557,18.897647999999997)\" /><path d=\"M 57.31185261299178 278.0653520703907 L 44.21200058716509 347.58169008798836\" fill=\"none\" stroke=\"black\" stroke-width=\"0.01mm\" transform=\"translate(326.12526199393557,18.897647999999997)\" /><path d=\"M -57.31185261299178 278.0653520703907 L -78.62583522229397 309.27750587396497 L -75.42415439073942 326.26770747868613 L -44.21200058716509 347.58169008798836\" fill=\"none\" stroke=\"black\" stroke-width=\"0.01mm\" transform=\"translate(326.12526199393557,18.897647999999997)\" /><path d=\"M -80.00146189335771 0.0 L 80.00146189335771 0.0\" fill=\"none\" stroke=\"black\" stroke-width=\"0.01mm\" transform=\"translate(530.943671323226,18.897647999999997)\" /><path d=\"M -83.51155666464518 69.51633801759768 L 83.51155666464518 69.51633801759768\" fill=\"none\" stroke=\"black\" stroke-dasharray=\"7.5590592\" stroke-dashoffset=\"7.5590592\" stroke-width=\"0.01mm\" transform=\"translate(530.943671323226,18.897647999999997)\" /><path d=\"M -80.00146189335771 0.0 L -83.51155666464518 69.51633801759768\" fill=\"none\" stroke=\"black\" stroke-dasharray=\"7.5590592\" stroke-dashoffset=\"7.5590592\" stroke-width=\"0.01mm\" transform=\"translate(530.943671323226,18.897647999999997)\" /><path d=\"M 80.00146189335771 0.0 L 83.51155666464518 69.51633801759768\" fill=\"none\" stroke=\"black\" stroke-width=\"0.01mm\" transform=\"translate(530.943671323226,18.897647999999997)\" /><path d=\"M -80.00146189335771 0.0 L -108.04049476695775 25.34357976373486 L -108.85513642838005 41.477305143997626 L -83.51155666464518 69.51633801759768\" fill=\"none\" stroke=\"black\" stroke-width=\"0.01mm\" transform=\"translate(530.943671323226,18.897647999999997)\" /><path d=\"M -80.00146189335771 139.03267603519535 L 80.00146189335771 139.03267603519535\" fill=\"none\" stroke=\"black\" stroke-dasharray=\"7.5590592\" stroke-dashoffset=\"7.5590592\" stroke-width=\"0.01mm\" transform=\"translate(530.943671323226,18.897647999999997)\" /><path d=\"M -83.51155666464518 69.51633801759768 L -80.00146189335771 139.03267603519535\" fill=\"none\" stroke=\"black\" stroke-dasharray=\"7.5590592\" stroke-dashoffset=\"7.5590592\" stroke-width=\"0.01mm\" transform=\"translate(530.943671323226,18.897647999999997)\" /><path d=\"M 83.51155666464518 69.51633801759768 L 80.00146189335771 139.03267603519535\" fill=\"none\" stroke=\"black\" stroke-width=\"0.01mm\" transform=\"translate(530.943671323226,18.897647999999997)\" /><path d=\"M -83.51155666464518 69.51633801759768 L -108.85513642838005 97.55537089119775 L -108.04049476695778 113.6890962714605 L -80.00146189335771 139.03267603519535\" fill=\"none\" stroke=\"black\" stroke-width=\"0.01mm\" transform=\"translate(530.943671323226,18.897647999999997)\" /><path d=\"M -70.41170463881848 208.54901405279304 L 70.41170463881848 208.54901405279304\" fill=\"none\" stroke=\"black\" stroke-dasharray=\"7.5590592\" stroke-dashoffset=\"7.5590592\" stroke-width=\"0.01mm\" transform=\"translate(530.943671323226,18.897647999999997)\" /><path d=\"M -80.00146189335771 139.03267603519535 L -70.41170463881848 208.54901405279304\" fill=\"none\" stroke=\"black\" stroke-dasharray=\"7.5590592\" stroke-dashoffset=\"7.5590592\" stroke-width=\"0.01mm\" transform=\"translate(530.943671323226,18.897647999999997)\" /><path d=\"M 80.00146189335771 139.03267603519535 L 70.41170463881848 208.54901405279304\" fill=\"none\" stroke=\"black\" stroke-width=\"0.01mm\" transform=\"translate(530.943671323226,18.897647999999997)\" /><path d=\"M -80.00146189335771 139.03267603519535 L -102.8238904316847 169.15942752520127 L -100.53845612882441 185.72658551446605 L -70.41170463881848 208.54901405279304\" fill=\"none\" stroke=\"black\" stroke-width=\"0.01mm\" transform=\"translate(530.943671323226,18.897647999999997)\" /><path d=\"M -57.31185261299178 278.0653520703907 L 57.31185261299178 278.0653520703907\" fill=\"none\" stroke=\"black\" stroke-dasharray=\"7.5590592\" stroke-dashoffset=\"7.5590592\" stroke-width=\"0.01mm\" transform=\"translate(530.943671323226,18.897647999999997)\" /><path d=\"M -70.41170463881848 208.54901405279304 L -57.31185261299178 278.0653520703907\" fill=\"none\" stroke=\"black\" stroke-dasharray=\"7.5590592\" stroke-dashoffset=\"7.5590592\" stroke-width=\"0.01mm\" transform=\"translate(530.943671323226,18.897647999999997)\" /><path d=\"M 70.41170463881848 208.54901405279304 L 57.31185261299178 278.0653520703907\" fill=\"none\" stroke=\"black\" stroke-width=\"0.01mm\" transform=\"translate(530.943671323226,18.897647999999997)\" /><path d=\"M -70.41170463881848 208.54901405279304 L -91.72568724812066 239.76116785636736 L -88.52400641656611 256.75136946108853 L -57.31185261299178 278.0653520703907\" fill=\"none\" stroke=\"black\" stroke-width=\"0.01mm\" transform=\"translate(530.943671323226,18.897647999999997)\" /><path d=\"M -44.21200058716509 347.58169008798836 L 44.21200058716509 347.58169008798836\" fill=\"none\" stroke=\"black\" stroke-width=\"0.01mm\" transform=\"translate(530.943671323226,18.897647999999997)\" /><path d=\"M -57.31185261299178 278.0653520703907 L -44.21200058716509 347.58169008798836\" fill=\"none\" stroke=\"black\" stroke-dasharray=\"7.5590592\" stroke-dashoffset=\"7.5590592\" stroke-width=\"0.01mm\" transform=\"translate(530.943671323226,18.897647999999997)\" /><path d=\"M 57.31185261299178 278.0653520703907 L 44.21200058716509 347.58169008798836\" fill=\"none\" stroke=\"black\" stroke-width=\"0.01mm\" transform=\"translate(530.943671323226,18.897647999999997)\" /><path d=\"M -57.31185261299178 278.0653520703907 L -78.62583522229397 309.27750587396497 L -75.42415439073942 326.26770747868613 L -44.21200058716509 347.58169008798836\" fill=\"none\" stroke=\"black\" stroke-width=\"0.01mm\" transform=\"translate(530.943671323226,18.897647999999997)\" /><path d=\"M -80.00146189335771 0.0 L 80.00146189335771 0.0\" fill=\"none\" stroke=\"black\" stroke-width=\"0.01mm\" transform=\"translate(735.7620806525163,18.897647999999997)\" /><path d=\"M -83.51155666464518 69.51633801759768 L 83.51155666464518 69.51633801759768\" fill=\"none\" stroke=\"black\" stroke-dasharray=\"7.5590592\" stroke-dashoffset=\"7.5590592\" stroke-width=\"0.01mm\" transform=\"translate(735.7620806525163,18.897647999999997)\" /><path d=\"M -80.00146189335771 0.0 L -83.51155666464518 69.51633801759768\" fill=\"none\" stroke=\"black\" stroke-dasharray=\"7.5590592\" stroke-dashoffset=\"7.5590592\" stroke-width=\"0.01mm\" transform=\"translate(735.7620806525163,18.897647999999997)\" /><path d=\"M 80.00146189335771 0.0 L 83.51155666464518 69.51633801759768\" fill=\"none\" stroke=\"black\" stroke-width=\"0.01mm\" transform=\"translate(735.7620806525163,18.897647999999997)\" /><path d=\"M -80.00146189335771 0.0 L -108.04049476695775 25.34357976373486 L -108.85513642838005 41.477305143997626 L -83.51155666464518 69.51633801759768\" fill=\"none\" stroke=\"black\" stroke-width=\"0.01mm\" transform=\"translate(735.7620806525163,18.897647999999997)\" /><path d=\"M -80.00146189335771 139.03267603519535 L 80.00146189335771 139.03267603519535\" fill=\"none\" stroke=\"black\" stroke-dasharray=\"7.5590592\" stroke-dashoffset=\"7.5590592\" stroke-width=\"0.01mm\" transform=\"translate(735.7620806525163,18.897647999999997)\" /><path d=\"M -83.51155666464518 69.51633801759768 L -80.00146189335771 139.03267603519535\" fill=\"none\" stroke=\"black\" stroke-dasharray=\"7.5590592\" stroke-dashoffset=\"7.5590592\" stroke-width=\"0.01mm\" transform=\"translate(735.7620806525163,18.897647999999997)\" /><path d=\"M 83.51155666464518 69.51633801759768 L 80.00146189335771 139.03267603519535\" fill=\"none\" stroke=\"black\" stroke-width=\"0.01mm\" transform=\"translate(735.7620806525163,18.897647999999997)\" /><path d=\"M -83.51155666464518 69.51633801759768 L -108.85513642838005 97.55537089119775 L -108.04049476695778 113.6890962714605 L -80.00146189335771 139.03267603519535\" fill=\"none\" stroke=\"black\" stroke-width=\"0.01mm\" transform=\"translate(735.7620806525163,18.897647999999997)\" /><path d=\"M -70.41170463881848 208.54901405279304 L 70.41170463881848 208.54901405279304\" fill=\"none\" stroke=\"black\" stroke-dasharray=\"7.5590592\" stroke-dashoffset=\"7.5590592\" stroke-width=\"0.01mm\" transform=\"translate(735.7620806525163,18.897647999999997)\" /><path d=\"M -80.00146189335771 139.03267603519535 L -70.41170463881848 208.54901405279304\" fill=\"none\" stroke=\"black\" stroke-dasharray=\"7.5590592\" stroke-dashoffset=\"7.5590592\" stroke-width=\"0.01mm\" transform=\"translate(735.7620806525163,18.897647999999997)\" /><path d=\"M 80.00146189335771 139.03267603519535 L 70.41170463881848 208.54901405279304\" fill=\"none\" stroke=\"black\" stroke-width=\"0.01mm\" transform=\"translate(735.7620806525163,18.897647999999997)\" /><path d=\"M -80.00146189335771 139.03267603519535 L -102.8238904316847 169.15942752520127 L -100.53845612882441 185.72658551446605 L -70.41170463881848 208.54901405279304\" fill=\"none\" stroke=\"black\" stroke-width=\"0.01mm\" transform=\"translate(735.7620806525163,18.897647999999997)\" /><path d=\"M -57.31185261299178 278.0653520703907 L 57.31185261299178 278.0653520703907\" fill=\"none\" stroke=\"black\" stroke-dasharray=\"7.5590592\" stroke-dashoffset=\"7.5590592\" stroke-width=\"0.01mm\" transform=\"translate(735.7620806525163,18.897647999999997)\" /><path d=\"M -70.41170463881848 208.54901405279304 L -57.31185261299178 278.0653520703907\" fill=\"none\" stroke=\"black\" stroke-dasharray=\"7.5590592\" stroke-dashoffset=\"7.5590592\" stroke-width=\"0.01mm\" transform=\"translate(735.7620806525163,18.897647999999997)\" /><path d=\"M 70.41170463881848 208.54901405279304 L 57.31185261299178 278.0653520703907\" fill=\"none\" stroke=\"black\" stroke-width=\"0.01mm\" transform=\"translate(735.7620806525163,18.897647999999997)\" /><path d=\"M -70.41170463881848 208.54901405279304 L -91.72568724812066 239.76116785636736 L -88.52400641656611 256.75136946108853 L -57.31185261299178 278.0653520703907\" fill=\"none\" stroke=\"black\" stroke-width=\"0.01mm\" transform=\"translate(735.7620806525163,18.897647999999997)\" /><path d=\"M -44.21200058716509 347.58169008798836 L 44.21200058716509 347.58169008798836\" fill=\"none\" stroke=\"black\" stroke-width=\"0.01mm\" transform=\"translate(735.7620806525163,18.897647999999997)\" /><path d=\"M -57.31185261299178 278.0653520703907 L -44.21200058716509 347.58169008798836\" fill=\"none\" stroke=\"black\" stroke-dasharray=\"7.5590592\" stroke-dashoffset=\"7.5590592\" stroke-width=\"0.01mm\" transform=\"translate(735.7620806525163,18.897647999999997)\" /><path d=\"M 57.31185261299178 278.0653520703907 L 44.21200058716509 347.58169008798836\" fill=\"none\" stroke=\"black\" stroke-width=\"0.01mm\" transform=\"translate(735.7620806525163,18.897647999999997)\" /><path d=\"M -57.31185261299178 278.0653520703907 L -78.62583522229397 309.27750587396497 L -75.42415439073942 326.26770747868613 L -44.21200058716509 347.58169008798836\" fill=\"none\" stroke=\"black\" stroke-width=\"0.01mm\" transform=\"translate(735.7620806525163,18.897647999999997)\" /></g></svg>"
      ],
      "text/plain": [
       "<svgwrite.drawing.Drawing at 0x7fcce07fd978>"
      ]
     },
     "execution_count": 26,
     "metadata": {},
     "output_type": "execute_result"
    }
   ],
   "source": [
    "layer = inkscape.layer(label=\"lego\", locked=False)\n",
    "\n",
    "# position copies on the canvas\n",
    "for c in range(n_copies):\n",
    "    for e in tmp_layer.elements:\n",
    "        e = e.copy()\n",
    "        offset_x = mm_to_px(c * (np.max(lats) + tab_offset) + np.max(lats) / 2 + tab_offset)\n",
    "        offset_y = mm_to_px(margin)\n",
    "        e.translate(offset_x , offset_y)\n",
    "        layer.add(e)\n",
    "\n",
    "dwg.add(layer)\n",
    "dwg.save()\n",
    "dwg"
   ]
  },
  {
   "cell_type": "markdown",
   "metadata": {},
   "source": [
    "## Draw face"
   ]
  },
  {
   "cell_type": "code",
   "execution_count": 27,
   "metadata": {},
   "outputs": [
    {
     "data": {
      "text/plain": [
       "(365.8139534883721, 128.80446557204553)"
      ]
     },
     "execution_count": 27,
     "metadata": {},
     "output_type": "execute_result"
    }
   ],
   "source": [
    "width = (2 * pi * head_radius) / 2 + tab_offset # the face has 2 equal parts: front and back\n",
    "height = head_height\n",
    "width, height"
   ]
  },
  {
   "cell_type": "code",
   "execution_count": 28,
   "metadata": {},
   "outputs": [],
   "source": [
    "canvas_width = mm_to_px(width + 10)\n",
    "canvas_height = mm_to_px(height + 10)"
   ]
  },
  {
   "cell_type": "code",
   "execution_count": 29,
   "metadata": {},
   "outputs": [
    {
     "data": {
      "image/svg+xml": [
       "<svg baseProfile=\"full\" height=\"524.615586241727\" version=\"1.1\" width=\"1420.3999613023254\" xmlns=\"http://www.w3.org/2000/svg\" xmlns:ev=\"http://www.w3.org/2001/xml-events\" xmlns:inkscape=\"http://www.inkscape.org/namespaces/inkscape\" xmlns:sodipodi=\"http://sodipodi.sourceforge.net/DTD/sodipodi-0.dtd\" xmlns:xlink=\"http://www.w3.org/1999/xlink\"><defs /><g inkscape:groupmode=\"layer\" inkscape:label=\"lego\" transform=\"translate(18.897647999999997,18.897647999999997)\"><rect fill=\"none\" height=\"486.820290241727\" stroke=\"black\" stroke-width=\"0.01mm\" width=\"1382.6046653023254\" x=\"0\" y=\"0\" /><line fill=\"none\" stroke=\"black\" stroke-dasharray=\"7.5590592\" stroke-dashoffset=\"7.5590592\" stroke-width=\"0.01mm\" x1=\"1344.8093693023254\" x2=\"1344.8093693023254\" y1=\"0\" y2=\"486.820290241727\" /></g></svg>"
      ],
      "text/plain": [
       "<svgwrite.drawing.Drawing at 0x7fcce0756860>"
      ]
     },
     "execution_count": 29,
     "metadata": {},
     "output_type": "execute_result"
    }
   ],
   "source": [
    "dwg = svgwrite.Drawing('face_back.svg', profile='full', size=(canvas_width, canvas_height))\n",
    "inkscape = Inkscape(dwg)\n",
    "layer = inkscape.layer(label='lego', locked=False)\n",
    "\n",
    "rect = dwg.rect(insert=(0,0), size=(mm_to_px(width), mm_to_px(height)), **line_style)\n",
    "layer.add(rect)\n",
    "\n",
    "tab_line = dwg.line(start=(mm_to_px(width - tab_offset), 0),\n",
    "                    end=(mm_to_px(width - tab_offset), mm_to_px(height)), **dashed_line_style)\n",
    "layer.add(tab_line)\n",
    "layer.translate(mm_to_px(margin), mm_to_px(margin))\n",
    "dwg.add(layer)\n",
    "\n",
    "dwg.save()\n",
    "dwg"
   ]
  },
  {
   "cell_type": "code",
   "execution_count": 30,
   "metadata": {},
   "outputs": [
    {
     "data": {
      "image/svg+xml": [
       "<svg baseProfile=\"full\" height=\"524.615586241727\" version=\"1.1\" width=\"1420.3999613023254\" xmlns=\"http://www.w3.org/2000/svg\" xmlns:ev=\"http://www.w3.org/2001/xml-events\" xmlns:inkscape=\"http://www.inkscape.org/namespaces/inkscape\" xmlns:sodipodi=\"http://sodipodi.sourceforge.net/DTD/sodipodi-0.dtd\" xmlns:xlink=\"http://www.w3.org/1999/xlink\"><defs /><g inkscape:groupmode=\"layer\" inkscape:label=\"lego\" transform=\"translate(18.897647999999997,18.897647999999997)\"><rect fill=\"none\" height=\"486.820290241727\" stroke=\"black\" stroke-width=\"0.01mm\" width=\"1382.6046653023254\" x=\"0\" y=\"0\" /><line fill=\"none\" stroke=\"black\" stroke-dasharray=\"7.5590592\" stroke-dashoffset=\"7.5590592\" stroke-width=\"0.01mm\" x1=\"1344.8093693023254\" x2=\"1344.8093693023254\" y1=\"0\" y2=\"486.820290241727\" /><circle cx=\"569.597260090731\" cy=\"243.4101451208635\" fill=\"none\" r=\"41.96726640014888\" stroke=\"black\" stroke-width=\"0.01mm\" /><circle cx=\"813.0074052115945\" cy=\"243.4101451208635\" fill=\"none\" r=\"41.96726640014888\" stroke=\"black\" stroke-width=\"0.01mm\" /><path d=\"M 569.597260090731 389.4562321933816 Q 691.3023326511627 506.29310185139605 813.0074052115945 389.4562321933816 M 569.597260090731 389.4562321933816 Q 691.3023326511627 428.40185541271984 813.0074052115945 389.4562321933816\" fill=\"none\" stroke=\"black\" stroke-width=\"0.01mm\" /></g></svg>"
      ],
      "text/plain": [
       "<svgwrite.drawing.Drawing at 0x7fcce0779ba8>"
      ]
     },
     "execution_count": 30,
     "metadata": {},
     "output_type": "execute_result"
    }
   ],
   "source": [
    "dwg = svgwrite.Drawing('face_front.svg', profile='full', size=(canvas_width, canvas_height))\n",
    "inkscape = Inkscape(dwg)\n",
    "layer = inkscape.layer(label='lego', locked=False)\n",
    "\n",
    "rect = dwg.rect(insert=(0,0), size=(mm_to_px(width), mm_to_px(height)), **line_style)\n",
    "layer.add(rect)\n",
    "\n",
    "tab_line = dwg.line(start=(mm_to_px(width - tab_offset), 0),\n",
    "                    end=(mm_to_px(width - tab_offset), mm_to_px(height)), **dashed_line_style)\n",
    "layer.add(tab_line)\n",
    "\n",
    "left_eye_x = mm_to_px(width/2 - eye_dist/2)\n",
    "left_eye_y = mm_to_px(eye_top_offset)\n",
    "left_eye = dwg.circle(center=(left_eye_x, left_eye_y),\n",
    "                      r=mm_to_px(eye_radius),\n",
    "                      **line_style)\n",
    "layer.add(left_eye)\n",
    "\n",
    "right_eye_x = mm_to_px(width/2 + eye_dist/2)\n",
    "right_eye_y = mm_to_px(eye_top_offset)\n",
    "right_eye = dwg.circle(center=(right_eye_x, right_eye_y),\n",
    "                       r=mm_to_px(eye_radius),\n",
    "                       **line_style)\n",
    "layer.add(right_eye)\n",
    "\n",
    "mouth = dwg.path(d=('M', left_eye_x, mm_to_px(mouth_top_offset)), **line_style)\n",
    "mouth.push('Q', mm_to_px(width/2), mm_to_px(1.3 * mouth_top_offset), right_eye_x, mm_to_px(mouth_top_offset))\n",
    "# mouth.push('Z')\n",
    "mouth.push('M', left_eye_x, mm_to_px(mouth_top_offset))\n",
    "mouth.push('Q', mm_to_px(width/2), mm_to_px(1.1 * mouth_top_offset), right_eye_x, mm_to_px(mouth_top_offset))\n",
    "layer.add(mouth)\n",
    "\n",
    "layer.translate(mm_to_px(margin), mm_to_px(margin))\n",
    "dwg.add(layer)\n",
    "\n",
    "dwg.save()\n",
    "dwg\n"
   ]
  },
  {
   "cell_type": "markdown",
   "metadata": {},
   "source": [
    "## Draw head top"
   ]
  },
  {
   "cell_type": "code",
   "execution_count": 31,
   "metadata": {},
   "outputs": [],
   "source": [
    "canvas_width = mm_to_px(2 * head_top_radius + margin)\n",
    "canvas_height = mm_to_px(2 * head_top_radius + margin)"
   ]
  },
  {
   "cell_type": "code",
   "execution_count": 32,
   "metadata": {},
   "outputs": [
    {
     "data": {
      "image/svg+xml": [
       "<svg baseProfile=\"full\" height=\"606.4393776020843\" version=\"1.1\" width=\"606.4393776020843\" xmlns=\"http://www.w3.org/2000/svg\" xmlns:ev=\"http://www.w3.org/2001/xml-events\" xmlns:inkscape=\"http://www.inkscape.org/namespaces/inkscape\" xmlns:sodipodi=\"http://sodipodi.sourceforge.net/DTD/sodipodi-0.dtd\" xmlns:xlink=\"http://www.w3.org/1999/xlink\"><defs /><g inkscape:groupmode=\"layer\" inkscape:label=\"lego\"><circle cx=\"303.21968880104214\" cy=\"303.21968880104214\" fill=\"none\" r=\"293.77086480104214\" stroke=\"black\" stroke-width=\"0.01mm\" /><circle cx=\"303.21968880104214\" cy=\"303.21968880104214\" fill=\"none\" r=\"205.63960536072955\" stroke=\"black\" stroke-dasharray=\"7.5590592\" stroke-dashoffset=\"7.5590592\" stroke-width=\"0.01mm\" /></g></svg>"
      ],
      "text/plain": [
       "<svgwrite.drawing.Drawing at 0x7fcd02793c88>"
      ]
     },
     "execution_count": 32,
     "metadata": {},
     "output_type": "execute_result"
    }
   ],
   "source": [
    "dwg = svgwrite.Drawing('head_top.svg', profile='full', size=(canvas_width, canvas_height))\n",
    "inkscape = Inkscape(dwg)\n",
    "layer = inkscape.layer(label='lego', locked=False)\n",
    "\n",
    "top = dwg.circle(center=(canvas_width/2, canvas_height/2),\n",
    "                 r=mm_to_px(head_top_radius),\n",
    "                 **line_style)\n",
    "\n",
    "stud_line = dwg.circle(center=(canvas_width/2, canvas_height/2),\n",
    "                       r=mm_to_px(stud_radius),\n",
    "                       **dashed_line_style)\n",
    "\n",
    "\n",
    "layer.add(top)\n",
    "layer.add(stud_line)\n",
    "dwg.add(layer)\n",
    "dwg"
   ]
  },
  {
   "cell_type": "code",
   "execution_count": 33,
   "metadata": {},
   "outputs": [],
   "source": [
    "dwg.save()"
   ]
  },
  {
   "cell_type": "markdown",
   "metadata": {},
   "source": [
    "## Draw top stud"
   ]
  },
  {
   "cell_type": "code",
   "execution_count": 34,
   "metadata": {},
   "outputs": [],
   "source": [
    "n_tabs = 32"
   ]
  },
  {
   "cell_type": "code",
   "execution_count": 35,
   "metadata": {},
   "outputs": [
    {
     "data": {
      "text/plain": [
       "(341.8604651162791, 39.52964633073122)"
      ]
     },
     "execution_count": 35,
     "metadata": {},
     "output_type": "execute_result"
    }
   ],
   "source": [
    "width = 2 * pi * stud_radius\n",
    "height = stud_height\n",
    "width, height"
   ]
  },
  {
   "cell_type": "code",
   "execution_count": 36,
   "metadata": {},
   "outputs": [],
   "source": [
    "canvas_width = mm_to_px(width + tab_offset + margin)\n",
    "canvas_height = mm_to_px(height + 2 * tab_offset + margin)"
   ]
  },
  {
   "cell_type": "code",
   "execution_count": 37,
   "metadata": {},
   "outputs": [
    {
     "data": {
      "text/plain": [
       "10.35940803382664"
      ]
     },
     "execution_count": 37,
     "metadata": {},
     "output_type": "execute_result"
    }
   ],
   "source": [
    "n_steps = n_tabs + 1\n",
    "step = width / (n_steps)\n",
    "step"
   ]
  },
  {
   "cell_type": "code",
   "execution_count": 38,
   "metadata": {},
   "outputs": [],
   "source": [
    "top_points = []\n",
    "bottom_points = []\n",
    "\n",
    "for i in range(n_steps):\n",
    "    if i % 2 == 1:\n",
    "        y_top = -tab_offset\n",
    "        y_bottom = height + tab_offset\n",
    "    else:\n",
    "        y_top = 0\n",
    "        y_bottom = height\n",
    "\n",
    "    top_points.extend([Point(i * step, y_top), Point((i + 1) * step, y_top)])\n",
    "    bottom_points.extend([Point(i * step, y_bottom), Point((i + 1) * step, y_bottom)])"
   ]
  },
  {
   "cell_type": "code",
   "execution_count": 39,
   "metadata": {},
   "outputs": [
    {
     "data": {
      "image/svg+xml": [
       "<svg baseProfile=\"full\" height=\"243.89170838453003\" version=\"1.1\" width=\"1348.7646909767443\" xmlns=\"http://www.w3.org/2000/svg\" xmlns:ev=\"http://www.w3.org/2001/xml-events\" xmlns:inkscape=\"http://www.inkscape.org/namespaces/inkscape\" xmlns:sodipodi=\"http://sodipodi.sourceforge.net/DTD/sodipodi-0.dtd\" xmlns:xlink=\"http://www.w3.org/1999/xlink\"><defs /><g inkscape:groupmode=\"layer\" inkscape:label=\"lego\" transform=\"translate(18.897647999999997,56.692944)\"><path d=\"M 0.0 0.0 L 39.15368930232558 0.0 L 39.15368930232558 -37.79529599999999 L 78.30737860465116 -37.79529599999999 L 78.30737860465116 0.0 L 117.46106790697675 0.0 L 117.46106790697675 -37.79529599999999 L 156.61475720930233 -37.79529599999999 L 156.61475720930233 0.0 L 195.76844651162793 0.0 L 195.76844651162793 -37.79529599999999 L 234.9221358139535 -37.79529599999999 L 234.9221358139535 0.0 L 274.0758251162791 0.0 L 274.0758251162791 -37.79529599999999 L 313.22951441860465 -37.79529599999999 L 313.22951441860465 0.0 L 352.3832037209303 0.0 L 352.3832037209303 -37.79529599999999 L 391.53689302325586 -37.79529599999999 L 391.53689302325586 0.0 L 430.6905823255814 0.0 L 430.6905823255814 -37.79529599999999 L 469.844271627907 -37.79529599999999 L 469.844271627907 0.0 L 508.9979609302326 0.0 L 508.9979609302326 -37.79529599999999 L 548.1516502325582 -37.79529599999999 L 548.1516502325582 0.0 L 587.3053395348838 0.0 L 587.3053395348838 -37.79529599999999 L 626.4590288372093 -37.79529599999999 L 626.4590288372093 0.0 L 665.6127181395349 0.0 L 665.6127181395349 -37.79529599999999 L 704.7664074418606 -37.79529599999999 L 704.7664074418606 0.0 L 743.9200967441861 0.0 L 743.9200967441861 -37.79529599999999 L 783.0737860465117 -37.79529599999999 L 783.0737860465117 0.0 L 822.2274753488373 0.0 L 822.2274753488373 -37.79529599999999 L 861.3811646511627 -37.79529599999999 L 861.3811646511627 0.0 L 900.5348539534884 0.0 L 900.5348539534884 -37.79529599999999 L 939.688543255814 -37.79529599999999 L 939.688543255814 0.0 L 978.8422325581396 0.0 L 978.8422325581396 -37.79529599999999 L 1017.9959218604652 -37.79529599999999 L 1017.9959218604652 0.0 L 1057.1496111627907 0.0 L 1057.1496111627907 -37.79529599999999 L 1096.3033004651163 -37.79529599999999 L 1096.3033004651163 0.0 L 1135.4569897674419 0.0 L 1135.4569897674419 -37.79529599999999 L 1174.6106790697677 -37.79529599999999 L 1174.6106790697677 0.0 L 1213.764368372093 0.0 L 1213.764368372093 -37.79529599999999 L 1252.9180576744186 -37.79529599999999 L 1252.9180576744186 0.0 L 1292.0717469767442 0.0\" fill=\"none\" stroke=\"black\" stroke-width=\"0.01mm\" /><path d=\"M 0.0 149.40346838453002 L 39.15368930232558 149.40346838453002 L 39.15368930232558 187.19876438453002 L 78.30737860465116 187.19876438453002 L 78.30737860465116 149.40346838453002 L 117.46106790697675 149.40346838453002 L 117.46106790697675 187.19876438453002 L 156.61475720930233 187.19876438453002 L 156.61475720930233 149.40346838453002 L 195.76844651162793 149.40346838453002 L 195.76844651162793 187.19876438453002 L 234.9221358139535 187.19876438453002 L 234.9221358139535 149.40346838453002 L 274.0758251162791 149.40346838453002 L 274.0758251162791 187.19876438453002 L 313.22951441860465 187.19876438453002 L 313.22951441860465 149.40346838453002 L 352.3832037209303 149.40346838453002 L 352.3832037209303 187.19876438453002 L 391.53689302325586 187.19876438453002 L 391.53689302325586 149.40346838453002 L 430.6905823255814 149.40346838453002 L 430.6905823255814 187.19876438453002 L 469.844271627907 187.19876438453002 L 469.844271627907 149.40346838453002 L 508.9979609302326 149.40346838453002 L 508.9979609302326 187.19876438453002 L 548.1516502325582 187.19876438453002 L 548.1516502325582 149.40346838453002 L 587.3053395348838 149.40346838453002 L 587.3053395348838 187.19876438453002 L 626.4590288372093 187.19876438453002 L 626.4590288372093 149.40346838453002 L 665.6127181395349 149.40346838453002 L 665.6127181395349 187.19876438453002 L 704.7664074418606 187.19876438453002 L 704.7664074418606 149.40346838453002 L 743.9200967441861 149.40346838453002 L 743.9200967441861 187.19876438453002 L 783.0737860465117 187.19876438453002 L 783.0737860465117 149.40346838453002 L 822.2274753488373 149.40346838453002 L 822.2274753488373 187.19876438453002 L 861.3811646511627 187.19876438453002 L 861.3811646511627 149.40346838453002 L 900.5348539534884 149.40346838453002 L 900.5348539534884 187.19876438453002 L 939.688543255814 187.19876438453002 L 939.688543255814 149.40346838453002 L 978.8422325581396 149.40346838453002 L 978.8422325581396 187.19876438453002 L 1017.9959218604652 187.19876438453002 L 1017.9959218604652 149.40346838453002 L 1057.1496111627907 149.40346838453002 L 1057.1496111627907 187.19876438453002 L 1096.3033004651163 187.19876438453002 L 1096.3033004651163 149.40346838453002 L 1135.4569897674419 149.40346838453002 L 1135.4569897674419 187.19876438453002 L 1174.6106790697677 187.19876438453002 L 1174.6106790697677 149.40346838453002 L 1213.764368372093 149.40346838453002 L 1213.764368372093 187.19876438453002 L 1252.9180576744186 187.19876438453002 L 1252.9180576744186 149.40346838453002 L 1292.0717469767442 149.40346838453002\" fill=\"none\" stroke=\"black\" stroke-width=\"0.01mm\" /><path d=\"M 39.15368930232558 0.0 L 78.30737860465116 0.0\" fill=\"none\" stroke=\"black\" stroke-dasharray=\"7.5590592\" stroke-dashoffset=\"7.5590592\" stroke-width=\"0.01mm\" /><path d=\"M 39.15368930232558 149.40346838453002 L 78.30737860465116 149.40346838453002\" fill=\"none\" stroke=\"black\" stroke-dasharray=\"7.5590592\" stroke-dashoffset=\"7.5590592\" stroke-width=\"0.01mm\" /><path d=\"M 117.46106790697675 0.0 L 156.61475720930233 0.0\" fill=\"none\" stroke=\"black\" stroke-dasharray=\"7.5590592\" stroke-dashoffset=\"7.5590592\" stroke-width=\"0.01mm\" /><path d=\"M 117.46106790697675 149.40346838453002 L 156.61475720930233 149.40346838453002\" fill=\"none\" stroke=\"black\" stroke-dasharray=\"7.5590592\" stroke-dashoffset=\"7.5590592\" stroke-width=\"0.01mm\" /><path d=\"M 195.76844651162793 0.0 L 234.9221358139535 0.0\" fill=\"none\" stroke=\"black\" stroke-dasharray=\"7.5590592\" stroke-dashoffset=\"7.5590592\" stroke-width=\"0.01mm\" /><path d=\"M 195.76844651162793 149.40346838453002 L 234.9221358139535 149.40346838453002\" fill=\"none\" stroke=\"black\" stroke-dasharray=\"7.5590592\" stroke-dashoffset=\"7.5590592\" stroke-width=\"0.01mm\" /><path d=\"M 274.0758251162791 0.0 L 313.22951441860465 0.0\" fill=\"none\" stroke=\"black\" stroke-dasharray=\"7.5590592\" stroke-dashoffset=\"7.5590592\" stroke-width=\"0.01mm\" /><path d=\"M 274.0758251162791 149.40346838453002 L 313.22951441860465 149.40346838453002\" fill=\"none\" stroke=\"black\" stroke-dasharray=\"7.5590592\" stroke-dashoffset=\"7.5590592\" stroke-width=\"0.01mm\" /><path d=\"M 352.3832037209303 0.0 L 391.53689302325586 0.0\" fill=\"none\" stroke=\"black\" stroke-dasharray=\"7.5590592\" stroke-dashoffset=\"7.5590592\" stroke-width=\"0.01mm\" /><path d=\"M 352.3832037209303 149.40346838453002 L 391.53689302325586 149.40346838453002\" fill=\"none\" stroke=\"black\" stroke-dasharray=\"7.5590592\" stroke-dashoffset=\"7.5590592\" stroke-width=\"0.01mm\" /><path d=\"M 430.6905823255814 0.0 L 469.844271627907 0.0\" fill=\"none\" stroke=\"black\" stroke-dasharray=\"7.5590592\" stroke-dashoffset=\"7.5590592\" stroke-width=\"0.01mm\" /><path d=\"M 430.6905823255814 149.40346838453002 L 469.844271627907 149.40346838453002\" fill=\"none\" stroke=\"black\" stroke-dasharray=\"7.5590592\" stroke-dashoffset=\"7.5590592\" stroke-width=\"0.01mm\" /><path d=\"M 508.9979609302326 0.0 L 548.1516502325582 0.0\" fill=\"none\" stroke=\"black\" stroke-dasharray=\"7.5590592\" stroke-dashoffset=\"7.5590592\" stroke-width=\"0.01mm\" /><path d=\"M 508.9979609302326 149.40346838453002 L 548.1516502325582 149.40346838453002\" fill=\"none\" stroke=\"black\" stroke-dasharray=\"7.5590592\" stroke-dashoffset=\"7.5590592\" stroke-width=\"0.01mm\" /><path d=\"M 587.3053395348838 0.0 L 626.4590288372093 0.0\" fill=\"none\" stroke=\"black\" stroke-dasharray=\"7.5590592\" stroke-dashoffset=\"7.5590592\" stroke-width=\"0.01mm\" /><path d=\"M 587.3053395348838 149.40346838453002 L 626.4590288372093 149.40346838453002\" fill=\"none\" stroke=\"black\" stroke-dasharray=\"7.5590592\" stroke-dashoffset=\"7.5590592\" stroke-width=\"0.01mm\" /><path d=\"M 665.6127181395349 0.0 L 704.7664074418606 0.0\" fill=\"none\" stroke=\"black\" stroke-dasharray=\"7.5590592\" stroke-dashoffset=\"7.5590592\" stroke-width=\"0.01mm\" /><path d=\"M 665.6127181395349 149.40346838453002 L 704.7664074418606 149.40346838453002\" fill=\"none\" stroke=\"black\" stroke-dasharray=\"7.5590592\" stroke-dashoffset=\"7.5590592\" stroke-width=\"0.01mm\" /><path d=\"M 743.9200967441861 0.0 L 783.0737860465117 0.0\" fill=\"none\" stroke=\"black\" stroke-dasharray=\"7.5590592\" stroke-dashoffset=\"7.5590592\" stroke-width=\"0.01mm\" /><path d=\"M 743.9200967441861 149.40346838453002 L 783.0737860465117 149.40346838453002\" fill=\"none\" stroke=\"black\" stroke-dasharray=\"7.5590592\" stroke-dashoffset=\"7.5590592\" stroke-width=\"0.01mm\" /><path d=\"M 822.2274753488373 0.0 L 861.3811646511627 0.0\" fill=\"none\" stroke=\"black\" stroke-dasharray=\"7.5590592\" stroke-dashoffset=\"7.5590592\" stroke-width=\"0.01mm\" /><path d=\"M 822.2274753488373 149.40346838453002 L 861.3811646511627 149.40346838453002\" fill=\"none\" stroke=\"black\" stroke-dasharray=\"7.5590592\" stroke-dashoffset=\"7.5590592\" stroke-width=\"0.01mm\" /><path d=\"M 900.5348539534884 0.0 L 939.688543255814 0.0\" fill=\"none\" stroke=\"black\" stroke-dasharray=\"7.5590592\" stroke-dashoffset=\"7.5590592\" stroke-width=\"0.01mm\" /><path d=\"M 900.5348539534884 149.40346838453002 L 939.688543255814 149.40346838453002\" fill=\"none\" stroke=\"black\" stroke-dasharray=\"7.5590592\" stroke-dashoffset=\"7.5590592\" stroke-width=\"0.01mm\" /><path d=\"M 978.8422325581396 0.0 L 1017.9959218604652 0.0\" fill=\"none\" stroke=\"black\" stroke-dasharray=\"7.5590592\" stroke-dashoffset=\"7.5590592\" stroke-width=\"0.01mm\" /><path d=\"M 978.8422325581396 149.40346838453002 L 1017.9959218604652 149.40346838453002\" fill=\"none\" stroke=\"black\" stroke-dasharray=\"7.5590592\" stroke-dashoffset=\"7.5590592\" stroke-width=\"0.01mm\" /><path d=\"M 1057.1496111627907 0.0 L 1096.3033004651163 0.0\" fill=\"none\" stroke=\"black\" stroke-dasharray=\"7.5590592\" stroke-dashoffset=\"7.5590592\" stroke-width=\"0.01mm\" /><path d=\"M 1057.1496111627907 149.40346838453002 L 1096.3033004651163 149.40346838453002\" fill=\"none\" stroke=\"black\" stroke-dasharray=\"7.5590592\" stroke-dashoffset=\"7.5590592\" stroke-width=\"0.01mm\" /><path d=\"M 1135.4569897674419 0.0 L 1174.6106790697677 0.0\" fill=\"none\" stroke=\"black\" stroke-dasharray=\"7.5590592\" stroke-dashoffset=\"7.5590592\" stroke-width=\"0.01mm\" /><path d=\"M 1135.4569897674419 149.40346838453002 L 1174.6106790697677 149.40346838453002\" fill=\"none\" stroke=\"black\" stroke-dasharray=\"7.5590592\" stroke-dashoffset=\"7.5590592\" stroke-width=\"0.01mm\" /><path d=\"M 1213.764368372093 0.0 L 1252.9180576744186 0.0\" fill=\"none\" stroke=\"black\" stroke-dasharray=\"7.5590592\" stroke-dashoffset=\"7.5590592\" stroke-width=\"0.01mm\" /><path d=\"M 1213.764368372093 149.40346838453002 L 1252.9180576744186 149.40346838453002\" fill=\"none\" stroke=\"black\" stroke-dasharray=\"7.5590592\" stroke-dashoffset=\"7.5590592\" stroke-width=\"0.01mm\" /><path d=\"M 1292.0717469767442 149.40346838453002 L 1292.0717469767442 0.0\" fill=\"none\" stroke=\"black\" stroke-dasharray=\"7.5590592\" stroke-dashoffset=\"7.5590592\" stroke-width=\"0.01mm\" /><path d=\"M 1292.0717469767442 149.40346838453002 L 1318.797057075297 122.67815828597723 L 1318.797057075297 26.725310098552793 L 1292.0717469767442 0.0\" fill=\"none\" stroke=\"black\" stroke-width=\"0.01mm\" /><path d=\"M 0.0 149.40346838453002 L 0.0 0.0\" fill=\"none\" stroke=\"black\" stroke-width=\"0.01mm\" /></g></svg>"
      ],
      "text/plain": [
       "<svgwrite.drawing.Drawing at 0x7fcce0784b00>"
      ]
     },
     "execution_count": 39,
     "metadata": {},
     "output_type": "execute_result"
    }
   ],
   "source": [
    "dwg = svgwrite.Drawing('stud.svg', profile='full', size=(canvas_width, canvas_height))\n",
    "inkscape = Inkscape(dwg)\n",
    "layer = inkscape.layer(label='lego', locked=False)\n",
    "\n",
    "Polyline(top_points).draw(layer, **line_style)\n",
    "Polyline(bottom_points).draw(layer, **line_style)\n",
    "\n",
    "for i in range(1, len(top_points)-1, 4):\n",
    "    Polyline([top_points[i], top_points[i+3]]).draw(layer, **dashed_line_style)\n",
    "    Polyline([bottom_points[i], bottom_points[i+3]]).draw(layer, **dashed_line_style)\n",
    "\n",
    "tab_line = Polyline([bottom_points[-1], top_points[-1]])\n",
    "tab_line.draw(layer, **dashed_line_style)\n",
    "create_tab(tab_line, tab_offset).draw(layer, **line_style)\n",
    "\n",
    "Polyline([bottom_points[0], top_points[0]]).draw(layer, **line_style)\n",
    "\n",
    "layer.translate(mm_to_px(margin), mm_to_px(tab_offset + margin))\n",
    "dwg.add(layer)\n",
    "dwg"
   ]
  },
  {
   "cell_type": "code",
   "execution_count": 40,
   "metadata": {},
   "outputs": [],
   "source": [
    "dwg.save()"
   ]
  },
  {
   "cell_type": "markdown",
   "metadata": {},
   "source": [
    "## Draw stud top"
   ]
  },
  {
   "cell_type": "code",
   "execution_count": 41,
   "metadata": {},
   "outputs": [],
   "source": [
    "canvas_width = mm_to_px(2 * stud_radius + margin)\n",
    "canvas_height = mm_to_px(2 * stud_radius + margin)"
   ]
  },
  {
   "cell_type": "code",
   "execution_count": 42,
   "metadata": {},
   "outputs": [
    {
     "data": {
      "image/svg+xml": [
       "<svg baseProfile=\"full\" height=\"430.1768587214591\" version=\"1.1\" width=\"430.1768587214591\" xmlns=\"http://www.w3.org/2000/svg\" xmlns:ev=\"http://www.w3.org/2001/xml-events\" xmlns:inkscape=\"http://www.inkscape.org/namespaces/inkscape\" xmlns:sodipodi=\"http://sodipodi.sourceforge.net/DTD/sodipodi-0.dtd\" xmlns:xlink=\"http://www.w3.org/1999/xlink\"><defs /><g inkscape:groupmode=\"layer\" inkscape:label=\"lego\"><circle cx=\"215.08842936072955\" cy=\"215.08842936072955\" fill=\"none\" r=\"205.63960536072955\" stroke=\"black\" stroke-width=\"0.01mm\" /></g></svg>"
      ],
      "text/plain": [
       "<svgwrite.drawing.Drawing at 0x7fcce070c710>"
      ]
     },
     "execution_count": 42,
     "metadata": {},
     "output_type": "execute_result"
    }
   ],
   "source": [
    "dwg = svgwrite.Drawing('stud_top.svg', profile='full', size=(canvas_width, canvas_height))\n",
    "inkscape = Inkscape(dwg)\n",
    "layer = inkscape.layer(label='lego', locked=False)\n",
    "\n",
    "top = dwg.circle(center=(canvas_width/2, canvas_height/2),\n",
    "                 r=mm_to_px(stud_radius),\n",
    "                 **line_style)\n",
    "layer.add(top)\n",
    "dwg.add(layer)\n",
    "dwg"
   ]
  },
  {
   "cell_type": "code",
   "execution_count": 43,
   "metadata": {},
   "outputs": [],
   "source": [
    "dwg.save()"
   ]
  },
  {
   "cell_type": "markdown",
   "metadata": {},
   "source": [
    "## Draw bottom half torus"
   ]
  },
  {
   "cell_type": "code",
   "execution_count": 44,
   "metadata": {},
   "outputs": [
    {
     "data": {
      "text/plain": [
       "[42.334084058163064,\n",
       " 44.191508204960314,\n",
       " 42.334084058163064,\n",
       " 37.259506917907714]"
      ]
     },
     "execution_count": 44,
     "metadata": {},
     "output_type": "execute_result"
    }
   ],
   "source": [
    "# bottom torus has 2 less side\n",
    "bottom_lats = []\n",
    "for i in range(-1, n_cross // 4):\n",
    "    ri = head_radius - (torus_cross_radius - torus_cross_radius * np.cos(i * alpha_cross))\n",
    "    lat = 2 * ri * np.sin(alpha_equator / 2)\n",
    "    bottom_lats.append(lat)\n",
    "bottom_lats"
   ]
  },
  {
   "cell_type": "code",
   "execution_count": 45,
   "metadata": {},
   "outputs": [],
   "source": [
    "canvas_width = mm_to_px(n_copies * (np.max(bottom_lats) + tab_offset + margin) + margin)\n",
    "canvas_height = mm_to_px(len(bottom_lats) * cross_side + margin)"
   ]
  },
  {
   "cell_type": "code",
   "execution_count": 46,
   "metadata": {},
   "outputs": [],
   "source": [
    "dwg = svgwrite.Drawing('bottom-half-torus.svg', profile='full', size=(canvas_width, canvas_height))\n",
    "inkscape = Inkscape(dwg)\n",
    "tmp_layer = inkscape.layer(label=\"temp\", locked=False)\n",
    "\n",
    "a1 = b1 = None\n",
    "a2 = b2 = None\n",
    "\n",
    "for i, l in enumerate(bottom_lats):\n",
    "    a1, b1 = a2, b2\n",
    "    \n",
    "    a2 = Point(-l / 2, i * cross_side)\n",
    "    b2 = Point(l / 2, i * cross_side)\n",
    "    \n",
    "    if i == 0 or i == len(bottom_lats) - 1:\n",
    "        Polyline([a2, b2]).draw(tmp_layer, **line_style)\n",
    "    else:\n",
    "        Polyline([a2, b2]).draw(tmp_layer, **dashed_line_style)\n",
    "        \n",
    "    if i == 0:\n",
    "        continue\n",
    "    \n",
    "    left_lon_line = Polyline([a1, a2]).draw(tmp_layer, **dashed_line_style)\n",
    "    right_lon_line = Polyline([b1, b2]).draw(tmp_layer, **line_style)\n",
    "    \n",
    "    create_tab(left_lon_line, tab_offset).draw(tmp_layer, **line_style)    "
   ]
  },
  {
   "cell_type": "code",
   "execution_count": 47,
   "metadata": {},
   "outputs": [
    {
     "data": {
      "image/svg+xml": [
       "<svg baseProfile=\"full\" height=\"296.9630000703907\" version=\"1.1\" width=\"913.7618773171615\" xmlns=\"http://www.w3.org/2000/svg\" xmlns:ev=\"http://www.w3.org/2001/xml-events\" xmlns:inkscape=\"http://www.inkscape.org/namespaces/inkscape\" xmlns:sodipodi=\"http://sodipodi.sourceforge.net/DTD/sodipodi-0.dtd\" xmlns:xlink=\"http://www.w3.org/1999/xlink\"><defs /><g inkscape:groupmode=\"layer\" inkscape:label=\"lego\"><path d=\"M -80.00146189335771 0.0 L 80.00146189335771 0.0\" fill=\"none\" stroke=\"black\" stroke-width=\"0.01mm\" transform=\"translate(121.30685266464519,18.897647999999997)\" /><path d=\"M -83.51155666464518 69.51633801759768 L 83.51155666464518 69.51633801759768\" fill=\"none\" stroke=\"black\" stroke-dasharray=\"7.5590592\" stroke-dashoffset=\"7.5590592\" stroke-width=\"0.01mm\" transform=\"translate(121.30685266464519,18.897647999999997)\" /><path d=\"M -80.00146189335771 0.0 L -83.51155666464518 69.51633801759768\" fill=\"none\" stroke=\"black\" stroke-dasharray=\"7.5590592\" stroke-dashoffset=\"7.5590592\" stroke-width=\"0.01mm\" transform=\"translate(121.30685266464519,18.897647999999997)\" /><path d=\"M 80.00146189335771 0.0 L 83.51155666464518 69.51633801759768\" fill=\"none\" stroke=\"black\" stroke-width=\"0.01mm\" transform=\"translate(121.30685266464519,18.897647999999997)\" /><path d=\"M -80.00146189335771 0.0 L -108.04049476695775 25.34357976373486 L -108.85513642838005 41.477305143997626 L -83.51155666464518 69.51633801759768\" fill=\"none\" stroke=\"black\" stroke-width=\"0.01mm\" transform=\"translate(121.30685266464519,18.897647999999997)\" /><path d=\"M -80.00146189335771 139.03267603519535 L 80.00146189335771 139.03267603519535\" fill=\"none\" stroke=\"black\" stroke-dasharray=\"7.5590592\" stroke-dashoffset=\"7.5590592\" stroke-width=\"0.01mm\" transform=\"translate(121.30685266464519,18.897647999999997)\" /><path d=\"M -83.51155666464518 69.51633801759768 L -80.00146189335771 139.03267603519535\" fill=\"none\" stroke=\"black\" stroke-dasharray=\"7.5590592\" stroke-dashoffset=\"7.5590592\" stroke-width=\"0.01mm\" transform=\"translate(121.30685266464519,18.897647999999997)\" /><path d=\"M 83.51155666464518 69.51633801759768 L 80.00146189335771 139.03267603519535\" fill=\"none\" stroke=\"black\" stroke-width=\"0.01mm\" transform=\"translate(121.30685266464519,18.897647999999997)\" /><path d=\"M -83.51155666464518 69.51633801759768 L -108.85513642838005 97.55537089119775 L -108.04049476695778 113.6890962714605 L -80.00146189335771 139.03267603519535\" fill=\"none\" stroke=\"black\" stroke-width=\"0.01mm\" transform=\"translate(121.30685266464519,18.897647999999997)\" /><path d=\"M -70.41170463881848 208.54901405279304 L 70.41170463881848 208.54901405279304\" fill=\"none\" stroke=\"black\" stroke-width=\"0.01mm\" transform=\"translate(121.30685266464519,18.897647999999997)\" /><path d=\"M -80.00146189335771 139.03267603519535 L -70.41170463881848 208.54901405279304\" fill=\"none\" stroke=\"black\" stroke-dasharray=\"7.5590592\" stroke-dashoffset=\"7.5590592\" stroke-width=\"0.01mm\" transform=\"translate(121.30685266464519,18.897647999999997)\" /><path d=\"M 80.00146189335771 139.03267603519535 L 70.41170463881848 208.54901405279304\" fill=\"none\" stroke=\"black\" stroke-width=\"0.01mm\" transform=\"translate(121.30685266464519,18.897647999999997)\" /><path d=\"M -80.00146189335771 139.03267603519535 L -102.8238904316847 169.15942752520127 L -100.53845612882441 185.72658551446605 L -70.41170463881848 208.54901405279304\" fill=\"none\" stroke=\"black\" stroke-width=\"0.01mm\" transform=\"translate(121.30685266464519,18.897647999999997)\" /><path d=\"M -80.00146189335771 0.0 L 80.00146189335771 0.0\" fill=\"none\" stroke=\"black\" stroke-width=\"0.01mm\" transform=\"translate(326.12526199393557,18.897647999999997)\" /><path d=\"M -83.51155666464518 69.51633801759768 L 83.51155666464518 69.51633801759768\" fill=\"none\" stroke=\"black\" stroke-dasharray=\"7.5590592\" stroke-dashoffset=\"7.5590592\" stroke-width=\"0.01mm\" transform=\"translate(326.12526199393557,18.897647999999997)\" /><path d=\"M -80.00146189335771 0.0 L -83.51155666464518 69.51633801759768\" fill=\"none\" stroke=\"black\" stroke-dasharray=\"7.5590592\" stroke-dashoffset=\"7.5590592\" stroke-width=\"0.01mm\" transform=\"translate(326.12526199393557,18.897647999999997)\" /><path d=\"M 80.00146189335771 0.0 L 83.51155666464518 69.51633801759768\" fill=\"none\" stroke=\"black\" stroke-width=\"0.01mm\" transform=\"translate(326.12526199393557,18.897647999999997)\" /><path d=\"M -80.00146189335771 0.0 L -108.04049476695775 25.34357976373486 L -108.85513642838005 41.477305143997626 L -83.51155666464518 69.51633801759768\" fill=\"none\" stroke=\"black\" stroke-width=\"0.01mm\" transform=\"translate(326.12526199393557,18.897647999999997)\" /><path d=\"M -80.00146189335771 139.03267603519535 L 80.00146189335771 139.03267603519535\" fill=\"none\" stroke=\"black\" stroke-dasharray=\"7.5590592\" stroke-dashoffset=\"7.5590592\" stroke-width=\"0.01mm\" transform=\"translate(326.12526199393557,18.897647999999997)\" /><path d=\"M -83.51155666464518 69.51633801759768 L -80.00146189335771 139.03267603519535\" fill=\"none\" stroke=\"black\" stroke-dasharray=\"7.5590592\" stroke-dashoffset=\"7.5590592\" stroke-width=\"0.01mm\" transform=\"translate(326.12526199393557,18.897647999999997)\" /><path d=\"M 83.51155666464518 69.51633801759768 L 80.00146189335771 139.03267603519535\" fill=\"none\" stroke=\"black\" stroke-width=\"0.01mm\" transform=\"translate(326.12526199393557,18.897647999999997)\" /><path d=\"M -83.51155666464518 69.51633801759768 L -108.85513642838005 97.55537089119775 L -108.04049476695778 113.6890962714605 L -80.00146189335771 139.03267603519535\" fill=\"none\" stroke=\"black\" stroke-width=\"0.01mm\" transform=\"translate(326.12526199393557,18.897647999999997)\" /><path d=\"M -70.41170463881848 208.54901405279304 L 70.41170463881848 208.54901405279304\" fill=\"none\" stroke=\"black\" stroke-width=\"0.01mm\" transform=\"translate(326.12526199393557,18.897647999999997)\" /><path d=\"M -80.00146189335771 139.03267603519535 L -70.41170463881848 208.54901405279304\" fill=\"none\" stroke=\"black\" stroke-dasharray=\"7.5590592\" stroke-dashoffset=\"7.5590592\" stroke-width=\"0.01mm\" transform=\"translate(326.12526199393557,18.897647999999997)\" /><path d=\"M 80.00146189335771 139.03267603519535 L 70.41170463881848 208.54901405279304\" fill=\"none\" stroke=\"black\" stroke-width=\"0.01mm\" transform=\"translate(326.12526199393557,18.897647999999997)\" /><path d=\"M -80.00146189335771 139.03267603519535 L -102.8238904316847 169.15942752520127 L -100.53845612882441 185.72658551446605 L -70.41170463881848 208.54901405279304\" fill=\"none\" stroke=\"black\" stroke-width=\"0.01mm\" transform=\"translate(326.12526199393557,18.897647999999997)\" /><path d=\"M -80.00146189335771 0.0 L 80.00146189335771 0.0\" fill=\"none\" stroke=\"black\" stroke-width=\"0.01mm\" transform=\"translate(530.943671323226,18.897647999999997)\" /><path d=\"M -83.51155666464518 69.51633801759768 L 83.51155666464518 69.51633801759768\" fill=\"none\" stroke=\"black\" stroke-dasharray=\"7.5590592\" stroke-dashoffset=\"7.5590592\" stroke-width=\"0.01mm\" transform=\"translate(530.943671323226,18.897647999999997)\" /><path d=\"M -80.00146189335771 0.0 L -83.51155666464518 69.51633801759768\" fill=\"none\" stroke=\"black\" stroke-dasharray=\"7.5590592\" stroke-dashoffset=\"7.5590592\" stroke-width=\"0.01mm\" transform=\"translate(530.943671323226,18.897647999999997)\" /><path d=\"M 80.00146189335771 0.0 L 83.51155666464518 69.51633801759768\" fill=\"none\" stroke=\"black\" stroke-width=\"0.01mm\" transform=\"translate(530.943671323226,18.897647999999997)\" /><path d=\"M -80.00146189335771 0.0 L -108.04049476695775 25.34357976373486 L -108.85513642838005 41.477305143997626 L -83.51155666464518 69.51633801759768\" fill=\"none\" stroke=\"black\" stroke-width=\"0.01mm\" transform=\"translate(530.943671323226,18.897647999999997)\" /><path d=\"M -80.00146189335771 139.03267603519535 L 80.00146189335771 139.03267603519535\" fill=\"none\" stroke=\"black\" stroke-dasharray=\"7.5590592\" stroke-dashoffset=\"7.5590592\" stroke-width=\"0.01mm\" transform=\"translate(530.943671323226,18.897647999999997)\" /><path d=\"M -83.51155666464518 69.51633801759768 L -80.00146189335771 139.03267603519535\" fill=\"none\" stroke=\"black\" stroke-dasharray=\"7.5590592\" stroke-dashoffset=\"7.5590592\" stroke-width=\"0.01mm\" transform=\"translate(530.943671323226,18.897647999999997)\" /><path d=\"M 83.51155666464518 69.51633801759768 L 80.00146189335771 139.03267603519535\" fill=\"none\" stroke=\"black\" stroke-width=\"0.01mm\" transform=\"translate(530.943671323226,18.897647999999997)\" /><path d=\"M -83.51155666464518 69.51633801759768 L -108.85513642838005 97.55537089119775 L -108.04049476695778 113.6890962714605 L -80.00146189335771 139.03267603519535\" fill=\"none\" stroke=\"black\" stroke-width=\"0.01mm\" transform=\"translate(530.943671323226,18.897647999999997)\" /><path d=\"M -70.41170463881848 208.54901405279304 L 70.41170463881848 208.54901405279304\" fill=\"none\" stroke=\"black\" stroke-width=\"0.01mm\" transform=\"translate(530.943671323226,18.897647999999997)\" /><path d=\"M -80.00146189335771 139.03267603519535 L -70.41170463881848 208.54901405279304\" fill=\"none\" stroke=\"black\" stroke-dasharray=\"7.5590592\" stroke-dashoffset=\"7.5590592\" stroke-width=\"0.01mm\" transform=\"translate(530.943671323226,18.897647999999997)\" /><path d=\"M 80.00146189335771 139.03267603519535 L 70.41170463881848 208.54901405279304\" fill=\"none\" stroke=\"black\" stroke-width=\"0.01mm\" transform=\"translate(530.943671323226,18.897647999999997)\" /><path d=\"M -80.00146189335771 139.03267603519535 L -102.8238904316847 169.15942752520127 L -100.53845612882441 185.72658551446605 L -70.41170463881848 208.54901405279304\" fill=\"none\" stroke=\"black\" stroke-width=\"0.01mm\" transform=\"translate(530.943671323226,18.897647999999997)\" /><path d=\"M -80.00146189335771 0.0 L 80.00146189335771 0.0\" fill=\"none\" stroke=\"black\" stroke-width=\"0.01mm\" transform=\"translate(735.7620806525163,18.897647999999997)\" /><path d=\"M -83.51155666464518 69.51633801759768 L 83.51155666464518 69.51633801759768\" fill=\"none\" stroke=\"black\" stroke-dasharray=\"7.5590592\" stroke-dashoffset=\"7.5590592\" stroke-width=\"0.01mm\" transform=\"translate(735.7620806525163,18.897647999999997)\" /><path d=\"M -80.00146189335771 0.0 L -83.51155666464518 69.51633801759768\" fill=\"none\" stroke=\"black\" stroke-dasharray=\"7.5590592\" stroke-dashoffset=\"7.5590592\" stroke-width=\"0.01mm\" transform=\"translate(735.7620806525163,18.897647999999997)\" /><path d=\"M 80.00146189335771 0.0 L 83.51155666464518 69.51633801759768\" fill=\"none\" stroke=\"black\" stroke-width=\"0.01mm\" transform=\"translate(735.7620806525163,18.897647999999997)\" /><path d=\"M -80.00146189335771 0.0 L -108.04049476695775 25.34357976373486 L -108.85513642838005 41.477305143997626 L -83.51155666464518 69.51633801759768\" fill=\"none\" stroke=\"black\" stroke-width=\"0.01mm\" transform=\"translate(735.7620806525163,18.897647999999997)\" /><path d=\"M -80.00146189335771 139.03267603519535 L 80.00146189335771 139.03267603519535\" fill=\"none\" stroke=\"black\" stroke-dasharray=\"7.5590592\" stroke-dashoffset=\"7.5590592\" stroke-width=\"0.01mm\" transform=\"translate(735.7620806525163,18.897647999999997)\" /><path d=\"M -83.51155666464518 69.51633801759768 L -80.00146189335771 139.03267603519535\" fill=\"none\" stroke=\"black\" stroke-dasharray=\"7.5590592\" stroke-dashoffset=\"7.5590592\" stroke-width=\"0.01mm\" transform=\"translate(735.7620806525163,18.897647999999997)\" /><path d=\"M 83.51155666464518 69.51633801759768 L 80.00146189335771 139.03267603519535\" fill=\"none\" stroke=\"black\" stroke-width=\"0.01mm\" transform=\"translate(735.7620806525163,18.897647999999997)\" /><path d=\"M -83.51155666464518 69.51633801759768 L -108.85513642838005 97.55537089119775 L -108.04049476695778 113.6890962714605 L -80.00146189335771 139.03267603519535\" fill=\"none\" stroke=\"black\" stroke-width=\"0.01mm\" transform=\"translate(735.7620806525163,18.897647999999997)\" /><path d=\"M -70.41170463881848 208.54901405279304 L 70.41170463881848 208.54901405279304\" fill=\"none\" stroke=\"black\" stroke-width=\"0.01mm\" transform=\"translate(735.7620806525163,18.897647999999997)\" /><path d=\"M -80.00146189335771 139.03267603519535 L -70.41170463881848 208.54901405279304\" fill=\"none\" stroke=\"black\" stroke-dasharray=\"7.5590592\" stroke-dashoffset=\"7.5590592\" stroke-width=\"0.01mm\" transform=\"translate(735.7620806525163,18.897647999999997)\" /><path d=\"M 80.00146189335771 139.03267603519535 L 70.41170463881848 208.54901405279304\" fill=\"none\" stroke=\"black\" stroke-width=\"0.01mm\" transform=\"translate(735.7620806525163,18.897647999999997)\" /><path d=\"M -80.00146189335771 139.03267603519535 L -102.8238904316847 169.15942752520127 L -100.53845612882441 185.72658551446605 L -70.41170463881848 208.54901405279304\" fill=\"none\" stroke=\"black\" stroke-width=\"0.01mm\" transform=\"translate(735.7620806525163,18.897647999999997)\" /></g></svg>"
      ],
      "text/plain": [
       "<svgwrite.drawing.Drawing at 0x7fcce07dca90>"
      ]
     },
     "execution_count": 47,
     "metadata": {},
     "output_type": "execute_result"
    }
   ],
   "source": [
    "layer = inkscape.layer(label=\"lego\", locked=False)\n",
    "\n",
    "# position copies on the canvas\n",
    "for c in range(n_copies):\n",
    "    for e in tmp_layer.elements:\n",
    "        e = e.copy()\n",
    "        offset_x = mm_to_px(c * (np.max(bottom_lats) + tab_offset) + np.max(bottom_lats) / 2 + tab_offset)\n",
    "        offset_y = mm_to_px(margin)\n",
    "        e.translate(offset_x , offset_y)\n",
    "        layer.add(e)\n",
    "\n",
    "dwg.add(layer)\n",
    "dwg.save()\n",
    "dwg"
   ]
  },
  {
   "cell_type": "markdown",
   "metadata": {},
   "source": [
    "## Draw neck ring"
   ]
  },
  {
   "cell_type": "code",
   "execution_count": 48,
   "metadata": {},
   "outputs": [
    {
     "data": {
      "text/plain": [
       "(107.8028598259913, 94.88055525042692)"
      ]
     },
     "execution_count": 48,
     "metadata": {},
     "output_type": "execute_result"
    }
   ],
   "source": [
    "ring_outer_radius = bottom_lats[-2] * n_equator / (2 * pi)\n",
    "ring_inner_radius = bottom_lats[-1] * n_equator / (2 * pi)\n",
    "ring_outer_radius, ring_inner_radius"
   ]
  },
  {
   "cell_type": "code",
   "execution_count": 49,
   "metadata": {},
   "outputs": [],
   "source": [
    "canvas_width = mm_to_px(2 * ring_outer_radius + margin)\n",
    "canvas_height = mm_to_px(2 * ring_outer_radius + margin)"
   ]
  },
  {
   "cell_type": "code",
   "execution_count": 50,
   "metadata": {},
   "outputs": [
    {
     "data": {
      "image/svg+xml": [
       "<svg baseProfile=\"full\" height=\"833.78584735397\" version=\"1.1\" width=\"833.78584735397\" xmlns=\"http://www.w3.org/2000/svg\" xmlns:ev=\"http://www.w3.org/2001/xml-events\" xmlns:inkscape=\"http://www.inkscape.org/namespaces/inkscape\" xmlns:sodipodi=\"http://sodipodi.sourceforge.net/DTD/sodipodi-0.dtd\" xmlns:xlink=\"http://www.w3.org/1999/xlink\"><defs /><g inkscape:groupmode=\"layer\" inkscape:label=\"lego\" transform=\"translate(416.892923676985,416.892923676985)\"><path d=\"M 407.44409967698493 0.0 L 376.429264334055 155.9221065612924 L 288.1064858360437 288.10648583604365 L 155.92210656129242 376.429264334055 L 2.4948755625044737e-14 407.44409967698493 L -155.92210656129234 376.429264334055 L -288.10648583604365 288.1064858360437 L -376.429264334055 155.92210656129242 L -407.44409967698493 4.9897511250089475e-14 L -376.42926433405506 -155.9221065612923 L -288.1064858360437 -288.10648583604365 L -155.9221065612926 -376.4292643340549 L -7.484626687513421e-14 -407.44409967698493 L 155.92210656129245 -376.42926433405495 L 288.10648583604365 -288.1064858360437 L 376.4292643340549 -155.92210656129262 L 407.44409967698493 -9.979502250017895e-14\" fill=\"none\" stroke=\"black\" stroke-width=\"0.01mm\" /><path d=\"M 358.60386703342397 0.0 L 331.3067730315794 137.23175869574496 L 253.57122613905312 253.5712261390531 L 137.231758695745 331.3067730315794 L 2.1958153896217285e-14 358.60386703342397 L -137.23175869574493 331.3067730315794 L -253.5712261390531 253.57122613905312 L -331.3067730315794 137.231758695745 L -358.60386703342397 4.391630779243457e-14 L -331.3067730315794 -137.2317586957449 L -253.57122613905312 -253.5712261390531 L -137.23175869574513 -331.3067730315793 L -6.587446168865184e-14 -358.60386703342397 L 137.23175869574501 -331.3067730315793 L 253.571226139053 -253.57122613905312 L 331.3067730315793 -137.23175869574516 L 358.60386703342397 -8.783261558486914e-14\" fill=\"none\" stroke=\"black\" stroke-width=\"0.01mm\" /></g></svg>"
      ],
      "text/plain": [
       "<svgwrite.drawing.Drawing at 0x7fcce0717128>"
      ]
     },
     "execution_count": 50,
     "metadata": {},
     "output_type": "execute_result"
    }
   ],
   "source": [
    "dwg = svgwrite.Drawing('neck_ring.svg', profile='full', size=(canvas_width, canvas_height))\n",
    "inkscape = Inkscape(dwg)\n",
    "layer = inkscape.layer(label='lego', locked=False)\n",
    "\n",
    "outer_points = []\n",
    "inner_points = []\n",
    "for i in range(n_equator + 1):\n",
    "    outer_points.append(Point(ring_outer_radius * np.cos(i * alpha_equator),\n",
    "                              ring_outer_radius * np.sin(i * alpha_equator)))\n",
    "    inner_points.append(Point(ring_inner_radius * np.cos(i * alpha_equator),\n",
    "                              ring_inner_radius * np.sin(i * (alpha_equator))))\n",
    "\n",
    "Polyline(outer_points).draw(layer, **line_style)\n",
    "Polyline(inner_points).draw(layer, **line_style)\n",
    "\n",
    "layer.translate(canvas_width / 2, canvas_height / 2)\n",
    "\n",
    "dwg.add(layer)\n",
    "dwg.save()\n",
    "dwg"
   ]
  },
  {
   "cell_type": "code",
   "execution_count": null,
   "metadata": {},
   "outputs": [],
   "source": []
  }
 ],
 "metadata": {
  "kernelspec": {
   "display_name": "Python 3",
   "language": "python",
   "name": "python3"
  },
  "language_info": {
   "codemirror_mode": {
    "name": "ipython",
    "version": 3
   },
   "file_extension": ".py",
   "mimetype": "text/x-python",
   "name": "python",
   "nbconvert_exporter": "python",
   "pygments_lexer": "ipython3",
   "version": "3.7.3"
  }
 },
 "nbformat": 4,
 "nbformat_minor": 2
}
