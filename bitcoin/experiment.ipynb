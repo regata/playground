{
 "cells": [
  {
   "cell_type": "code",
   "execution_count": null,
   "metadata": {},
   "outputs": [],
   "source": [
    "%load_ext autoreload\n",
    "%autoreload 2"
   ]
  },
  {
   "cell_type": "markdown",
   "metadata": {},
   "source": [
    "## Init blockchain"
   ]
  },
  {
   "cell_type": "code",
   "execution_count": null,
   "metadata": {},
   "outputs": [],
   "source": [
    "from rpc import Proxy\n",
    "import bitcoin"
   ]
  },
  {
   "cell_type": "code",
   "execution_count": null,
   "metadata": {},
   "outputs": [],
   "source": [
    "bitcoin.SelectParams('regtest')"
   ]
  },
  {
   "cell_type": "code",
   "execution_count": null,
   "metadata": {},
   "outputs": [],
   "source": [
    "rpc = Proxy()"
   ]
  },
  {
   "cell_type": "code",
   "execution_count": null,
   "metadata": {},
   "outputs": [],
   "source": [
    "rpc.generate(101)"
   ]
  },
  {
   "cell_type": "markdown",
   "metadata": {},
   "source": [
    "## Init Alice and Bob"
   ]
  },
  {
   "cell_type": "code",
   "execution_count": null,
   "metadata": {},
   "outputs": [],
   "source": [
    "from collections import namedtuple\n",
    "import bitcoin.core as bc\n",
    "import bitcoin.core.script as bs\n",
    "import bitcoin.wallet as bw"
   ]
  },
  {
   "cell_type": "code",
   "execution_count": null,
   "metadata": {},
   "outputs": [],
   "source": [
    "class User(object):\n",
    "    def __init__(self, rpc):\n",
    "        self.rpc = rpc\n",
    "        self._secrets = []\n",
    "        self.addresses = []\n",
    "    \n",
    "    def generate_addresses(self, n):\n",
    "        for _ in range(n):\n",
    "            addr = self.rpc.getnewaddress()\n",
    "            secr = self.rpc.dumpprivkey(addr)\n",
    "            self.addresses.append(addr)\n",
    "            self._secrets.append(secr)\n",
    "            \n",
    "    def pub_key(self, key_id):\n",
    "        return self._secrets[key_id].pub\n",
    "    \n",
    "    @property\n",
    "    def utxos(self):\n",
    "        txs = self.rpc.listunspent(addrs=self.addresses)\n",
    "        return txs\n",
    "    \n",
    "    def utxo(self, amount):\n",
    "        # find the right utxo given `amount`\n",
    "        utxos = self.utxos\n",
    "        amounts = [u['amount'] for u in utxos]\n",
    "        utxo_id = amounts.index(amount)\n",
    "        utxo = utxos[utxo_id]\n",
    "        return utxo\n",
    "    \n",
    "    def sign_hash(self, key_id, sig_hash, sig_hash_type=bs.SIGHASH_ALL):\n",
    "        assert key_id >= 0 and key_id < len(self._secrets)\n",
    "        assert isinstance(sig_hash, bytes)\n",
    "\n",
    "        secret = self._secrets[key_id]\n",
    "        sig = secret.sign(sig_hash) + bytes([sig_hash_type])\n",
    "        return sig\n",
    "    \n",
    "    def sign_utxo(self, utxo, tx, vin_id):\n",
    "        # copy `tx`\n",
    "        tx = bc.CMutableTransaction.from_tx(tx)\n",
    "        # get required input\n",
    "        txin = tx.vin[vin_id]\n",
    "        assert txin.prevout == utxo['outpoint']\n",
    "        \n",
    "        addr = utxo['address']\n",
    "        key_id = self.addresses.index(addr)\n",
    "        secret = self._secrets[key_id]\n",
    "        \n",
    "        sighash = bs.SignatureHash(addr.to_scriptPubKey(),\n",
    "                                   tx,\n",
    "                                   vin_id,\n",
    "                                   bs.SIGHASH_ALL)\n",
    "        \n",
    "        sig = secret.sign(sighash) + bytes([bs.SIGHASH_ALL])\n",
    "        txin.scriptSig = bs.CScript([sig, secret.pub])\n",
    "        return tx\n",
    "    \n",
    "#     def fund_transaction(self, amount, tx, vin_id):\n",
    "#         assert isinstance(tx, bc.CMutableTransaction)\n",
    "#         assert vin_id >= 0 and vin_id < len(tx.vin)\n",
    "#         assert amount > 0\n",
    "        \n",
    "        \n",
    "\n",
    "#         # find the right utxo\n",
    "#         utxo = self.utxo(amount)\n",
    "        \n",
    "#         # link utxo to vin of `tx`\n",
    "#         txin.prevout = utxo['outpoint']\n",
    "        \n",
    "#         # sign utxo\n",
    "#         key_id = self.addresses.index(utxo['address'])\n",
    "#         secret = self._secrets[key_id]\n",
    "#         sighash = bs.SignatureHash(utxo['address'].to_scriptPubKey(),\n",
    "#                                    tx,\n",
    "#                                    vin_id,\n",
    "#                                    bs.SIGHASH_ALL)\n",
    "\n",
    "#         sig = secret.sign(sighash) + bytes([bs.SIGHASH_ALL])\n",
    "#         txin.scriptSig = bs.CScript([sig, secret.pub])\n",
    "#         return tx\n"
   ]
  },
  {
   "cell_type": "code",
   "execution_count": null,
   "metadata": {},
   "outputs": [],
   "source": [
    "ali = User(rpc)\n",
    "bob = User(rpc)\n",
    "\n",
    "ali.generate_addresses(6)\n",
    "bob.generate_addresses(6)"
   ]
  },
  {
   "cell_type": "code",
   "execution_count": null,
   "metadata": {},
   "outputs": [],
   "source": [
    "SWAP_AMOUT = 10 * bc.COIN\n",
    "CANCEL_AMOUNT = 2"
   ]
  },
  {
   "cell_type": "code",
   "execution_count": null,
   "metadata": {},
   "outputs": [],
   "source": [
    "_ = rpc.sendtoaddress(ali.addresses[0], SWAP_AMOUT)\n",
    "_ = rpc.sendtoaddress(bob.addresses[0], SWAP_AMOUT)"
   ]
  },
  {
   "cell_type": "code",
   "execution_count": null,
   "metadata": {},
   "outputs": [],
   "source": [
    "rpc.generate(1)"
   ]
  },
  {
   "cell_type": "markdown",
   "metadata": {},
   "source": [
    "## Create $T^{Fund}$ scripts"
   ]
  },
  {
   "cell_type": "code",
   "execution_count": null,
   "metadata": {},
   "outputs": [],
   "source": [
    "curr_block = rpc.getinfo()['blocks']\n",
    "curr_block"
   ]
  },
  {
   "cell_type": "code",
   "execution_count": null,
   "metadata": {},
   "outputs": [],
   "source": [
    "Timers = namedtuple('SwapTimers', ['cancel', 'fork', 'bob', 'ali'])\n",
    "\n",
    "timers = Timers(cancel=curr_block + 4,\n",
    "                fork=curr_block + 6,\n",
    "                bob=curr_block + 8,\n",
    "                ali=curr_block + 10)\n",
    "timers"
   ]
  },
  {
   "cell_type": "code",
   "execution_count": null,
   "metadata": {},
   "outputs": [],
   "source": [
    "class AtomicSwapper(object):\n",
    "    def __init__(self, timers):\n",
    "        self.timers = timers\n",
    "    \n",
    "    @staticmethod\n",
    "    def refund_script(pk, delta):\n",
    "        assert isinstance(pk, bc.key.CPubKey)\n",
    "        assert isinstance(delta, int)\n",
    "        assert delta > 0\n",
    "\n",
    "        script = bs.CScript([\n",
    "            delta,\n",
    "            bs.OP_CHECKLOCKTIMEVERIFY,\n",
    "            bs.OP_DROP,\n",
    "            pk,\n",
    "            bs.OP_CHECKSIG\n",
    "        ])\n",
    "        return script\n",
    "\n",
    "    @staticmethod\n",
    "    def cancel_script(pk1, pk2):\n",
    "        assert isinstance(pk1, bc.key.CPubKey)\n",
    "        assert isinstance(pk2, bc.key.CPubKey)\n",
    "\n",
    "        script = bs.CScript([\n",
    "            bs.OP_2,\n",
    "            pk1,\n",
    "            pk2,\n",
    "            bs.OP_2,\n",
    "            bs.OP_CHECKMULTISIG\n",
    "        ])\n",
    "\n",
    "        return script\n",
    "    \n",
    "    def ali_deposit_script(self, ali, bob):\n",
    "        refund_script = self.refund_script(ali.pub_key(1), self.timers.ali)\n",
    "        cancel_script = self.cancel_script(ali.pub_key(3), bob.pub_key(3))\n",
    "        \n",
    "        deposit = bs.CScript([\n",
    "            bs.OP_IF,\n",
    "                *list(refund_script),\n",
    "            bs.OP_ELSE,\n",
    "                *list(cancel_script),\n",
    "            bs.OP_ENDIF])\n",
    "        return deposit\n",
    "    \n",
    "    def bob_deposit_script(self, ali, bob):\n",
    "        refund_script = self.refund_script(bob.pub_key(1), self.timers.bob)\n",
    "        cancel_script = self.cancel_script(ali.pub_key(3), bob.pub_key(3))\n",
    "        \n",
    "        deposit = bs.CScript([\n",
    "            bs.OP_IF,\n",
    "                *list(refund_script),\n",
    "            bs.OP_ELSE,\n",
    "                *list(cancel_script),\n",
    "            bs.OP_ENDIF])\n",
    "        return deposit\n",
    "    \n",
    "    def fund_tx(self, ali, bob,\n",
    "                ali_utxo, bob_utxo,\n",
    "                cancel_amount=CANCEL_AMOUNT, fee=0):\n",
    "        assert cancel_amount > 0\n",
    "        assert fee >= 0\n",
    "\n",
    "        ali_txin = bc.CMutableTxIn(ali_utxo['outpoint'], nSequence=0)\n",
    "        bob_txin = bc.CMutableTxIn(bob_utxo['outpoint'], nSequence=0)\n",
    "        \n",
    "        ali_deposit = self.ali_deposit_script(ali, bob)\n",
    "        bob_deposit = self.bob_deposit_script(ali, bob)\n",
    "        \n",
    "        ali_deposit_txout = bc.CMutableTxOut(\n",
    "            ali_utxo['amount'] - cancel_amount/2 - fee/2,\n",
    "            ali_deposit)\n",
    "        bob_deposit_txout = bc.CMutableTxOut(\n",
    "            bob_utxo['amount'] - cancel_amount/2 - fee/2,\n",
    "            bob_deposit)\n",
    "        \n",
    "        cancel_script = self.cancel_script(ali.pub_key(2), bob.pub_key(2))\n",
    "        cancel_txout = bc.CMutableTxOut(cancel_amount, cancel_script)\n",
    "        \n",
    "        vins = [ali_txin, bob_txin]\n",
    "        vouts = [ali_deposit_txout,\n",
    "                 bob_deposit_txout, \n",
    "                 cancel_txout]\n",
    "        fund_tx = bc.CMutableTransaction(vins, vouts)\n",
    "        \n",
    "        fund_tx = ali.sign_utxo(ali_utxo, fund_tx, 0)\n",
    "        fund_tx = bob.sign_utxo(bob_utxo, fund_tx, 1)\n",
    "        \n",
    "        return fund_tx\n",
    "    \n",
    "    @staticmethod\n",
    "    def cancel_tx(fund_tx, ali, bob, fee=0):\n",
    "        fund_tx_id = fund_tx.GetTxid()\n",
    "        ali_cancel_txin = bc.CMutableTxIn(bc.COutPoint(fund_tx_id, 0),\n",
    "                                          nSequence=0)\n",
    "        bob_cancel_txin = bc.CMutableTxIn(bc.COutPoint(fund_tx_id, 1),\n",
    "                                          nSequence=0)\n",
    "        can_cancel_txin = bc.CMutableTxIn(bc.COutPoint(fund_tx_id, 2),\n",
    "                                          nSequence=0)\n",
    "        \n",
    "        cancel_amount = fund_tx.vout[2].nValue\n",
    "        assert CANCEL_AMOUNT == cancel_amount\n",
    "        \n",
    "        ali_cancel_txout = bc.CMutableTxOut(\n",
    "            fund_tx.vout[0].nValue + cancel_amount/2 - fee/2,\n",
    "            ali.addresses[5].to_scriptPubKey())\n",
    "        bob_cancel_txout = bc.CMutableTxOut(\n",
    "            fund_tx.vout[1].nValue + cancel_amount/2 - fee/2,\n",
    "            bob.addresses[5].to_scriptPubKey())\n",
    "        \n",
    "        vins = [ali_cancel_txin, bob_cancel_txin, can_cancel_txin]\n",
    "        vouts = [ali_cancel_txout, bob_cancel_txout]\n",
    "        cancel_tx = bc.CMutableTransaction(vins, vouts)\n",
    "        \n",
    "        ali_cancel_sighash = bs.SignatureHash(\n",
    "            fund_tx.vout[0].scriptPubKey,\n",
    "            cancel_tx,\n",
    "            0,\n",
    "            bs.SIGHASH_ALL)\n",
    "\n",
    "        bob_cancel_sighash = bs.SignatureHash(\n",
    "            fund_tx.vout[1].scriptPubKey,\n",
    "            cancel_tx,\n",
    "            1,\n",
    "            bs.SIGHASH_ALL)\n",
    "\n",
    "        can_cancel_sighash = bs.SignatureHash(\n",
    "            fund_tx.vout[2].scriptPubKey,\n",
    "            cancel_tx,\n",
    "            2,\n",
    "            bs.SIGHASH_ALL)\n",
    "        \n",
    "        ali_cancel_ali_sig = ali.sign_hash(3, ali_cancel_sighash)\n",
    "        ali_cancel_bob_sig = bob.sign_hash(3, ali_cancel_sighash)\n",
    "        \n",
    "        bob_cancel_ali_sig = ali.sign_hash(3, bob_cancel_sighash)\n",
    "        bob_cancel_bob_sig = bob.sign_hash(3, bob_cancel_sighash)\n",
    "        \n",
    "        can_cancel_ali_sig = ali.sign_hash(2, can_cancel_sighash)\n",
    "        can_cancel_bob_sig = bob.sign_hash(2, can_cancel_sighash)\n",
    "        \n",
    "        ali_cancel_txin.scriptSig = bs.CScript(\n",
    "            [bs.OP_0, ali_cancel_ali_sig, ali_cancel_bob_sig, bs.OP_0])\n",
    "\n",
    "        bob_cancel_txin.scriptSig = bs.CScript(\n",
    "            [bs.OP_0, bob_cancel_ali_sig, bob_cancel_bob_sig, bs.OP_0])\n",
    "\n",
    "        can_cancel_txin.scriptSig = bs.CScript(\n",
    "            [bs.OP_0, can_cancel_ali_sig, can_cancel_bob_sig])\n",
    "\n",
    "        return cancel_tx"
   ]
  },
  {
   "cell_type": "code",
   "execution_count": null,
   "metadata": {},
   "outputs": [],
   "source": [
    "swapper = AtomicSwapper(timers)"
   ]
  },
  {
   "cell_type": "markdown",
   "metadata": {},
   "source": [
    "## Create $T^{Fund}$ transaction"
   ]
  },
  {
   "cell_type": "code",
   "execution_count": null,
   "metadata": {},
   "outputs": [],
   "source": [
    "ali_utxo = ali.utxo(SWAP_AMOUT)\n",
    "bob_utxo = bob.utxo(SWAP_AMOUT)"
   ]
  },
  {
   "cell_type": "code",
   "execution_count": null,
   "metadata": {},
   "outputs": [],
   "source": [
    "fund_tx = swapper.fund_tx(ali, bob, ali_utxo, bob_utxo)"
   ]
  },
  {
   "cell_type": "code",
   "execution_count": null,
   "metadata": {},
   "outputs": [],
   "source": [
    "# https://github.com/petertodd/python-bitcoinlib/blob/5e150ac4a50791e6293752ceef8647b9bb3273c0/examples/timestamp-op-ret.py#L66\n",
    "FEE_PER_BYTE = 0.00025 * bc.COIN/1000"
   ]
  },
  {
   "cell_type": "code",
   "execution_count": null,
   "metadata": {},
   "outputs": [],
   "source": [
    "n_bytes = len(fund_tx.serialize())\n",
    "fee = n_bytes * FEE_PER_BYTE\n",
    "fee"
   ]
  },
  {
   "cell_type": "code",
   "execution_count": null,
   "metadata": {},
   "outputs": [],
   "source": [
    "fund_tx = swapper.fund_tx(ali, bob, ali_utxo, bob_utxo, fee=fee)"
   ]
  },
  {
   "cell_type": "code",
   "execution_count": null,
   "metadata": {},
   "outputs": [],
   "source": [
    "fund_tx_id = rpc.sendrawtransaction(fund_tx)"
   ]
  },
  {
   "cell_type": "code",
   "execution_count": null,
   "metadata": {},
   "outputs": [],
   "source": [
    "rpc.generate(1)"
   ]
  },
  {
   "cell_type": "code",
   "execution_count": null,
   "metadata": {},
   "outputs": [],
   "source": [
    "assert rpc.gettransaction(fund_tx_id)['confirmations'] == 1"
   ]
  },
  {
   "cell_type": "markdown",
   "metadata": {},
   "source": [
    "## Create $T^{cancel}$"
   ]
  },
  {
   "cell_type": "code",
   "execution_count": null,
   "metadata": {},
   "outputs": [],
   "source": [
    "fund_tx = rpc.getrawtransaction(fund_tx_id)"
   ]
  },
  {
   "cell_type": "code",
   "execution_count": null,
   "metadata": {},
   "outputs": [],
   "source": [
    "cancel_tx = swapper.cancel_tx(fund_tx, ali, bob)"
   ]
  },
  {
   "cell_type": "code",
   "execution_count": null,
   "metadata": {},
   "outputs": [],
   "source": [
    "n_bytes = len(cancel_tx.serialize())\n",
    "fee = n_bytes * FEE_PER_BYTE\n",
    "fee"
   ]
  },
  {
   "cell_type": "code",
   "execution_count": null,
   "metadata": {},
   "outputs": [],
   "source": [
    "cancel_tx = swapper.cancel_tx(fund_tx, ali, bob, fee=fee)"
   ]
  },
  {
   "cell_type": "code",
   "execution_count": null,
   "metadata": {},
   "outputs": [],
   "source": [
    "cancel_tx_id = rpc.sendrawtransaction(cancel_tx)"
   ]
  },
  {
   "cell_type": "code",
   "execution_count": null,
   "metadata": {},
   "outputs": [],
   "source": [
    "rpc.generate(1)"
   ]
  },
  {
   "cell_type": "code",
   "execution_count": null,
   "metadata": {},
   "outputs": [],
   "source": [
    "assert rpc.gettransaction(cancel_tx_id)['confirmations'] == 1"
   ]
  },
  {
   "cell_type": "code",
   "execution_count": null,
   "metadata": {},
   "outputs": [],
   "source": []
  }
 ],
 "metadata": {
  "kernelspec": {
   "display_name": "Python 3",
   "language": "python",
   "name": "python3"
  },
  "language_info": {
   "codemirror_mode": {
    "name": "ipython",
    "version": 3
   },
   "file_extension": ".py",
   "mimetype": "text/x-python",
   "name": "python",
   "nbconvert_exporter": "python",
   "pygments_lexer": "ipython3",
   "version": "3.6.2"
  }
 },
 "nbformat": 4,
 "nbformat_minor": 2
}
