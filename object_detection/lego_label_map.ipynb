{
 "cells": [
  {
   "cell_type": "markdown",
   "metadata": {},
   "source": [
    "# Prepare Dataset"
   ]
  },
  {
   "cell_type": "code",
   "execution_count": 12,
   "metadata": {
    "collapsed": true
   },
   "outputs": [],
   "source": [
    "from __future__ import absolute_import\n",
    "from __future__ import division\n",
    "from __future__ import print_function"
   ]
  },
  {
   "cell_type": "code",
   "execution_count": 13,
   "metadata": {
    "collapsed": true
   },
   "outputs": [],
   "source": [
    "DATASET_DIR = '/data/lego/dataset/'"
   ]
  },
  {
   "cell_type": "markdown",
   "metadata": {},
   "source": [
    "## Rename jpg and xml to have matching names"
   ]
  },
  {
   "cell_type": "code",
   "execution_count": null,
   "metadata": {
    "collapsed": true
   },
   "outputs": [],
   "source": [
    "import os\n",
    "import glob"
   ]
  },
  {
   "cell_type": "code",
   "execution_count": null,
   "metadata": {
    "collapsed": true
   },
   "outputs": [],
   "source": [
    "jpg_files = glob.glob(os.path.join(DATASET_DIR, 'JPEGImages/*.jpg'))"
   ]
  },
  {
   "cell_type": "code",
   "execution_count": null,
   "metadata": {
    "collapsed": true
   },
   "outputs": [],
   "source": [
    "examples = []\n",
    "for i, jpg_path in enumerate(jpg_files):\n",
    "    i += 1\n",
    "    example_id = '{0:08d}'.format(i) # eg '00000020'\n",
    "    \n",
    "    # derive xml path from jpg path\n",
    "    xml_path = jpg_path.replace('JPEGImages/bbox-image', 'Annotations/bbox-annotation')\n",
    "    xml_path = xml_path.replace('jpg', 'xml')\n",
    "    \n",
    "    os.rename(jpg_path, '{}/JPEGImages/{}.jpg'.format(DATASET_DIR, example_id))\n",
    "    os.rename(xml_path, '{}/Annotations/{}.xml'.format(DATASET_DIR, example_id))\n",
    "    \n",
    "    examples.append(example_id)"
   ]
  },
  {
   "cell_type": "markdown",
   "metadata": {},
   "source": [
    "## Save example ids"
   ]
  },
  {
   "cell_type": "code",
   "execution_count": null,
   "metadata": {
    "collapsed": true
   },
   "outputs": [],
   "source": [
    "with open(os.path.join(DATASET_DIR, 'examples.txt'), 'wt') as f:\n",
    "    f.writelines('\\n'.join(examples))"
   ]
  },
  {
   "cell_type": "markdown",
   "metadata": {},
   "source": [
    "## Read unique label names"
   ]
  },
  {
   "cell_type": "code",
   "execution_count": 16,
   "metadata": {
    "collapsed": true
   },
   "outputs": [],
   "source": [
    "import os\n",
    "import glob\n",
    "import xml.etree.ElementTree as ET"
   ]
  },
  {
   "cell_type": "code",
   "execution_count": 17,
   "metadata": {},
   "outputs": [],
   "source": [
    "xml_files = glob.glob(os.path.join(DATASET_DIR, 'Annotations/*.xml'))\n",
    "names = set()\n",
    "for f in xml_files:\n",
    "    root = ET.parse(f).getroot()\n",
    "    # get 'name' for each object\n",
    "    for obj in root.iter('object'):\n",
    "        names.add(obj.find('name').text)"
   ]
  },
  {
   "cell_type": "code",
   "execution_count": 18,
   "metadata": {},
   "outputs": [
    {
     "name": "stdout",
     "output_type": "stream",
     "text": [
      "number of classes: 45\n"
     ]
    }
   ],
   "source": [
    "print('number of classes:', len(names))"
   ]
  },
  {
   "cell_type": "markdown",
   "metadata": {},
   "source": [
    "## Save label map protobuf"
   ]
  },
  {
   "cell_type": "code",
   "execution_count": 19,
   "metadata": {
    "collapsed": true
   },
   "outputs": [],
   "source": [
    "from object_detection.protos import string_int_label_map_pb2"
   ]
  },
  {
   "cell_type": "code",
   "execution_count": 42,
   "metadata": {},
   "outputs": [],
   "source": [
    "label_map = string_int_label_map_pb2.StringIntLabelMap()\n",
    "for name_id, name in enumerate(names):\n",
    "    item = label_map.item.add()\n",
    "    item.id = name_id\n",
    "    item.name = name\n"
   ]
  },
  {
   "cell_type": "code",
   "execution_count": 44,
   "metadata": {},
   "outputs": [],
   "source": [
    "with open(os.path.join(DATASET_DIR, 'label_map.pbtxt'), 'wt') as f:\n",
    "    f.write(str(label_map))"
   ]
  }
 ],
 "metadata": {
  "kernelspec": {
   "display_name": "Python 2",
   "language": "python",
   "name": "python2"
  },
  "language_info": {
   "codemirror_mode": {
    "name": "ipython",
    "version": 2
   },
   "file_extension": ".py",
   "mimetype": "text/x-python",
   "name": "python",
   "nbconvert_exporter": "python",
   "pygments_lexer": "ipython2",
   "version": "2.7.12"
  }
 },
 "nbformat": 4,
 "nbformat_minor": 2
}
