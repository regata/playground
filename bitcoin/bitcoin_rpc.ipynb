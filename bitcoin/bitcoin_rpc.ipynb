{
 "cells": [
  {
   "cell_type": "code",
   "execution_count": 138,
   "metadata": {},
   "outputs": [],
   "source": [
    "import json\n",
    "from bitcoinrpc.authproxy import AuthServiceProxy, JSONRPCException"
   ]
  },
  {
   "cell_type": "markdown",
   "metadata": {},
   "source": [
    "run bitcoind\n",
    "\n",
    "```bash\n",
    "docker run --rm -it -p 8332:8332 --name=bitcoin ruimarinho/bitcoin-core   -printtoconsole   -regtest=1   -rpcallowip=0.0.0.0/0 -rpcport=8332 -rpcpassword=bar -rpcuser=foo\n",
    "```"
   ]
  },
  {
   "cell_type": "code",
   "execution_count": 139,
   "metadata": {},
   "outputs": [],
   "source": [
    "rpc_user = 'foo'\n",
    "rpc_password = 'bar'\n",
    "url = \"http://%s:%s@0.0.0.0:8332\" % (rpc_user, rpc_password)"
   ]
  },
  {
   "cell_type": "code",
   "execution_count": 144,
   "metadata": {},
   "outputs": [],
   "source": [
    "class Service(object):\n",
    "    \"\"\"Simple proxy class to AuthServiceProxy to deal with timeouts\"\"\"\n",
    "    def __init__(self, url):\n",
    "        self._url = url\n",
    "    \n",
    "    def __getattr__(self, name):\n",
    "        if name.startswith('_'):\n",
    "            return getattr(self, name)\n",
    "        rpc = AuthServiceProxy(self._url, timeout=10000000)\n",
    "        return getattr(rpc, name)"
   ]
  },
  {
   "cell_type": "code",
   "execution_count": 145,
   "metadata": {},
   "outputs": [],
   "source": [
    "service = Service(url)"
   ]
  },
  {
   "cell_type": "code",
   "execution_count": 148,
   "metadata": {},
   "outputs": [
    {
     "data": {
      "text/plain": [
       "{'balance': Decimal('0E-8'),\n",
       " 'blocks': 0,\n",
       " 'connections': 0,\n",
       " 'deprecation-warning': 'WARNING: getinfo is deprecated and will be fully removed in 0.16. Projects should transition to using getblockchaininfo, getnetworkinfo, and getwalletinfo before upgrading to 0.16',\n",
       " 'difficulty': Decimal('4.656542373906925E-10'),\n",
       " 'errors': '',\n",
       " 'keypoololdest': 1509110883,\n",
       " 'keypoolsize': 2000,\n",
       " 'paytxfee': Decimal('0E-8'),\n",
       " 'protocolversion': 70015,\n",
       " 'proxy': '',\n",
       " 'relayfee': Decimal('0.00001000'),\n",
       " 'testnet': False,\n",
       " 'timeoffset': 0,\n",
       " 'version': 150001,\n",
       " 'walletversion': 139900}"
      ]
     },
     "execution_count": 148,
     "metadata": {},
     "output_type": "execute_result"
    }
   ],
   "source": [
    "service.getinfo()"
   ]
  },
  {
   "cell_type": "code",
   "execution_count": 5,
   "metadata": {},
   "outputs": [
    {
     "data": {
      "text/plain": [
       "'mvN6LSoHnRT1U233AkX4QdxoUXeqAJoRXy'"
      ]
     },
     "execution_count": 5,
     "metadata": {},
     "output_type": "execute_result"
    }
   ],
   "source": [
    "addr = service.getnewaddress()\n",
    "addr"
   ]
  },
  {
   "cell_type": "code",
   "execution_count": 6,
   "metadata": {},
   "outputs": [],
   "source": [
    "n_blocks = 101\n",
    "blocks = service.generatetoaddress(n_blocks, addr)"
   ]
  },
  {
   "cell_type": "code",
   "execution_count": 7,
   "metadata": {},
   "outputs": [],
   "source": [
    "txs = service.listtransactions('*', 1000)"
   ]
  },
  {
   "cell_type": "code",
   "execution_count": 8,
   "metadata": {},
   "outputs": [
    {
     "data": {
      "text/plain": [
       "101"
      ]
     },
     "execution_count": 8,
     "metadata": {},
     "output_type": "execute_result"
    }
   ],
   "source": [
    "len(txs)"
   ]
  },
  {
   "cell_type": "code",
   "execution_count": 9,
   "metadata": {},
   "outputs": [
    {
     "data": {
      "text/plain": [
       "{'bits': '207fffff',\n",
       " 'chainwork': '0000000000000000000000000000000000000000000000000000000000000004',\n",
       " 'confirmations': 101,\n",
       " 'difficulty': Decimal('4.656542373906925E-10'),\n",
       " 'hash': '2e3fcc1ed90141e4954be7e94579842e353289d20efe88c37c792050972dc252',\n",
       " 'height': 1,\n",
       " 'mediantime': 1508612187,\n",
       " 'merkleroot': '1df308213f2f509077ebb70afaa261293f2c6529efd16900c652782f75374a2e',\n",
       " 'nextblockhash': '2b1abd5b18dfbfd73bc3a13a497b758817f7511175e88437af66d80d95477b12',\n",
       " 'nonce': 3,\n",
       " 'previousblockhash': '0f9188f13cb7b2c71f2a335e3a4fc328bf5beb436012afca590b1a11466e2206',\n",
       " 'size': 216,\n",
       " 'strippedsize': 216,\n",
       " 'time': 1508612187,\n",
       " 'tx': ['1df308213f2f509077ebb70afaa261293f2c6529efd16900c652782f75374a2e'],\n",
       " 'version': 536870912,\n",
       " 'versionHex': '20000000',\n",
       " 'weight': 864}"
      ]
     },
     "execution_count": 9,
     "metadata": {},
     "output_type": "execute_result"
    }
   ],
   "source": [
    "service.getblock(service.getblockhash(1))"
   ]
  },
  {
   "cell_type": "code",
   "execution_count": 10,
   "metadata": {},
   "outputs": [
    {
     "data": {
      "text/plain": [
       "Decimal('50.00000000')"
      ]
     },
     "execution_count": 10,
     "metadata": {},
     "output_type": "execute_result"
    }
   ],
   "source": [
    "service.getbalance()"
   ]
  },
  {
   "cell_type": "code",
   "execution_count": 11,
   "metadata": {},
   "outputs": [
    {
     "data": {
      "text/plain": [
       "[{'account': '',\n",
       "  'address': 'mvN6LSoHnRT1U233AkX4QdxoUXeqAJoRXy',\n",
       "  'amount': Decimal('50.00000000'),\n",
       "  'confirmations': 101,\n",
       "  'safe': True,\n",
       "  'scriptPubKey': '76a914a2dcdb079d2b4f7aff7e6234cedb19df80c79d9788ac',\n",
       "  'solvable': True,\n",
       "  'spendable': True,\n",
       "  'txid': '1df308213f2f509077ebb70afaa261293f2c6529efd16900c652782f75374a2e',\n",
       "  'vout': 0}]"
      ]
     },
     "execution_count": 11,
     "metadata": {},
     "output_type": "execute_result"
    }
   ],
   "source": [
    "utxos = service.listunspent()\n",
    "utxos"
   ]
  },
  {
   "cell_type": "code",
   "execution_count": 12,
   "metadata": {},
   "outputs": [
    {
     "data": {
      "text/plain": [
       "'mtiZxmigFzGrbZeQfW7DZ233CA2hYPGKzB'"
      ]
     },
     "execution_count": 12,
     "metadata": {},
     "output_type": "execute_result"
    }
   ],
   "source": [
    "addr2 = service.getnewaddress()\n",
    "addr2"
   ]
  },
  {
   "cell_type": "code",
   "execution_count": 13,
   "metadata": {},
   "outputs": [],
   "source": [
    "tx = service.sendtoaddress(addr2, 10)"
   ]
  },
  {
   "cell_type": "code",
   "execution_count": 14,
   "metadata": {},
   "outputs": [
    {
     "data": {
      "text/plain": [
       "'67b8527c3931e069f2b528c7663a3210aa0ff42ba90e98146c2f4d95efb18a94'"
      ]
     },
     "execution_count": 14,
     "metadata": {},
     "output_type": "execute_result"
    }
   ],
   "source": [
    "tx"
   ]
  },
  {
   "cell_type": "code",
   "execution_count": 15,
   "metadata": {},
   "outputs": [
    {
     "data": {
      "text/plain": [
       "{'amount': Decimal('0E-8'),\n",
       " 'bip125-replaceable': 'no',\n",
       " 'confirmations': 0,\n",
       " 'details': [{'abandoned': False,\n",
       "   'account': '',\n",
       "   'address': 'mtiZxmigFzGrbZeQfW7DZ233CA2hYPGKzB',\n",
       "   'amount': Decimal('-10.00000000'),\n",
       "   'category': 'send',\n",
       "   'fee': Decimal('-0.00004520'),\n",
       "   'label': '',\n",
       "   'vout': 1},\n",
       "  {'account': '',\n",
       "   'address': 'mtiZxmigFzGrbZeQfW7DZ233CA2hYPGKzB',\n",
       "   'amount': Decimal('10.00000000'),\n",
       "   'category': 'receive',\n",
       "   'label': '',\n",
       "   'vout': 1}],\n",
       " 'fee': Decimal('-0.00004520'),\n",
       " 'hex': '02000000012e4a37752f7852c60069d1ef29652c3f2961a2fa0ab7eb7790502f3f2108f31d000000006b483045022100ba00283054405a4f37ef8f0f08c57699e5c987404e83cb082b48f055d25a1e39022070f0a52c63c5c0cac2306baee8c0c2ad65ad21a040d79c182a6f48ab5e6ba03e012102e0a31ff4fc32919c96b2cd16d3d7f8e0fc4c43965ef19968e9c5048b93ac8a0cfeffffff0258166bee000000001976a9148c2f3df32a942bd8477973471cb3f2850485e52a88ac00ca9a3b000000001976a91490cbfc0abba7505727702744e5a9f0304a9da22788ac65000000',\n",
       " 'time': 1508612244,\n",
       " 'timereceived': 1508612244,\n",
       " 'trusted': True,\n",
       " 'txid': '67b8527c3931e069f2b528c7663a3210aa0ff42ba90e98146c2f4d95efb18a94',\n",
       " 'walletconflicts': []}"
      ]
     },
     "execution_count": 15,
     "metadata": {},
     "output_type": "execute_result"
    }
   ],
   "source": [
    "tx_obj = service.gettransaction(tx)\n",
    "tx_obj"
   ]
  },
  {
   "cell_type": "code",
   "execution_count": 16,
   "metadata": {},
   "outputs": [
    {
     "data": {
      "text/plain": [
       "{'hash': '67b8527c3931e069f2b528c7663a3210aa0ff42ba90e98146c2f4d95efb18a94',\n",
       " 'locktime': 101,\n",
       " 'size': 226,\n",
       " 'txid': '67b8527c3931e069f2b528c7663a3210aa0ff42ba90e98146c2f4d95efb18a94',\n",
       " 'version': 2,\n",
       " 'vin': [{'scriptSig': {'asm': '3045022100ba00283054405a4f37ef8f0f08c57699e5c987404e83cb082b48f055d25a1e39022070f0a52c63c5c0cac2306baee8c0c2ad65ad21a040d79c182a6f48ab5e6ba03e[ALL] 02e0a31ff4fc32919c96b2cd16d3d7f8e0fc4c43965ef19968e9c5048b93ac8a0c',\n",
       "    'hex': '483045022100ba00283054405a4f37ef8f0f08c57699e5c987404e83cb082b48f055d25a1e39022070f0a52c63c5c0cac2306baee8c0c2ad65ad21a040d79c182a6f48ab5e6ba03e012102e0a31ff4fc32919c96b2cd16d3d7f8e0fc4c43965ef19968e9c5048b93ac8a0c'},\n",
       "   'sequence': 4294967294,\n",
       "   'txid': '1df308213f2f509077ebb70afaa261293f2c6529efd16900c652782f75374a2e',\n",
       "   'vout': 0}],\n",
       " 'vout': [{'n': 0,\n",
       "   'scriptPubKey': {'addresses': ['mtJBVLkk6YbuP5fnFURSuLvnZD6EHQ5ac5'],\n",
       "    'asm': 'OP_DUP OP_HASH160 8c2f3df32a942bd8477973471cb3f2850485e52a OP_EQUALVERIFY OP_CHECKSIG',\n",
       "    'hex': '76a9148c2f3df32a942bd8477973471cb3f2850485e52a88ac',\n",
       "    'reqSigs': 1,\n",
       "    'type': 'pubkeyhash'},\n",
       "   'value': Decimal('39.99995480')},\n",
       "  {'n': 1,\n",
       "   'scriptPubKey': {'addresses': ['mtiZxmigFzGrbZeQfW7DZ233CA2hYPGKzB'],\n",
       "    'asm': 'OP_DUP OP_HASH160 90cbfc0abba7505727702744e5a9f0304a9da227 OP_EQUALVERIFY OP_CHECKSIG',\n",
       "    'hex': '76a91490cbfc0abba7505727702744e5a9f0304a9da22788ac',\n",
       "    'reqSigs': 1,\n",
       "    'type': 'pubkeyhash'},\n",
       "   'value': Decimal('10.00000000')}],\n",
       " 'vsize': 226}"
      ]
     },
     "execution_count": 16,
     "metadata": {},
     "output_type": "execute_result"
    }
   ],
   "source": [
    "service.decoderawtransaction(tx_obj['hex'])"
   ]
  },
  {
   "cell_type": "code",
   "execution_count": 17,
   "metadata": {},
   "outputs": [
    {
     "data": {
      "text/plain": [
       "[{'address': 'mtJBVLkk6YbuP5fnFURSuLvnZD6EHQ5ac5',\n",
       "  'amount': Decimal('39.99995480'),\n",
       "  'confirmations': 0,\n",
       "  'safe': True,\n",
       "  'scriptPubKey': '76a9148c2f3df32a942bd8477973471cb3f2850485e52a88ac',\n",
       "  'solvable': True,\n",
       "  'spendable': True,\n",
       "  'txid': '67b8527c3931e069f2b528c7663a3210aa0ff42ba90e98146c2f4d95efb18a94',\n",
       "  'vout': 0},\n",
       " {'account': '',\n",
       "  'address': 'mtiZxmigFzGrbZeQfW7DZ233CA2hYPGKzB',\n",
       "  'amount': Decimal('10.00000000'),\n",
       "  'confirmations': 0,\n",
       "  'safe': True,\n",
       "  'scriptPubKey': '76a91490cbfc0abba7505727702744e5a9f0304a9da22788ac',\n",
       "  'solvable': True,\n",
       "  'spendable': True,\n",
       "  'txid': '67b8527c3931e069f2b528c7663a3210aa0ff42ba90e98146c2f4d95efb18a94',\n",
       "  'vout': 1}]"
      ]
     },
     "execution_count": 17,
     "metadata": {},
     "output_type": "execute_result"
    }
   ],
   "source": [
    "service.listunspent(0)"
   ]
  },
  {
   "cell_type": "code",
   "execution_count": 18,
   "metadata": {},
   "outputs": [
    {
     "data": {
      "text/plain": [
       "['41b426d3ed47427125ae8d5494c87dc037c188a4b759c1693b80d7316d36bc82']"
      ]
     },
     "execution_count": 18,
     "metadata": {},
     "output_type": "execute_result"
    }
   ],
   "source": [
    "service.generate(1)"
   ]
  },
  {
   "cell_type": "markdown",
   "metadata": {},
   "source": [
    "## Simple Raw Transaction"
   ]
  },
  {
   "cell_type": "code",
   "execution_count": 19,
   "metadata": {
    "scrolled": false
   },
   "outputs": [
    {
     "data": {
      "text/plain": [
       "[{'account': '',\n",
       "  'address': 'mvN6LSoHnRT1U233AkX4QdxoUXeqAJoRXy',\n",
       "  'amount': Decimal('50.00000000'),\n",
       "  'confirmations': 101,\n",
       "  'safe': True,\n",
       "  'scriptPubKey': '76a914a2dcdb079d2b4f7aff7e6234cedb19df80c79d9788ac',\n",
       "  'solvable': True,\n",
       "  'spendable': True,\n",
       "  'txid': '86631a6ed4282cf2b51b0e74116e7e86ae4700b28ce54c07b14cb81a40218073',\n",
       "  'vout': 0},\n",
       " {'address': 'mtJBVLkk6YbuP5fnFURSuLvnZD6EHQ5ac5',\n",
       "  'amount': Decimal('39.99995480'),\n",
       "  'confirmations': 1,\n",
       "  'safe': True,\n",
       "  'scriptPubKey': '76a9148c2f3df32a942bd8477973471cb3f2850485e52a88ac',\n",
       "  'solvable': True,\n",
       "  'spendable': True,\n",
       "  'txid': '67b8527c3931e069f2b528c7663a3210aa0ff42ba90e98146c2f4d95efb18a94',\n",
       "  'vout': 0},\n",
       " {'account': '',\n",
       "  'address': 'mtiZxmigFzGrbZeQfW7DZ233CA2hYPGKzB',\n",
       "  'amount': Decimal('10.00000000'),\n",
       "  'confirmations': 1,\n",
       "  'safe': True,\n",
       "  'scriptPubKey': '76a91490cbfc0abba7505727702744e5a9f0304a9da22788ac',\n",
       "  'solvable': True,\n",
       "  'spendable': True,\n",
       "  'txid': '67b8527c3931e069f2b528c7663a3210aa0ff42ba90e98146c2f4d95efb18a94',\n",
       "  'vout': 1}]"
      ]
     },
     "execution_count": 19,
     "metadata": {},
     "output_type": "execute_result"
    }
   ],
   "source": [
    "utxos = service.listunspent()\n",
    "utxos"
   ]
  },
  {
   "cell_type": "code",
   "execution_count": 20,
   "metadata": {},
   "outputs": [
    {
     "data": {
      "text/plain": [
       "[{'txid': '86631a6ed4282cf2b51b0e74116e7e86ae4700b28ce54c07b14cb81a40218073',\n",
       "  'vout': 0}]"
      ]
     },
     "execution_count": 20,
     "metadata": {},
     "output_type": "execute_result"
    }
   ],
   "source": [
    "inputs = [\n",
    "    {\n",
    "        'txid': utxos[0]['txid'],\n",
    "        'vout': 0\n",
    "    }\n",
    "]\n",
    "inputs"
   ]
  },
  {
   "cell_type": "code",
   "execution_count": 21,
   "metadata": {},
   "outputs": [
    {
     "data": {
      "text/plain": [
       "{'mtiZxmigFzGrbZeQfW7DZ233CA2hYPGKzB': 49.999}"
      ]
     },
     "execution_count": 21,
     "metadata": {},
     "output_type": "execute_result"
    }
   ],
   "source": [
    "outputs = {\n",
    "    addr2: 49.999\n",
    "}\n",
    "outputs"
   ]
  },
  {
   "cell_type": "code",
   "execution_count": 22,
   "metadata": {},
   "outputs": [
    {
     "data": {
      "text/plain": [
       "'0200000001738021401ab84cb1074ce58cb20047ae867e6e11740e1bb5f22c28d46e1a63860000000000ffffffff01606b042a010000001976a91490cbfc0abba7505727702744e5a9f0304a9da22788ac00000000'"
      ]
     },
     "execution_count": 22,
     "metadata": {},
     "output_type": "execute_result"
    }
   ],
   "source": [
    "raw_tx = service.createrawtransaction(inputs, outputs)\n",
    "raw_tx"
   ]
  },
  {
   "cell_type": "code",
   "execution_count": 23,
   "metadata": {},
   "outputs": [
    {
     "data": {
      "text/plain": [
       "{'hash': 'a90eda90ab1433c3d01ccd1cf173553b93dbd0039306bec1b39fefee393e4d3d',\n",
       " 'locktime': 0,\n",
       " 'size': 85,\n",
       " 'txid': 'a90eda90ab1433c3d01ccd1cf173553b93dbd0039306bec1b39fefee393e4d3d',\n",
       " 'version': 2,\n",
       " 'vin': [{'scriptSig': {'asm': '', 'hex': ''},\n",
       "   'sequence': 4294967295,\n",
       "   'txid': '86631a6ed4282cf2b51b0e74116e7e86ae4700b28ce54c07b14cb81a40218073',\n",
       "   'vout': 0}],\n",
       " 'vout': [{'n': 0,\n",
       "   'scriptPubKey': {'addresses': ['mtiZxmigFzGrbZeQfW7DZ233CA2hYPGKzB'],\n",
       "    'asm': 'OP_DUP OP_HASH160 90cbfc0abba7505727702744e5a9f0304a9da227 OP_EQUALVERIFY OP_CHECKSIG',\n",
       "    'hex': '76a91490cbfc0abba7505727702744e5a9f0304a9da22788ac',\n",
       "    'reqSigs': 1,\n",
       "    'type': 'pubkeyhash'},\n",
       "   'value': Decimal('49.99900000')}],\n",
       " 'vsize': 85}"
      ]
     },
     "execution_count": 23,
     "metadata": {},
     "output_type": "execute_result"
    }
   ],
   "source": [
    "service.decoderawtransaction(raw_tx)"
   ]
  },
  {
   "cell_type": "code",
   "execution_count": 24,
   "metadata": {},
   "outputs": [
    {
     "data": {
      "text/plain": [
       "{'complete': True,\n",
       " 'hex': '0200000001738021401ab84cb1074ce58cb20047ae867e6e11740e1bb5f22c28d46e1a6386000000006b483045022100c39312263b00e8698e2ecb8acf347d5b441c9ba7db5646c0ffec560928f4edbd022037bf248bff04b34174a9a31323e93c1e4786b951300b17b9060ed175149bc965012102e0a31ff4fc32919c96b2cd16d3d7f8e0fc4c43965ef19968e9c5048b93ac8a0cffffffff01606b042a010000001976a91490cbfc0abba7505727702744e5a9f0304a9da22788ac00000000'}"
      ]
     },
     "execution_count": 24,
     "metadata": {},
     "output_type": "execute_result"
    }
   ],
   "source": [
    "signed_resp = service.signrawtransaction(raw_tx)\n",
    "signed_resp"
   ]
  },
  {
   "cell_type": "code",
   "execution_count": 25,
   "metadata": {},
   "outputs": [],
   "source": [
    "signed_raw_tx = signed_resp['hex']"
   ]
  },
  {
   "cell_type": "code",
   "execution_count": 26,
   "metadata": {},
   "outputs": [
    {
     "data": {
      "text/plain": [
       "{'hash': '02290c065fa0093bce801d17f3bb7878bfa715dda56b5b9e524fb3ac12ec9a07',\n",
       " 'locktime': 0,\n",
       " 'size': 192,\n",
       " 'txid': '02290c065fa0093bce801d17f3bb7878bfa715dda56b5b9e524fb3ac12ec9a07',\n",
       " 'version': 2,\n",
       " 'vin': [{'scriptSig': {'asm': '3045022100c39312263b00e8698e2ecb8acf347d5b441c9ba7db5646c0ffec560928f4edbd022037bf248bff04b34174a9a31323e93c1e4786b951300b17b9060ed175149bc965[ALL] 02e0a31ff4fc32919c96b2cd16d3d7f8e0fc4c43965ef19968e9c5048b93ac8a0c',\n",
       "    'hex': '483045022100c39312263b00e8698e2ecb8acf347d5b441c9ba7db5646c0ffec560928f4edbd022037bf248bff04b34174a9a31323e93c1e4786b951300b17b9060ed175149bc965012102e0a31ff4fc32919c96b2cd16d3d7f8e0fc4c43965ef19968e9c5048b93ac8a0c'},\n",
       "   'sequence': 4294967295,\n",
       "   'txid': '86631a6ed4282cf2b51b0e74116e7e86ae4700b28ce54c07b14cb81a40218073',\n",
       "   'vout': 0}],\n",
       " 'vout': [{'n': 0,\n",
       "   'scriptPubKey': {'addresses': ['mtiZxmigFzGrbZeQfW7DZ233CA2hYPGKzB'],\n",
       "    'asm': 'OP_DUP OP_HASH160 90cbfc0abba7505727702744e5a9f0304a9da227 OP_EQUALVERIFY OP_CHECKSIG',\n",
       "    'hex': '76a91490cbfc0abba7505727702744e5a9f0304a9da22788ac',\n",
       "    'reqSigs': 1,\n",
       "    'type': 'pubkeyhash'},\n",
       "   'value': Decimal('49.99900000')}],\n",
       " 'vsize': 192}"
      ]
     },
     "execution_count": 26,
     "metadata": {},
     "output_type": "execute_result"
    }
   ],
   "source": [
    "service.decoderawtransaction(signed_raw_tx)"
   ]
  },
  {
   "cell_type": "code",
   "execution_count": 27,
   "metadata": {},
   "outputs": [
    {
     "data": {
      "text/plain": [
       "'02290c065fa0093bce801d17f3bb7878bfa715dda56b5b9e524fb3ac12ec9a07'"
      ]
     },
     "execution_count": 27,
     "metadata": {},
     "output_type": "execute_result"
    }
   ],
   "source": [
    "service.sendrawtransaction(signed_raw_tx)"
   ]
  },
  {
   "cell_type": "code",
   "execution_count": 28,
   "metadata": {},
   "outputs": [
    {
     "data": {
      "text/plain": [
       "['4592e769c739311202e6e2284da8afe651008db64d24b98efbec3a44923a59fe']"
      ]
     },
     "execution_count": 28,
     "metadata": {},
     "output_type": "execute_result"
    }
   ],
   "source": [
    "service.generate(1)"
   ]
  },
  {
   "cell_type": "markdown",
   "metadata": {},
   "source": [
    "## Complex Raw Transaction"
   ]
  },
  {
   "cell_type": "code",
   "execution_count": 29,
   "metadata": {},
   "outputs": [
    {
     "data": {
      "text/plain": [
       "[{'account': '',\n",
       "  'address': 'mtiZxmigFzGrbZeQfW7DZ233CA2hYPGKzB',\n",
       "  'amount': Decimal('49.99900000'),\n",
       "  'confirmations': 1,\n",
       "  'safe': True,\n",
       "  'scriptPubKey': '76a91490cbfc0abba7505727702744e5a9f0304a9da22788ac',\n",
       "  'solvable': True,\n",
       "  'spendable': True,\n",
       "  'txid': '02290c065fa0093bce801d17f3bb7878bfa715dda56b5b9e524fb3ac12ec9a07',\n",
       "  'vout': 0},\n",
       " {'address': 'mtJBVLkk6YbuP5fnFURSuLvnZD6EHQ5ac5',\n",
       "  'amount': Decimal('39.99995480'),\n",
       "  'confirmations': 2,\n",
       "  'safe': True,\n",
       "  'scriptPubKey': '76a9148c2f3df32a942bd8477973471cb3f2850485e52a88ac',\n",
       "  'solvable': True,\n",
       "  'spendable': True,\n",
       "  'txid': '67b8527c3931e069f2b528c7663a3210aa0ff42ba90e98146c2f4d95efb18a94',\n",
       "  'vout': 0},\n",
       " {'account': '',\n",
       "  'address': 'mtiZxmigFzGrbZeQfW7DZ233CA2hYPGKzB',\n",
       "  'amount': Decimal('10.00000000'),\n",
       "  'confirmations': 2,\n",
       "  'safe': True,\n",
       "  'scriptPubKey': '76a91490cbfc0abba7505727702744e5a9f0304a9da22788ac',\n",
       "  'solvable': True,\n",
       "  'spendable': True,\n",
       "  'txid': '67b8527c3931e069f2b528c7663a3210aa0ff42ba90e98146c2f4d95efb18a94',\n",
       "  'vout': 1},\n",
       " {'account': '',\n",
       "  'address': 'mvN6LSoHnRT1U233AkX4QdxoUXeqAJoRXy',\n",
       "  'amount': Decimal('50.00000000'),\n",
       "  'confirmations': 101,\n",
       "  'safe': True,\n",
       "  'scriptPubKey': '76a914a2dcdb079d2b4f7aff7e6234cedb19df80c79d9788ac',\n",
       "  'solvable': True,\n",
       "  'spendable': True,\n",
       "  'txid': 'f651d0b008ca45a91a85aea54a8faed89e007670d4de0a259e4000b3da5e22a0',\n",
       "  'vout': 0}]"
      ]
     },
     "execution_count": 29,
     "metadata": {},
     "output_type": "execute_result"
    }
   ],
   "source": [
    "utxos = service.listunspent()\n",
    "utxos"
   ]
  },
  {
   "cell_type": "code",
   "execution_count": 30,
   "metadata": {},
   "outputs": [],
   "source": [
    "utxo0 = utxos[0]\n",
    "utxo1 = utxos[-1]"
   ]
  },
  {
   "cell_type": "code",
   "execution_count": 31,
   "metadata": {},
   "outputs": [
    {
     "data": {
      "text/plain": [
       "'cRtt51Bc3MPbuPX2zuaJmKkK3rXi67YMKadKvUgwP2wNysGdattZ'"
      ]
     },
     "execution_count": 31,
     "metadata": {},
     "output_type": "execute_result"
    }
   ],
   "source": [
    "secret0 = service.dumpprivkey(utxo0['address'])\n",
    "secret0"
   ]
  },
  {
   "cell_type": "code",
   "execution_count": 32,
   "metadata": {},
   "outputs": [
    {
     "data": {
      "text/plain": [
       "'cPU2Xp1DSXcpU6w1zDfSASHTJhVvovHf4GU7Fn5p2FuQVgsJs8a3'"
      ]
     },
     "execution_count": 32,
     "metadata": {},
     "output_type": "execute_result"
    }
   ],
   "source": [
    "secret1 = service.dumpprivkey(utxo1['address'])\n",
    "secret1"
   ]
  },
  {
   "cell_type": "code",
   "execution_count": 33,
   "metadata": {},
   "outputs": [
    {
     "data": {
      "text/plain": [
       "('miui9FSgjza5S2EsrjwgUX79CkdsJiBrbv', 'mxs3Bqcj2B3TScGoPM6C3mFW719YNpCrWV')"
      ]
     },
     "execution_count": 33,
     "metadata": {},
     "output_type": "execute_result"
    }
   ],
   "source": [
    "addr0 = service.getnewaddress()\n",
    "addr1 = service.getnewaddress()\n",
    "addr0, addr1"
   ]
  },
  {
   "cell_type": "code",
   "execution_count": 34,
   "metadata": {},
   "outputs": [
    {
     "data": {
      "text/plain": [
       "[{'txid': '02290c065fa0093bce801d17f3bb7878bfa715dda56b5b9e524fb3ac12ec9a07',\n",
       "  'vout': 0},\n",
       " {'txid': 'f651d0b008ca45a91a85aea54a8faed89e007670d4de0a259e4000b3da5e22a0',\n",
       "  'vout': 0}]"
      ]
     },
     "execution_count": 34,
     "metadata": {},
     "output_type": "execute_result"
    }
   ],
   "source": [
    "inputs = [\n",
    "    {\n",
    "        'txid': utxo0['txid'],\n",
    "        'vout': 0\n",
    "    },\n",
    "    {\n",
    "        'txid': utxo1['txid'],\n",
    "        'vout': 0\n",
    "    }\n",
    "]\n",
    "\n",
    "inputs"
   ]
  },
  {
   "cell_type": "code",
   "execution_count": 35,
   "metadata": {},
   "outputs": [],
   "source": [
    "outputs = {\n",
    "    addr0: 49.990,\n",
    "    addr1: 49.99\n",
    "}"
   ]
  },
  {
   "cell_type": "code",
   "execution_count": 36,
   "metadata": {},
   "outputs": [],
   "source": [
    "raw_tx = service.createrawtransaction(inputs, outputs)"
   ]
  },
  {
   "cell_type": "code",
   "execution_count": 37,
   "metadata": {},
   "outputs": [],
   "source": [
    "resp = service.signrawtransaction(raw_tx, [], [secret0])"
   ]
  },
  {
   "cell_type": "code",
   "execution_count": 38,
   "metadata": {},
   "outputs": [
    {
     "data": {
      "text/plain": [
       "{'complete': False,\n",
       " 'errors': [{'error': 'Operation not valid with the current stack size',\n",
       "   'scriptSig': '',\n",
       "   'sequence': 4294967295,\n",
       "   'txid': 'f651d0b008ca45a91a85aea54a8faed89e007670d4de0a259e4000b3da5e22a0',\n",
       "   'vout': 0,\n",
       "   'witness': []}],\n",
       " 'hex': '0200000002079aec12acb34f529e5b6ba5dd15a7bf7878bbf3171d80ce3b09a05f060c2902000000006b483045022100b3124f8984ac7ea4ca13433ee64104c65abc71ab924150f92a6fd5363856b6fe022069624864edd135392bd09484f2442c082a353d09e77dbe8037c721d613e25418012103141a16306b0574182937c6517d5ab5b9341285a64646451cb097c618a0fdaeadffffffffa0225edab300409e250aded47076009ed8ae8f4aa5ae851aa945ca08b0d051f60000000000ffffffff02c0aff629010000001976a91425362192e6c0abe76c2500460bcb2956552fcf2688acc0aff629010000001976a914be468aba0985c13ffc27c8060a3304e79b49531788ac00000000'}"
      ]
     },
     "execution_count": 38,
     "metadata": {},
     "output_type": "execute_result"
    }
   ],
   "source": [
    "resp"
   ]
  },
  {
   "cell_type": "code",
   "execution_count": 39,
   "metadata": {},
   "outputs": [
    {
     "data": {
      "text/plain": [
       "{'hash': 'c5421b444ca0867419bff61a22516cef714a128aa9a6ec3898b69904ea2fe632',\n",
       " 'locktime': 0,\n",
       " 'size': 267,\n",
       " 'txid': 'c5421b444ca0867419bff61a22516cef714a128aa9a6ec3898b69904ea2fe632',\n",
       " 'version': 2,\n",
       " 'vin': [{'scriptSig': {'asm': '3045022100b3124f8984ac7ea4ca13433ee64104c65abc71ab924150f92a6fd5363856b6fe022069624864edd135392bd09484f2442c082a353d09e77dbe8037c721d613e25418[ALL] 03141a16306b0574182937c6517d5ab5b9341285a64646451cb097c618a0fdaead',\n",
       "    'hex': '483045022100b3124f8984ac7ea4ca13433ee64104c65abc71ab924150f92a6fd5363856b6fe022069624864edd135392bd09484f2442c082a353d09e77dbe8037c721d613e25418012103141a16306b0574182937c6517d5ab5b9341285a64646451cb097c618a0fdaead'},\n",
       "   'sequence': 4294967295,\n",
       "   'txid': '02290c065fa0093bce801d17f3bb7878bfa715dda56b5b9e524fb3ac12ec9a07',\n",
       "   'vout': 0},\n",
       "  {'scriptSig': {'asm': '', 'hex': ''},\n",
       "   'sequence': 4294967295,\n",
       "   'txid': 'f651d0b008ca45a91a85aea54a8faed89e007670d4de0a259e4000b3da5e22a0',\n",
       "   'vout': 0}],\n",
       " 'vout': [{'n': 0,\n",
       "   'scriptPubKey': {'addresses': ['miui9FSgjza5S2EsrjwgUX79CkdsJiBrbv'],\n",
       "    'asm': 'OP_DUP OP_HASH160 25362192e6c0abe76c2500460bcb2956552fcf26 OP_EQUALVERIFY OP_CHECKSIG',\n",
       "    'hex': '76a91425362192e6c0abe76c2500460bcb2956552fcf2688ac',\n",
       "    'reqSigs': 1,\n",
       "    'type': 'pubkeyhash'},\n",
       "   'value': Decimal('49.99000000')},\n",
       "  {'n': 1,\n",
       "   'scriptPubKey': {'addresses': ['mxs3Bqcj2B3TScGoPM6C3mFW719YNpCrWV'],\n",
       "    'asm': 'OP_DUP OP_HASH160 be468aba0985c13ffc27c8060a3304e79b495317 OP_EQUALVERIFY OP_CHECKSIG',\n",
       "    'hex': '76a914be468aba0985c13ffc27c8060a3304e79b49531788ac',\n",
       "    'reqSigs': 1,\n",
       "    'type': 'pubkeyhash'},\n",
       "   'value': Decimal('49.99000000')}],\n",
       " 'vsize': 267}"
      ]
     },
     "execution_count": 39,
     "metadata": {},
     "output_type": "execute_result"
    }
   ],
   "source": [
    "signed_raw_tx = resp['hex']\n",
    "service.decoderawtransaction(signed_raw_tx)"
   ]
  },
  {
   "cell_type": "code",
   "execution_count": 40,
   "metadata": {},
   "outputs": [
    {
     "data": {
      "text/plain": [
       "{'complete': True,\n",
       " 'hex': '0200000002079aec12acb34f529e5b6ba5dd15a7bf7878bbf3171d80ce3b09a05f060c2902000000006b483045022100b3124f8984ac7ea4ca13433ee64104c65abc71ab924150f92a6fd5363856b6fe022069624864edd135392bd09484f2442c082a353d09e77dbe8037c721d613e25418012103141a16306b0574182937c6517d5ab5b9341285a64646451cb097c618a0fdaeadffffffffa0225edab300409e250aded47076009ed8ae8f4aa5ae851aa945ca08b0d051f6000000006a47304402207b220f198c22b52b502a045d107d8e04225000aa1e492939ff37315ea531a4d3022073488a05831c1a083b403a12cacd2d9f965e06f5790706afe07e74fbe01860a7012102e0a31ff4fc32919c96b2cd16d3d7f8e0fc4c43965ef19968e9c5048b93ac8a0cffffffff02c0aff629010000001976a91425362192e6c0abe76c2500460bcb2956552fcf2688acc0aff629010000001976a914be468aba0985c13ffc27c8060a3304e79b49531788ac00000000'}"
      ]
     },
     "execution_count": 40,
     "metadata": {},
     "output_type": "execute_result"
    }
   ],
   "source": [
    "resp = service.signrawtransaction(signed_raw_tx, [], [secret1])\n",
    "resp"
   ]
  },
  {
   "cell_type": "code",
   "execution_count": 41,
   "metadata": {},
   "outputs": [],
   "source": [
    "signed_raw_tx = resp['hex']"
   ]
  },
  {
   "cell_type": "code",
   "execution_count": 42,
   "metadata": {},
   "outputs": [
    {
     "data": {
      "text/plain": [
       "{'hash': '9875022e730ea8fdf1b39d02ad5f7905596715f5693763b99fd3a244d64265bd',\n",
       " 'locktime': 0,\n",
       " 'size': 373,\n",
       " 'txid': '9875022e730ea8fdf1b39d02ad5f7905596715f5693763b99fd3a244d64265bd',\n",
       " 'version': 2,\n",
       " 'vin': [{'scriptSig': {'asm': '3045022100b3124f8984ac7ea4ca13433ee64104c65abc71ab924150f92a6fd5363856b6fe022069624864edd135392bd09484f2442c082a353d09e77dbe8037c721d613e25418[ALL] 03141a16306b0574182937c6517d5ab5b9341285a64646451cb097c618a0fdaead',\n",
       "    'hex': '483045022100b3124f8984ac7ea4ca13433ee64104c65abc71ab924150f92a6fd5363856b6fe022069624864edd135392bd09484f2442c082a353d09e77dbe8037c721d613e25418012103141a16306b0574182937c6517d5ab5b9341285a64646451cb097c618a0fdaead'},\n",
       "   'sequence': 4294967295,\n",
       "   'txid': '02290c065fa0093bce801d17f3bb7878bfa715dda56b5b9e524fb3ac12ec9a07',\n",
       "   'vout': 0},\n",
       "  {'scriptSig': {'asm': '304402207b220f198c22b52b502a045d107d8e04225000aa1e492939ff37315ea531a4d3022073488a05831c1a083b403a12cacd2d9f965e06f5790706afe07e74fbe01860a7[ALL] 02e0a31ff4fc32919c96b2cd16d3d7f8e0fc4c43965ef19968e9c5048b93ac8a0c',\n",
       "    'hex': '47304402207b220f198c22b52b502a045d107d8e04225000aa1e492939ff37315ea531a4d3022073488a05831c1a083b403a12cacd2d9f965e06f5790706afe07e74fbe01860a7012102e0a31ff4fc32919c96b2cd16d3d7f8e0fc4c43965ef19968e9c5048b93ac8a0c'},\n",
       "   'sequence': 4294967295,\n",
       "   'txid': 'f651d0b008ca45a91a85aea54a8faed89e007670d4de0a259e4000b3da5e22a0',\n",
       "   'vout': 0}],\n",
       " 'vout': [{'n': 0,\n",
       "   'scriptPubKey': {'addresses': ['miui9FSgjza5S2EsrjwgUX79CkdsJiBrbv'],\n",
       "    'asm': 'OP_DUP OP_HASH160 25362192e6c0abe76c2500460bcb2956552fcf26 OP_EQUALVERIFY OP_CHECKSIG',\n",
       "    'hex': '76a91425362192e6c0abe76c2500460bcb2956552fcf2688ac',\n",
       "    'reqSigs': 1,\n",
       "    'type': 'pubkeyhash'},\n",
       "   'value': Decimal('49.99000000')},\n",
       "  {'n': 1,\n",
       "   'scriptPubKey': {'addresses': ['mxs3Bqcj2B3TScGoPM6C3mFW719YNpCrWV'],\n",
       "    'asm': 'OP_DUP OP_HASH160 be468aba0985c13ffc27c8060a3304e79b495317 OP_EQUALVERIFY OP_CHECKSIG',\n",
       "    'hex': '76a914be468aba0985c13ffc27c8060a3304e79b49531788ac',\n",
       "    'reqSigs': 1,\n",
       "    'type': 'pubkeyhash'},\n",
       "   'value': Decimal('49.99000000')}],\n",
       " 'vsize': 373}"
      ]
     },
     "execution_count": 42,
     "metadata": {},
     "output_type": "execute_result"
    }
   ],
   "source": [
    "signed_tx = service.decoderawtransaction(signed_raw_tx)\n",
    "signed_tx"
   ]
  },
  {
   "cell_type": "markdown",
   "metadata": {},
   "source": [
    "## Offline Signing"
   ]
  },
  {
   "cell_type": "code",
   "execution_count": 43,
   "metadata": {},
   "outputs": [
    {
     "data": {
      "text/plain": [
       "'mgugTiTCv5ib1kSdz7Da73Fx6VvGJ1E4wQ'"
      ]
     },
     "execution_count": 43,
     "metadata": {},
     "output_type": "execute_result"
    }
   ],
   "source": [
    "addr = service.getnewaddress()\n",
    "addr"
   ]
  },
  {
   "cell_type": "code",
   "execution_count": 44,
   "metadata": {},
   "outputs": [
    {
     "data": {
      "text/plain": [
       "[{'txid': '9875022e730ea8fdf1b39d02ad5f7905596715f5693763b99fd3a244d64265bd',\n",
       "  'vout': 0}]"
      ]
     },
     "execution_count": 44,
     "metadata": {},
     "output_type": "execute_result"
    }
   ],
   "source": [
    "inputs = [\n",
    "    {\n",
    "        'txid': signed_tx['txid'],\n",
    "        'vout': 0\n",
    "    }\n",
    "]\n",
    "inputs"
   ]
  },
  {
   "cell_type": "code",
   "execution_count": 53,
   "metadata": {},
   "outputs": [
    {
     "data": {
      "text/plain": [
       "{'mgugTiTCv5ib1kSdz7Da73Fx6VvGJ1E4wQ': 49.989}"
      ]
     },
     "execution_count": 53,
     "metadata": {},
     "output_type": "execute_result"
    }
   ],
   "source": [
    "outputs = {\n",
    "    addr: 49.989\n",
    "}\n",
    "outputs"
   ]
  },
  {
   "cell_type": "code",
   "execution_count": 54,
   "metadata": {},
   "outputs": [
    {
     "data": {
      "text/plain": [
       "'0200000001bd6542d644a2d39fb9633769f515675905795fad029db3f1fda80e732e0275980000000000ffffffff012029f529010000001976a9140f4479cff21b7f29f2e0fd7abb0c0dbf8e1f0adf88ac00000000'"
      ]
     },
     "execution_count": 54,
     "metadata": {},
     "output_type": "execute_result"
    }
   ],
   "source": [
    "raw_tx = service.createrawtransaction(inputs, outputs)\n",
    "raw_tx"
   ]
  },
  {
   "cell_type": "code",
   "execution_count": 55,
   "metadata": {},
   "outputs": [
    {
     "data": {
      "text/plain": [
       "{'complete': True,\n",
       " 'hex': '0200000001bd6542d644a2d39fb9633769f515675905795fad029db3f1fda80e732e027598000000006a47304402206699723ec2027a91ed88ea8dd0ff5c0a564837d8a6a80425499718bde90480e602202ce0a3ea9e12637da3aa334b57d703f83b4a83b30b690633fa2ee30d2bf5609f012102ba6cc9e14f67dc13f0a2864e05232a4fa7bc441a7c85f3f19faabecec1b4b040ffffffff012029f529010000001976a9140f4479cff21b7f29f2e0fd7abb0c0dbf8e1f0adf88ac00000000'}"
      ]
     },
     "execution_count": 55,
     "metadata": {},
     "output_type": "execute_result"
    }
   ],
   "source": [
    "resp = service.signrawtransaction(raw_tx)\n",
    "resp"
   ]
  },
  {
   "cell_type": "code",
   "execution_count": 56,
   "metadata": {},
   "outputs": [],
   "source": [
    "prev_txs = [\n",
    "    {\n",
    "        'txid': signed_tx['txid'],\n",
    "        'vout': 0,\n",
    "        'scriptPubKey': signed_tx['vout'][0]['scriptPubKey']['hex']\n",
    "    }\n",
    "]"
   ]
  },
  {
   "cell_type": "code",
   "execution_count": 57,
   "metadata": {},
   "outputs": [
    {
     "data": {
      "text/plain": [
       "{'complete': True,\n",
       " 'hex': '0200000001bd6542d644a2d39fb9633769f515675905795fad029db3f1fda80e732e027598000000006a47304402206699723ec2027a91ed88ea8dd0ff5c0a564837d8a6a80425499718bde90480e602202ce0a3ea9e12637da3aa334b57d703f83b4a83b30b690633fa2ee30d2bf5609f012102ba6cc9e14f67dc13f0a2864e05232a4fa7bc441a7c85f3f19faabecec1b4b040ffffffff012029f529010000001976a9140f4479cff21b7f29f2e0fd7abb0c0dbf8e1f0adf88ac00000000'}"
      ]
     },
     "execution_count": 57,
     "metadata": {},
     "output_type": "execute_result"
    }
   ],
   "source": [
    "resp = service.signrawtransaction(raw_tx, prev_txs)\n",
    "resp"
   ]
  },
  {
   "cell_type": "code",
   "execution_count": 58,
   "metadata": {},
   "outputs": [
    {
     "data": {
      "text/plain": [
       "'9875022e730ea8fdf1b39d02ad5f7905596715f5693763b99fd3a244d64265bd'"
      ]
     },
     "execution_count": 58,
     "metadata": {},
     "output_type": "execute_result"
    }
   ],
   "source": [
    "service.sendrawtransaction(signed_raw_tx)"
   ]
  },
  {
   "cell_type": "code",
   "execution_count": 59,
   "metadata": {},
   "outputs": [],
   "source": [
    "signed_raw_tx2 = resp['hex']"
   ]
  },
  {
   "cell_type": "code",
   "execution_count": 60,
   "metadata": {},
   "outputs": [
    {
     "data": {
      "text/plain": [
       "'56bf12a19c9d7f92083dda35a862a45780b61d2f53fca8f6de075b925c8ba95c'"
      ]
     },
     "execution_count": 60,
     "metadata": {},
     "output_type": "execute_result"
    }
   ],
   "source": [
    "service.sendrawtransaction(signed_raw_tx2)"
   ]
  },
  {
   "cell_type": "markdown",
   "metadata": {},
   "source": [
    "## P2SH Multisig"
   ]
  },
  {
   "cell_type": "code",
   "execution_count": 61,
   "metadata": {},
   "outputs": [
    {
     "data": {
      "text/plain": [
       "('mmqhTzHqqFkFZjRgKmuyB42XbcBzsCVYAq',\n",
       " 'myQ5UDr9tpqmUW1Ekiigxks25tKZdkKDa3',\n",
       " 'n2FCKrRc6H1iueTeuadCygGd6w5RLyBSMS')"
      ]
     },
     "execution_count": 61,
     "metadata": {},
     "output_type": "execute_result"
    }
   ],
   "source": [
    "addr1 = service.getnewaddress()\n",
    "addr2 = service.getnewaddress()\n",
    "addr3 = service.getnewaddress()\n",
    "addr1, addr2, addr3"
   ]
  },
  {
   "cell_type": "code",
   "execution_count": 98,
   "metadata": {},
   "outputs": [
    {
     "data": {
      "text/plain": [
       "'023c683dd2a4cff63fe42c1c7d6fbca3954239a3e445b8c377952084a33d57dd02'"
      ]
     },
     "execution_count": 98,
     "metadata": {},
     "output_type": "execute_result"
    }
   ],
   "source": [
    "resp = service.validateaddress(addr3)\n",
    "pubkey3 = resp['pubkey']\n",
    "pubkey3"
   ]
  },
  {
   "cell_type": "code",
   "execution_count": 99,
   "metadata": {},
   "outputs": [
    {
     "data": {
      "text/plain": [
       "{'address': '2My29yMYnYhjtyAGRYP6C9bgdYkuRxSx66L',\n",
       " 'redeemScript': '522102482afcd14a3775d03b74f3008fa57ad9800bfdf97f44299ee109c2a8262ad98121035c6149e6591c323531d567983cde95830928c9133b1828c6e81abf2d1b66025221023c683dd2a4cff63fe42c1c7d6fbca3954239a3e445b8c377952084a33d57dd0253ae'}"
      ]
     },
     "execution_count": 99,
     "metadata": {},
     "output_type": "execute_result"
    }
   ],
   "source": [
    "multisig = service.createmultisig(2, [addr1, addr2, pubkey3])\n",
    "multisig"
   ]
  },
  {
   "cell_type": "code",
   "execution_count": 100,
   "metadata": {},
   "outputs": [
    {
     "data": {
      "text/plain": [
       "'e98a324eb4b8835b46731497a5773f8fc725a386cae6a5895c35d10b49ec3192'"
      ]
     },
     "execution_count": 100,
     "metadata": {},
     "output_type": "execute_result"
    }
   ],
   "source": [
    "txid = service.sendtoaddress(multisig['address'], 10.0)\n",
    "txid"
   ]
  },
  {
   "cell_type": "code",
   "execution_count": 101,
   "metadata": {},
   "outputs": [
    {
     "data": {
      "text/plain": [
       "{'hash': 'e98a324eb4b8835b46731497a5773f8fc725a386cae6a5895c35d10b49ec3192',\n",
       " 'hex': '0200000001f4ee71863b47ebb0bb62e7df1038ce873b8b5f11c92a908af47b72cc9322fb61000000006a47304402205edf91a0dc950d029f92783ce1b1d93b18f3a9cdf0faf15c9769a48ea1fbcef902205d0d5bf533953469759e0cbfd23d706594a1be4c9c9c2c40ae30dee5b60f4944012102cbff63c073efe62c124d1919226e85195d018f9e0d51c1dcbf93a4c0ca8fd515feffffff0200ca9a3b0000000017a9143f57feab26bb49784ef53a1d457b7cc4a752ebe087585f3577000000001976a914eabc5353ce639d8792e0a63a28974adcb26ee4ee88ac67000000',\n",
       " 'locktime': 103,\n",
       " 'size': 223,\n",
       " 'txid': 'e98a324eb4b8835b46731497a5773f8fc725a386cae6a5895c35d10b49ec3192',\n",
       " 'version': 2,\n",
       " 'vin': [{'scriptSig': {'asm': '304402205edf91a0dc950d029f92783ce1b1d93b18f3a9cdf0faf15c9769a48ea1fbcef902205d0d5bf533953469759e0cbfd23d706594a1be4c9c9c2c40ae30dee5b60f4944[ALL] 02cbff63c073efe62c124d1919226e85195d018f9e0d51c1dcbf93a4c0ca8fd515',\n",
       "    'hex': '47304402205edf91a0dc950d029f92783ce1b1d93b18f3a9cdf0faf15c9769a48ea1fbcef902205d0d5bf533953469759e0cbfd23d706594a1be4c9c9c2c40ae30dee5b60f4944012102cbff63c073efe62c124d1919226e85195d018f9e0d51c1dcbf93a4c0ca8fd515'},\n",
       "   'sequence': 4294967294,\n",
       "   'txid': '61fb2293cc727bf48a902ac9115f8b3b87ce3810dfe762bbb0eb473b8671eef4',\n",
       "   'vout': 0}],\n",
       " 'vout': [{'n': 0,\n",
       "   'scriptPubKey': {'addresses': ['2My29yMYnYhjtyAGRYP6C9bgdYkuRxSx66L'],\n",
       "    'asm': 'OP_HASH160 3f57feab26bb49784ef53a1d457b7cc4a752ebe0 OP_EQUAL',\n",
       "    'hex': 'a9143f57feab26bb49784ef53a1d457b7cc4a752ebe087',\n",
       "    'reqSigs': 1,\n",
       "    'type': 'scripthash'},\n",
       "   'value': Decimal('10.00000000')},\n",
       "  {'n': 1,\n",
       "   'scriptPubKey': {'addresses': ['n2v822Y789wFiPk5v6XtD4NRpnYG8Q4x52'],\n",
       "    'asm': 'OP_DUP OP_HASH160 eabc5353ce639d8792e0a63a28974adcb26ee4ee OP_EQUALVERIFY OP_CHECKSIG',\n",
       "    'hex': '76a914eabc5353ce639d8792e0a63a28974adcb26ee4ee88ac',\n",
       "    'reqSigs': 1,\n",
       "    'type': 'pubkeyhash'},\n",
       "   'value': Decimal('19.99986520')}],\n",
       " 'vsize': 223}"
      ]
     },
     "execution_count": 101,
     "metadata": {},
     "output_type": "execute_result"
    }
   ],
   "source": [
    "tx_obj = service.getrawtransaction(txid, 1)\n",
    "tx_obj"
   ]
  },
  {
   "cell_type": "code",
   "execution_count": 102,
   "metadata": {},
   "outputs": [
    {
     "data": {
      "text/plain": [
       "'mjjy43wHLMeoGy78Ju8DF9hBWZM1qyRss6'"
      ]
     },
     "execution_count": 102,
     "metadata": {},
     "output_type": "execute_result"
    }
   ],
   "source": [
    "addr4 = service.getnewaddress()\n",
    "addr4"
   ]
  },
  {
   "cell_type": "code",
   "execution_count": 103,
   "metadata": {},
   "outputs": [
    {
     "data": {
      "text/plain": [
       "[{'txid': 'e98a324eb4b8835b46731497a5773f8fc725a386cae6a5895c35d10b49ec3192',\n",
       "  'vout': 0}]"
      ]
     },
     "execution_count": 103,
     "metadata": {},
     "output_type": "execute_result"
    }
   ],
   "source": [
    "inputs = [\n",
    "    {\n",
    "        'txid': tx_obj['txid'],\n",
    "        'vout': 0\n",
    "    }\n",
    "]\n",
    "inputs"
   ]
  },
  {
   "cell_type": "code",
   "execution_count": 104,
   "metadata": {},
   "outputs": [],
   "source": [
    "outputs = {\n",
    "    addr4: 9.999\n",
    "}"
   ]
  },
  {
   "cell_type": "code",
   "execution_count": 105,
   "metadata": {},
   "outputs": [
    {
     "data": {
      "text/plain": [
       "'02000000019231ec490bd1355c89a5e6ca86a325c78f3f77a5971473465b83b8b44e328ae90000000000ffffffff016043993b000000001976a9142e568b3aca5284dabb37107d2fdcefbb8aad851e88ac00000000'"
      ]
     },
     "execution_count": 105,
     "metadata": {},
     "output_type": "execute_result"
    }
   ],
   "source": [
    "raw_tx = service.createrawtransaction(inputs, outputs)\n",
    "raw_tx"
   ]
  },
  {
   "cell_type": "code",
   "execution_count": 106,
   "metadata": {},
   "outputs": [
    {
     "data": {
      "text/plain": [
       "('cSZzXVTZRmU3ZL2Cr5vfowNFkDUDWfv1wQ2XoxXpyd2Vdosw12HX',\n",
       " 'cPKPb15uHXFHiw1xqGg2LB7duGHkLH9VcEQWvAueW1gP7ZuKxLBV')"
      ]
     },
     "execution_count": 106,
     "metadata": {},
     "output_type": "execute_result"
    }
   ],
   "source": [
    "secret1 = service.dumpprivkey(addr1)\n",
    "secret3 = service.dumpprivkey(addr3)\n",
    "secret1, secret3"
   ]
  },
  {
   "cell_type": "code",
   "execution_count": 107,
   "metadata": {},
   "outputs": [
    {
     "data": {
      "text/plain": [
       "[{'redeemScript': '522102482afcd14a3775d03b74f3008fa57ad9800bfdf97f44299ee109c2a8262ad98121035c6149e6591c323531d567983cde95830928c9133b1828c6e81abf2d1b66025221023c683dd2a4cff63fe42c1c7d6fbca3954239a3e445b8c377952084a33d57dd0253ae',\n",
       "  'scriptPubKey': 'a9143f57feab26bb49784ef53a1d457b7cc4a752ebe087',\n",
       "  'txid': 'e98a324eb4b8835b46731497a5773f8fc725a386cae6a5895c35d10b49ec3192',\n",
       "  'vout': 0}]"
      ]
     },
     "execution_count": 107,
     "metadata": {},
     "output_type": "execute_result"
    }
   ],
   "source": [
    "prev_txs = [\n",
    "    {\n",
    "        'txid': tx_obj['txid'], \n",
    "        'vout': 0, \n",
    "        'scriptPubKey': tx_obj['vout'][0]['scriptPubKey']['hex'], \n",
    "        'redeemScript': multisig['redeemScript']\n",
    "      }\n",
    "]\n",
    "prev_txs"
   ]
  },
  {
   "cell_type": "code",
   "execution_count": 108,
   "metadata": {},
   "outputs": [
    {
     "data": {
      "text/plain": [
       "{'complete': False,\n",
       " 'errors': [{'error': 'Operation not valid with the current stack size',\n",
       "   'scriptSig': '0047304402206280be9dde8556973b952eb4fb8c3b15b77d2497bb90e14aedc9c065e47f4d430220519c14edf09c72f2dbca4c258b927d0f50f06777b62403b6a47a676871594b46014c69522102482afcd14a3775d03b74f3008fa57ad9800bfdf97f44299ee109c2a8262ad98121035c6149e6591c323531d567983cde95830928c9133b1828c6e81abf2d1b66025221023c683dd2a4cff63fe42c1c7d6fbca3954239a3e445b8c377952084a33d57dd0253ae',\n",
       "   'sequence': 4294967295,\n",
       "   'txid': 'e98a324eb4b8835b46731497a5773f8fc725a386cae6a5895c35d10b49ec3192',\n",
       "   'vout': 0,\n",
       "   'witness': []}],\n",
       " 'hex': '02000000019231ec490bd1355c89a5e6ca86a325c78f3f77a5971473465b83b8b44e328ae900000000b40047304402206280be9dde8556973b952eb4fb8c3b15b77d2497bb90e14aedc9c065e47f4d430220519c14edf09c72f2dbca4c258b927d0f50f06777b62403b6a47a676871594b46014c69522102482afcd14a3775d03b74f3008fa57ad9800bfdf97f44299ee109c2a8262ad98121035c6149e6591c323531d567983cde95830928c9133b1828c6e81abf2d1b66025221023c683dd2a4cff63fe42c1c7d6fbca3954239a3e445b8c377952084a33d57dd0253aeffffffff016043993b000000001976a9142e568b3aca5284dabb37107d2fdcefbb8aad851e88ac00000000'}"
      ]
     },
     "execution_count": 108,
     "metadata": {},
     "output_type": "execute_result"
    }
   ],
   "source": [
    "resp = service.signrawtransaction(raw_tx, prev_txs, [secret1])\n",
    "partial_signed_raw_tx = resp['hex']\n",
    "resp"
   ]
  },
  {
   "cell_type": "code",
   "execution_count": 110,
   "metadata": {},
   "outputs": [
    {
     "data": {
      "text/plain": [
       "{'complete': True,\n",
       " 'hex': '02000000019231ec490bd1355c89a5e6ca86a325c78f3f77a5971473465b83b8b44e328ae900000000fc0047304402206280be9dde8556973b952eb4fb8c3b15b77d2497bb90e14aedc9c065e47f4d430220519c14edf09c72f2dbca4c258b927d0f50f06777b62403b6a47a676871594b460147304402206eb27e17f0dcba7d5a2c37a87c65adce5cbd3229d57dcbbfc161b5aa717860400220437986cab2360d7d33f066385e10b380616d7be38f185e29a3f4fdbce3b77f40014c69522102482afcd14a3775d03b74f3008fa57ad9800bfdf97f44299ee109c2a8262ad98121035c6149e6591c323531d567983cde95830928c9133b1828c6e81abf2d1b66025221023c683dd2a4cff63fe42c1c7d6fbca3954239a3e445b8c377952084a33d57dd0253aeffffffff016043993b000000001976a9142e568b3aca5284dabb37107d2fdcefbb8aad851e88ac00000000'}"
      ]
     },
     "execution_count": 110,
     "metadata": {},
     "output_type": "execute_result"
    }
   ],
   "source": [
    "resp = service.signrawtransaction(partial_signed_raw_tx, prev_txs, [secret3])\n",
    "signed_raw = resp['hex']\n",
    "resp"
   ]
  },
  {
   "cell_type": "code",
   "execution_count": 114,
   "metadata": {},
   "outputs": [
    {
     "data": {
      "text/plain": [
       "'497405713e6c094663245d28f465045e982cfece36d9b5a24bbcd9c68bad7952'"
      ]
     },
     "execution_count": 114,
     "metadata": {},
     "output_type": "execute_result"
    }
   ],
   "source": [
    "txid = service.sendrawtransaction(signed_raw)\n",
    "txid"
   ]
  },
  {
   "cell_type": "code",
   "execution_count": 116,
   "metadata": {},
   "outputs": [
    {
     "data": {
      "text/plain": [
       "{'hash': '497405713e6c094663245d28f465045e982cfece36d9b5a24bbcd9c68bad7952',\n",
       " 'hex': '02000000019231ec490bd1355c89a5e6ca86a325c78f3f77a5971473465b83b8b44e328ae900000000fc0047304402206280be9dde8556973b952eb4fb8c3b15b77d2497bb90e14aedc9c065e47f4d430220519c14edf09c72f2dbca4c258b927d0f50f06777b62403b6a47a676871594b460147304402206eb27e17f0dcba7d5a2c37a87c65adce5cbd3229d57dcbbfc161b5aa717860400220437986cab2360d7d33f066385e10b380616d7be38f185e29a3f4fdbce3b77f40014c69522102482afcd14a3775d03b74f3008fa57ad9800bfdf97f44299ee109c2a8262ad98121035c6149e6591c323531d567983cde95830928c9133b1828c6e81abf2d1b66025221023c683dd2a4cff63fe42c1c7d6fbca3954239a3e445b8c377952084a33d57dd0253aeffffffff016043993b000000001976a9142e568b3aca5284dabb37107d2fdcefbb8aad851e88ac00000000',\n",
       " 'locktime': 0,\n",
       " 'size': 337,\n",
       " 'txid': '497405713e6c094663245d28f465045e982cfece36d9b5a24bbcd9c68bad7952',\n",
       " 'version': 2,\n",
       " 'vin': [{'scriptSig': {'asm': '0 304402206280be9dde8556973b952eb4fb8c3b15b77d2497bb90e14aedc9c065e47f4d430220519c14edf09c72f2dbca4c258b927d0f50f06777b62403b6a47a676871594b46[ALL] 304402206eb27e17f0dcba7d5a2c37a87c65adce5cbd3229d57dcbbfc161b5aa717860400220437986cab2360d7d33f066385e10b380616d7be38f185e29a3f4fdbce3b77f40[ALL] 522102482afcd14a3775d03b74f3008fa57ad9800bfdf97f44299ee109c2a8262ad98121035c6149e6591c323531d567983cde95830928c9133b1828c6e81abf2d1b66025221023c683dd2a4cff63fe42c1c7d6fbca3954239a3e445b8c377952084a33d57dd0253ae',\n",
       "    'hex': '0047304402206280be9dde8556973b952eb4fb8c3b15b77d2497bb90e14aedc9c065e47f4d430220519c14edf09c72f2dbca4c258b927d0f50f06777b62403b6a47a676871594b460147304402206eb27e17f0dcba7d5a2c37a87c65adce5cbd3229d57dcbbfc161b5aa717860400220437986cab2360d7d33f066385e10b380616d7be38f185e29a3f4fdbce3b77f40014c69522102482afcd14a3775d03b74f3008fa57ad9800bfdf97f44299ee109c2a8262ad98121035c6149e6591c323531d567983cde95830928c9133b1828c6e81abf2d1b66025221023c683dd2a4cff63fe42c1c7d6fbca3954239a3e445b8c377952084a33d57dd0253ae'},\n",
       "   'sequence': 4294967295,\n",
       "   'txid': 'e98a324eb4b8835b46731497a5773f8fc725a386cae6a5895c35d10b49ec3192',\n",
       "   'vout': 0}],\n",
       " 'vout': [{'n': 0,\n",
       "   'scriptPubKey': {'addresses': ['mjjy43wHLMeoGy78Ju8DF9hBWZM1qyRss6'],\n",
       "    'asm': 'OP_DUP OP_HASH160 2e568b3aca5284dabb37107d2fdcefbb8aad851e OP_EQUALVERIFY OP_CHECKSIG',\n",
       "    'hex': '76a9142e568b3aca5284dabb37107d2fdcefbb8aad851e88ac',\n",
       "    'reqSigs': 1,\n",
       "    'type': 'pubkeyhash'},\n",
       "   'value': Decimal('9.99900000')}],\n",
       " 'vsize': 337}"
      ]
     },
     "execution_count": 116,
     "metadata": {},
     "output_type": "execute_result"
    }
   ],
   "source": [
    "service.getrawtransaction(txid, 1)"
   ]
  },
  {
   "cell_type": "markdown",
   "metadata": {},
   "source": [
    "## Debug"
   ]
  },
  {
   "cell_type": "code",
   "execution_count": 118,
   "metadata": {},
   "outputs": [
    {
     "data": {
      "text/plain": [
       "{'hash': '16ae89fec61792e9015bfb3fced5f296e4c3b71c36e1cbe00266ffd4e9a5c46e',\n",
       " 'hex': '01000000015279ad8bc6d9bc4ba2b5d936cefe2c985e0465f4285d246346096c3e71057449000000006a47304402205d0e0daf0d3733c9fa787dbe2455a6b927408d59ffc39efe65bb671a1ce93b1502205896d19ac9b154fd38a167f06e55d432af6aa80c3130ca40f32cc75993df3f14012102ff97629efcb01518a6a5a41a40c6b2fbb93e9c726ebfe84b2b022189b71e4a2c01000000018033023b000000002a046ac0ef59b1752102b568858a407a8721923b89df9963d30013639ac690cce5f555529b77b83cbfc7ac00000000',\n",
       " 'locktime': 0,\n",
       " 'size': 208,\n",
       " 'txid': '16ae89fec61792e9015bfb3fced5f296e4c3b71c36e1cbe00266ffd4e9a5c46e',\n",
       " 'version': 1,\n",
       " 'vin': [{'scriptSig': {'asm': '304402205d0e0daf0d3733c9fa787dbe2455a6b927408d59ffc39efe65bb671a1ce93b1502205896d19ac9b154fd38a167f06e55d432af6aa80c3130ca40f32cc75993df3f14[ALL] 02ff97629efcb01518a6a5a41a40c6b2fbb93e9c726ebfe84b2b022189b71e4a2c',\n",
       "    'hex': '47304402205d0e0daf0d3733c9fa787dbe2455a6b927408d59ffc39efe65bb671a1ce93b1502205896d19ac9b154fd38a167f06e55d432af6aa80c3130ca40f32cc75993df3f14012102ff97629efcb01518a6a5a41a40c6b2fbb93e9c726ebfe84b2b022189b71e4a2c'},\n",
       "   'sequence': 1,\n",
       "   'txid': '497405713e6c094663245d28f465045e982cfece36d9b5a24bbcd9c68bad7952',\n",
       "   'vout': 0}],\n",
       " 'vout': [{'n': 0,\n",
       "   'scriptPubKey': {'asm': '1508884586 OP_CHECKLOCKTIMEVERIFY OP_DROP 02b568858a407a8721923b89df9963d30013639ac690cce5f555529b77b83cbfc7 OP_CHECKSIG',\n",
       "    'hex': '046ac0ef59b1752102b568858a407a8721923b89df9963d30013639ac690cce5f555529b77b83cbfc7ac',\n",
       "    'type': 'nonstandard'},\n",
       "   'value': Decimal('9.90000000')}],\n",
       " 'vsize': 208}"
      ]
     },
     "execution_count": 118,
     "metadata": {},
     "output_type": "execute_result"
    }
   ],
   "source": [
    "service.getrawtransaction('16ae89fec61792e9015bfb3fced5f296e4c3b71c36e1cbe00266ffd4e9a5c46e', 1)"
   ]
  },
  {
   "cell_type": "code",
   "execution_count": 136,
   "metadata": {},
   "outputs": [],
   "source": [
    "_ = service.generate(100)"
   ]
  },
  {
   "cell_type": "code",
   "execution_count": 149,
   "metadata": {},
   "outputs": [
    {
     "ename": "JSONRPCException",
     "evalue": "-5: Invalid or non-wallet transaction id",
     "output_type": "error",
     "traceback": [
      "\u001b[0;31m-------------------------------------------\u001b[0m",
      "\u001b[0;31mJSONRPCException\u001b[0mTraceback (most recent call last)",
      "\u001b[0;32m<ipython-input-149-8b0c523f14dd>\u001b[0m in \u001b[0;36m<module>\u001b[0;34m()\u001b[0m\n\u001b[0;32m----> 1\u001b[0;31m \u001b[0mservice\u001b[0m\u001b[0;34m.\u001b[0m\u001b[0mgettransaction\u001b[0m\u001b[0;34m(\u001b[0m\u001b[0;34m'cacb91e8ddab354d0a67016859d57700ed691da8bd3587fe3b8fb0747608338a'\u001b[0m\u001b[0;34m)\u001b[0m\u001b[0;34m\u001b[0m\u001b[0m\n\u001b[0m",
      "\u001b[0;32m~/src/playground/bitcoin/.venv3/lib/python3.6/site-packages/bitcoinrpc/authproxy.py\u001b[0m in \u001b[0;36m__call__\u001b[0;34m(self, *args)\u001b[0m\n\u001b[1;32m    139\u001b[0m         \u001b[0mresponse\u001b[0m \u001b[0;34m=\u001b[0m \u001b[0mself\u001b[0m\u001b[0;34m.\u001b[0m\u001b[0m_get_response\u001b[0m\u001b[0;34m(\u001b[0m\u001b[0;34m)\u001b[0m\u001b[0;34m\u001b[0m\u001b[0m\n\u001b[1;32m    140\u001b[0m         \u001b[0;32mif\u001b[0m \u001b[0mresponse\u001b[0m\u001b[0;34m.\u001b[0m\u001b[0mget\u001b[0m\u001b[0;34m(\u001b[0m\u001b[0;34m'error'\u001b[0m\u001b[0;34m)\u001b[0m \u001b[0;32mis\u001b[0m \u001b[0;32mnot\u001b[0m \u001b[0;32mNone\u001b[0m\u001b[0;34m:\u001b[0m\u001b[0;34m\u001b[0m\u001b[0m\n\u001b[0;32m--> 141\u001b[0;31m             \u001b[0;32mraise\u001b[0m \u001b[0mJSONRPCException\u001b[0m\u001b[0;34m(\u001b[0m\u001b[0mresponse\u001b[0m\u001b[0;34m[\u001b[0m\u001b[0;34m'error'\u001b[0m\u001b[0;34m]\u001b[0m\u001b[0;34m)\u001b[0m\u001b[0;34m\u001b[0m\u001b[0m\n\u001b[0m\u001b[1;32m    142\u001b[0m         \u001b[0;32melif\u001b[0m \u001b[0;34m'result'\u001b[0m \u001b[0;32mnot\u001b[0m \u001b[0;32min\u001b[0m \u001b[0mresponse\u001b[0m\u001b[0;34m:\u001b[0m\u001b[0;34m\u001b[0m\u001b[0m\n\u001b[1;32m    143\u001b[0m             raise JSONRPCException({\n",
      "\u001b[0;31mJSONRPCException\u001b[0m: -5: Invalid or non-wallet transaction id"
     ]
    }
   ],
   "source": [
    "service.gettransaction('cacb91e8ddab354d0a67016859d57700ed691da8bd3587fe3b8fb0747608338a')"
   ]
  },
  {
   "cell_type": "code",
   "execution_count": 132,
   "metadata": {},
   "outputs": [
    {
     "data": {
      "text/plain": [
       "{'balance': Decimal('5230.10000000'),\n",
       " 'blocks': 205,\n",
       " 'connections': 0,\n",
       " 'deprecation-warning': 'WARNING: getinfo is deprecated and will be fully removed in 0.16. Projects should transition to using getblockchaininfo, getnetworkinfo, and getwalletinfo before upgrading to 0.16',\n",
       " 'difficulty': Decimal('4.656542373906925E-10'),\n",
       " 'errors': '',\n",
       " 'keypoololdest': 1508612144,\n",
       " 'keypoolsize': 1999,\n",
       " 'paytxfee': Decimal('0E-8'),\n",
       " 'protocolversion': 70015,\n",
       " 'proxy': '',\n",
       " 'relayfee': Decimal('0.00001000'),\n",
       " 'testnet': False,\n",
       " 'timeoffset': 0,\n",
       " 'version': 150001,\n",
       " 'walletversion': 139900}"
      ]
     },
     "execution_count": 132,
     "metadata": {},
     "output_type": "execute_result"
    }
   ],
   "source": [
    "service.getinfo()"
   ]
  },
  {
   "cell_type": "code",
   "execution_count": 133,
   "metadata": {},
   "outputs": [
    {
     "data": {
      "text/plain": [
       "{'bits': '207fffff',\n",
       " 'chainwork': '000000000000000000000000000000000000000000000000000000000000019c',\n",
       " 'confirmations': 1,\n",
       " 'difficulty': Decimal('4.656542373906925E-10'),\n",
       " 'hash': '4c3523ed9bd48c2d99a4cf2a900906d3f2964853ac3a1bc0e03fcd4eb2fb8d7b',\n",
       " 'height': 205,\n",
       " 'mediantime': 1508897661,\n",
       " 'merkleroot': 'a7a98c584fc5601dd2b90c57f9f391cead06cf5f2775be1f482b49cabc8aa3a8',\n",
       " 'nonce': 0,\n",
       " 'previousblockhash': '1d059278faa6f93d16f47447bbb47cbb2cf6430ffc78dce022429c5ea22d9581',\n",
       " 'size': 228,\n",
       " 'strippedsize': 228,\n",
       " 'time': 1508897662,\n",
       " 'tx': ['a7a98c584fc5601dd2b90c57f9f391cead06cf5f2775be1f482b49cabc8aa3a8'],\n",
       " 'version': 805306371,\n",
       " 'versionHex': '30000003',\n",
       " 'weight': 912}"
      ]
     },
     "execution_count": 133,
     "metadata": {},
     "output_type": "execute_result"
    }
   ],
   "source": [
    "service.getblock(service.getblockhash(205))"
   ]
  },
  {
   "cell_type": "code",
   "execution_count": null,
   "metadata": {},
   "outputs": [],
   "source": []
  }
 ],
 "metadata": {
  "kernelspec": {
   "display_name": "Python 3",
   "language": "python",
   "name": "python3"
  },
  "language_info": {
   "codemirror_mode": {
    "name": "ipython",
    "version": 3
   },
   "file_extension": ".py",
   "mimetype": "text/x-python",
   "name": "python",
   "nbconvert_exporter": "python",
   "pygments_lexer": "ipython3",
   "version": "3.6.2"
  }
 },
 "nbformat": 4,
 "nbformat_minor": 2
}
